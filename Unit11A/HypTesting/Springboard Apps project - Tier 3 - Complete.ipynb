{
 "cells": [
  {
   "cell_type": "markdown",
   "metadata": {
    "colab_type": "text",
    "id": "i2RUFW7TFcuh"
   },
   "source": [
    "# Springboard Apps project - Tier 3 - Complete\n",
    "\n",
    "Welcome to the Apps project! To give you a taste of your future career, we're going to walk through exactly the kind of notebook that you'd write as a data scientist. In the process, we'll be sure to signpost the general framework for our investigation - the Data Science Pipeline - as well as give reasons for why we're doing what we're doing. We're also going to apply some of the skills and knowledge you've built up in the previous unit when reading Professor Spiegelhalter's *The Art of Statistics* (hereinafter *AoS*). \n",
    "\n",
    "So let's get cracking!\n",
    "\n",
    "**Brief**\n",
    "\n",
    "Did Apple Store apps receive better reviews than Google Play apps?\n",
    "\n",
    "## Stages of the project\n",
    "\n",
    "1. Sourcing and loading \n",
    "    * Load the two datasets\n",
    "    * Pick the columns that we are going to work with \n",
    "    * Subsetting the data on this basis \n",
    " \n",
    " \n",
    "2. Cleaning, transforming and visualizing\n",
    "    * Check the data types and fix them\n",
    "    * Add a `platform` column to both the `Apple` and the `Google` dataframes\n",
    "    * Changing the column names to prepare for a join \n",
    "    * Join the two data sets\n",
    "    * Eliminate the `NaN` values\n",
    "    * Filter only those apps that have been reviewed at least once\n",
    "    * Summarize the data visually and analytically (by the column `platform`)  \n",
    "  \n",
    "  \n",
    "3. Modelling \n",
    "    * Hypothesis formulation\n",
    "    * Getting the distribution of the data\n",
    "    * Permutation test \n",
    "\n",
    "\n",
    "4. Evaluating and concluding \n",
    "    * What is our conclusion?\n",
    "    * What is our decision?\n",
    "    * Other models we could have used. \n",
    "    "
   ]
  },
  {
   "cell_type": "markdown",
   "metadata": {
    "colab_type": "text",
    "id": "QLUAXtl1Fcuk"
   },
   "source": [
    "## Importing the libraries\n",
    "\n",
    "In this case we are going to import pandas, numpy, scipy, random and matplotlib.pyplot"
   ]
  },
  {
   "cell_type": "code",
   "execution_count": 1,
   "metadata": {
    "colab": {},
    "colab_type": "code",
    "id": "XeXJOlGiFcum"
   },
   "outputs": [],
   "source": [
    "import pandas as pd\n",
    "import numpy as np\n",
    "import matplotlib.pyplot as plt\n",
    "# scipi is a library for statistical tests and visualizations \n",
    "from scipy import stats\n",
    "# random enables us to generate random numbers\n",
    "import random"
   ]
  },
  {
   "cell_type": "markdown",
   "metadata": {
    "colab_type": "text",
    "id": "zVD7NlPAFcup"
   },
   "source": [
    "## Stage 1 -  Sourcing and loading data"
   ]
  },
  {
   "cell_type": "markdown",
   "metadata": {
    "colab_type": "text",
    "id": "KU8bdbImFcuq"
   },
   "source": [
    "### 1a. Source and load the data\n",
    "Let's download the data from Kaggle. Kaggle is a fantastic resource: a kind of social medium for data scientists, it boasts projects, datasets and news on the freshest libraries and technologies all in one place. The data from the Apple Store can be found [here](https://www.kaggle.com/ramamet4/app-store-apple-data-set-10k-apps) and the data from Google Store can be found [here](https://www.kaggle.com/lava18/google-play-store-apps).\n",
    "Download the datasets and save them in your working directory."
   ]
  },
  {
   "cell_type": "code",
   "execution_count": 163,
   "metadata": {
    "colab": {},
    "colab_type": "code",
    "id": "laM1PB76Fcur"
   },
   "outputs": [
    {
     "data": {
      "text/html": [
       "<div>\n",
       "<style scoped>\n",
       "    .dataframe tbody tr th:only-of-type {\n",
       "        vertical-align: middle;\n",
       "    }\n",
       "\n",
       "    .dataframe tbody tr th {\n",
       "        vertical-align: top;\n",
       "    }\n",
       "\n",
       "    .dataframe thead th {\n",
       "        text-align: right;\n",
       "    }\n",
       "</style>\n",
       "<table border=\"1\" class=\"dataframe\">\n",
       "  <thead>\n",
       "    <tr style=\"text-align: right;\">\n",
       "      <th></th>\n",
       "      <th>App</th>\n",
       "      <th>Category</th>\n",
       "      <th>Rating</th>\n",
       "      <th>Reviews</th>\n",
       "      <th>Size</th>\n",
       "      <th>Installs</th>\n",
       "      <th>Type</th>\n",
       "      <th>Price</th>\n",
       "      <th>Content Rating</th>\n",
       "      <th>Genres</th>\n",
       "      <th>Last Updated</th>\n",
       "      <th>Current Ver</th>\n",
       "      <th>Android Ver</th>\n",
       "    </tr>\n",
       "  </thead>\n",
       "  <tbody>\n",
       "    <tr>\n",
       "      <th>0</th>\n",
       "      <td>Photo Editor &amp; Candy Camera &amp; Grid &amp; ScrapBook</td>\n",
       "      <td>ART_AND_DESIGN</td>\n",
       "      <td>4.1</td>\n",
       "      <td>159</td>\n",
       "      <td>19M</td>\n",
       "      <td>10,000+</td>\n",
       "      <td>Free</td>\n",
       "      <td>0</td>\n",
       "      <td>Everyone</td>\n",
       "      <td>Art &amp; Design</td>\n",
       "      <td>January 7, 2018</td>\n",
       "      <td>1.0.0</td>\n",
       "      <td>4.0.3 and up</td>\n",
       "    </tr>\n",
       "    <tr>\n",
       "      <th>1</th>\n",
       "      <td>Coloring book moana</td>\n",
       "      <td>ART_AND_DESIGN</td>\n",
       "      <td>3.9</td>\n",
       "      <td>967</td>\n",
       "      <td>14M</td>\n",
       "      <td>500,000+</td>\n",
       "      <td>Free</td>\n",
       "      <td>0</td>\n",
       "      <td>Everyone</td>\n",
       "      <td>Art &amp; Design;Pretend Play</td>\n",
       "      <td>January 15, 2018</td>\n",
       "      <td>2.0.0</td>\n",
       "      <td>4.0.3 and up</td>\n",
       "    </tr>\n",
       "    <tr>\n",
       "      <th>2</th>\n",
       "      <td>U Launcher Lite – FREE Live Cool Themes, Hide ...</td>\n",
       "      <td>ART_AND_DESIGN</td>\n",
       "      <td>4.7</td>\n",
       "      <td>87510</td>\n",
       "      <td>8.7M</td>\n",
       "      <td>5,000,000+</td>\n",
       "      <td>Free</td>\n",
       "      <td>0</td>\n",
       "      <td>Everyone</td>\n",
       "      <td>Art &amp; Design</td>\n",
       "      <td>August 1, 2018</td>\n",
       "      <td>1.2.4</td>\n",
       "      <td>4.0.3 and up</td>\n",
       "    </tr>\n",
       "  </tbody>\n",
       "</table>\n",
       "</div>"
      ],
      "text/plain": [
       "                                                 App        Category  Rating  \\\n",
       "0     Photo Editor & Candy Camera & Grid & ScrapBook  ART_AND_DESIGN     4.1   \n",
       "1                                Coloring book moana  ART_AND_DESIGN     3.9   \n",
       "2  U Launcher Lite – FREE Live Cool Themes, Hide ...  ART_AND_DESIGN     4.7   \n",
       "\n",
       "  Reviews  Size    Installs  Type Price Content Rating  \\\n",
       "0     159   19M     10,000+  Free     0       Everyone   \n",
       "1     967   14M    500,000+  Free     0       Everyone   \n",
       "2   87510  8.7M  5,000,000+  Free     0       Everyone   \n",
       "\n",
       "                      Genres      Last Updated Current Ver   Android Ver  \n",
       "0               Art & Design   January 7, 2018       1.0.0  4.0.3 and up  \n",
       "1  Art & Design;Pretend Play  January 15, 2018       2.0.0  4.0.3 and up  \n",
       "2               Art & Design    August 1, 2018       1.2.4  4.0.3 and up  "
      ]
     },
     "execution_count": 163,
     "metadata": {},
     "output_type": "execute_result"
    }
   ],
   "source": [
    "# Now that the files are saved, we want to load them into Python using read_csv and pandas.\n",
    "\n",
    "# Create a variable called google, and store in it the path of the csv file that contains your google dataset. \n",
    "# If your dataset is in the same folder as this notebook, the path will simply be the name of the file. \n",
    "google = 'googleplaystore.csv'\n",
    "\n",
    "# Read the csv file into a data frame called Google using the read_csv() pandas method.\n",
    "Google = pd.read_csv(google)\n",
    "\n",
    "# Using the head() pandas method, observe the first three entries.\n",
    "Google.head(3)"
   ]
  },
  {
   "cell_type": "code",
   "execution_count": 164,
   "metadata": {
    "colab": {},
    "colab_type": "code",
    "id": "3AW8EA1wFcuu"
   },
   "outputs": [
    {
     "data": {
      "text/html": [
       "<div>\n",
       "<style scoped>\n",
       "    .dataframe tbody tr th:only-of-type {\n",
       "        vertical-align: middle;\n",
       "    }\n",
       "\n",
       "    .dataframe tbody tr th {\n",
       "        vertical-align: top;\n",
       "    }\n",
       "\n",
       "    .dataframe thead th {\n",
       "        text-align: right;\n",
       "    }\n",
       "</style>\n",
       "<table border=\"1\" class=\"dataframe\">\n",
       "  <thead>\n",
       "    <tr style=\"text-align: right;\">\n",
       "      <th></th>\n",
       "      <th>Unnamed: 0</th>\n",
       "      <th>id</th>\n",
       "      <th>track_name</th>\n",
       "      <th>size_bytes</th>\n",
       "      <th>currency</th>\n",
       "      <th>price</th>\n",
       "      <th>rating_count_tot</th>\n",
       "      <th>rating_count_ver</th>\n",
       "      <th>user_rating</th>\n",
       "      <th>user_rating_ver</th>\n",
       "      <th>ver</th>\n",
       "      <th>cont_rating</th>\n",
       "      <th>prime_genre</th>\n",
       "      <th>sup_devices.num</th>\n",
       "      <th>ipadSc_urls.num</th>\n",
       "      <th>lang.num</th>\n",
       "      <th>vpp_lic</th>\n",
       "    </tr>\n",
       "  </thead>\n",
       "  <tbody>\n",
       "    <tr>\n",
       "      <th>0</th>\n",
       "      <td>1</td>\n",
       "      <td>281656475</td>\n",
       "      <td>PAC-MAN Premium</td>\n",
       "      <td>100788224</td>\n",
       "      <td>USD</td>\n",
       "      <td>3.99</td>\n",
       "      <td>21292</td>\n",
       "      <td>26</td>\n",
       "      <td>4.0</td>\n",
       "      <td>4.5</td>\n",
       "      <td>6.3.5</td>\n",
       "      <td>4+</td>\n",
       "      <td>Games</td>\n",
       "      <td>38</td>\n",
       "      <td>5</td>\n",
       "      <td>10</td>\n",
       "      <td>1</td>\n",
       "    </tr>\n",
       "    <tr>\n",
       "      <th>1</th>\n",
       "      <td>2</td>\n",
       "      <td>281796108</td>\n",
       "      <td>Evernote - stay organized</td>\n",
       "      <td>158578688</td>\n",
       "      <td>USD</td>\n",
       "      <td>0.00</td>\n",
       "      <td>161065</td>\n",
       "      <td>26</td>\n",
       "      <td>4.0</td>\n",
       "      <td>3.5</td>\n",
       "      <td>8.2.2</td>\n",
       "      <td>4+</td>\n",
       "      <td>Productivity</td>\n",
       "      <td>37</td>\n",
       "      <td>5</td>\n",
       "      <td>23</td>\n",
       "      <td>1</td>\n",
       "    </tr>\n",
       "    <tr>\n",
       "      <th>2</th>\n",
       "      <td>3</td>\n",
       "      <td>281940292</td>\n",
       "      <td>WeatherBug - Local Weather, Radar, Maps, Alerts</td>\n",
       "      <td>100524032</td>\n",
       "      <td>USD</td>\n",
       "      <td>0.00</td>\n",
       "      <td>188583</td>\n",
       "      <td>2822</td>\n",
       "      <td>3.5</td>\n",
       "      <td>4.5</td>\n",
       "      <td>5.0.0</td>\n",
       "      <td>4+</td>\n",
       "      <td>Weather</td>\n",
       "      <td>37</td>\n",
       "      <td>5</td>\n",
       "      <td>3</td>\n",
       "      <td>1</td>\n",
       "    </tr>\n",
       "  </tbody>\n",
       "</table>\n",
       "</div>"
      ],
      "text/plain": [
       "   Unnamed: 0         id                                       track_name  \\\n",
       "0           1  281656475                                  PAC-MAN Premium   \n",
       "1           2  281796108                        Evernote - stay organized   \n",
       "2           3  281940292  WeatherBug - Local Weather, Radar, Maps, Alerts   \n",
       "\n",
       "   size_bytes currency  price  rating_count_tot  rating_count_ver  \\\n",
       "0   100788224      USD   3.99             21292                26   \n",
       "1   158578688      USD   0.00            161065                26   \n",
       "2   100524032      USD   0.00            188583              2822   \n",
       "\n",
       "   user_rating  user_rating_ver    ver cont_rating   prime_genre  \\\n",
       "0          4.0              4.5  6.3.5          4+         Games   \n",
       "1          4.0              3.5  8.2.2          4+  Productivity   \n",
       "2          3.5              4.5  5.0.0          4+       Weather   \n",
       "\n",
       "   sup_devices.num  ipadSc_urls.num  lang.num  vpp_lic  \n",
       "0               38                5        10        1  \n",
       "1               37                5        23        1  \n",
       "2               37                5         3        1  "
      ]
     },
     "execution_count": 164,
     "metadata": {},
     "output_type": "execute_result"
    }
   ],
   "source": [
    "# Create a variable called apple, and store in it the path of the csv file that contains your apple dataset. \n",
    "apple = 'AppleStore.csv'\n",
    "\n",
    "# Read the csv file into a pandas DataFrame object called Apple.\n",
    "Apple = pd.read_csv(apple)\n",
    "\n",
    "# Observe the first three entries like you did with your other data. \n",
    "Apple.head(3)"
   ]
  },
  {
   "cell_type": "markdown",
   "metadata": {
    "colab_type": "text",
    "id": "vljOHKNTFcuw"
   },
   "source": [
    "### 1b. Pick the columns we'll work with\n",
    "\n",
    "From the documentation of these datasets, we can infer that the most appropriate columns to answer the brief are:\n",
    "\n",
    "1. Google:\n",
    "    * `Category` # Do we need this?\n",
    "    * `Rating`\n",
    "    * `Reviews`\n",
    "    * `Price` (maybe)\n",
    "2. Apple:    \n",
    "    * `prime_genre` # Do we need this?\n",
    "    * `user_rating` \n",
    "    * `rating_count_tot`\n",
    "    * `price` (maybe)"
   ]
  },
  {
   "cell_type": "markdown",
   "metadata": {
    "colab_type": "text",
    "id": "uf69AeTvFcux"
   },
   "source": [
    "### 1c. Subsetting accordingly\n",
    "\n",
    "Let's select only those columns that we want to work with from both datasets. We'll overwrite the subsets in the original variables."
   ]
  },
  {
   "cell_type": "code",
   "execution_count": 165,
   "metadata": {
    "colab": {},
    "colab_type": "code",
    "id": "LNSDXyjdFcuy"
   },
   "outputs": [
    {
     "data": {
      "text/html": [
       "<div>\n",
       "<style scoped>\n",
       "    .dataframe tbody tr th:only-of-type {\n",
       "        vertical-align: middle;\n",
       "    }\n",
       "\n",
       "    .dataframe tbody tr th {\n",
       "        vertical-align: top;\n",
       "    }\n",
       "\n",
       "    .dataframe thead th {\n",
       "        text-align: right;\n",
       "    }\n",
       "</style>\n",
       "<table border=\"1\" class=\"dataframe\">\n",
       "  <thead>\n",
       "    <tr style=\"text-align: right;\">\n",
       "      <th></th>\n",
       "      <th>Category</th>\n",
       "      <th>Rating</th>\n",
       "      <th>Reviews</th>\n",
       "      <th>Price</th>\n",
       "    </tr>\n",
       "  </thead>\n",
       "  <tbody>\n",
       "    <tr>\n",
       "      <th>0</th>\n",
       "      <td>ART_AND_DESIGN</td>\n",
       "      <td>4.1</td>\n",
       "      <td>159</td>\n",
       "      <td>0</td>\n",
       "    </tr>\n",
       "    <tr>\n",
       "      <th>1</th>\n",
       "      <td>ART_AND_DESIGN</td>\n",
       "      <td>3.9</td>\n",
       "      <td>967</td>\n",
       "      <td>0</td>\n",
       "    </tr>\n",
       "    <tr>\n",
       "      <th>2</th>\n",
       "      <td>ART_AND_DESIGN</td>\n",
       "      <td>4.7</td>\n",
       "      <td>87510</td>\n",
       "      <td>0</td>\n",
       "    </tr>\n",
       "  </tbody>\n",
       "</table>\n",
       "</div>"
      ],
      "text/plain": [
       "         Category  Rating Reviews Price\n",
       "0  ART_AND_DESIGN     4.1     159     0\n",
       "1  ART_AND_DESIGN     3.9     967     0\n",
       "2  ART_AND_DESIGN     4.7   87510     0"
      ]
     },
     "execution_count": 165,
     "metadata": {},
     "output_type": "execute_result"
    }
   ],
   "source": [
    "# Subset our DataFrame object Google by selecting just the variables ['Category', 'Rating', 'Reviews', 'Price']\n",
    "Google = Google[['Category', 'Rating', 'Reviews', 'Price']]\n",
    "\n",
    "# Check the first three entries\n",
    "Google.head(3)"
   ]
  },
  {
   "cell_type": "code",
   "execution_count": 166,
   "metadata": {
    "colab": {},
    "colab_type": "code",
    "id": "AVCtENPtFcu0"
   },
   "outputs": [
    {
     "data": {
      "text/html": [
       "<div>\n",
       "<style scoped>\n",
       "    .dataframe tbody tr th:only-of-type {\n",
       "        vertical-align: middle;\n",
       "    }\n",
       "\n",
       "    .dataframe tbody tr th {\n",
       "        vertical-align: top;\n",
       "    }\n",
       "\n",
       "    .dataframe thead th {\n",
       "        text-align: right;\n",
       "    }\n",
       "</style>\n",
       "<table border=\"1\" class=\"dataframe\">\n",
       "  <thead>\n",
       "    <tr style=\"text-align: right;\">\n",
       "      <th></th>\n",
       "      <th>prime_genre</th>\n",
       "      <th>user_rating</th>\n",
       "      <th>rating_count_tot</th>\n",
       "      <th>price</th>\n",
       "    </tr>\n",
       "  </thead>\n",
       "  <tbody>\n",
       "    <tr>\n",
       "      <th>0</th>\n",
       "      <td>Games</td>\n",
       "      <td>4.0</td>\n",
       "      <td>21292</td>\n",
       "      <td>3.99</td>\n",
       "    </tr>\n",
       "    <tr>\n",
       "      <th>1</th>\n",
       "      <td>Productivity</td>\n",
       "      <td>4.0</td>\n",
       "      <td>161065</td>\n",
       "      <td>0.00</td>\n",
       "    </tr>\n",
       "    <tr>\n",
       "      <th>2</th>\n",
       "      <td>Weather</td>\n",
       "      <td>3.5</td>\n",
       "      <td>188583</td>\n",
       "      <td>0.00</td>\n",
       "    </tr>\n",
       "  </tbody>\n",
       "</table>\n",
       "</div>"
      ],
      "text/plain": [
       "    prime_genre  user_rating  rating_count_tot  price\n",
       "0         Games          4.0             21292   3.99\n",
       "1  Productivity          4.0            161065   0.00\n",
       "2       Weather          3.5            188583   0.00"
      ]
     },
     "execution_count": 166,
     "metadata": {},
     "output_type": "execute_result"
    }
   ],
   "source": [
    "# Do the same with our Apple object, selecting just the variables ['prime_genre', 'user_rating', 'rating_count_tot', 'price']\n",
    "Apple = Apple[['prime_genre', 'user_rating', 'rating_count_tot', 'price']]\n",
    "\n",
    "# Let's check the first three entries\n",
    "Apple.head(3)"
   ]
  },
  {
   "cell_type": "markdown",
   "metadata": {
    "colab_type": "text",
    "id": "wwK2wH-rFcu2"
   },
   "source": [
    "## Stage 2 -  Cleaning, transforming and visualizing"
   ]
  },
  {
   "cell_type": "markdown",
   "metadata": {
    "colab_type": "text",
    "id": "NsoE5x0JFcu3"
   },
   "source": [
    "### 2a. Check the data types for both Apple and Google, and fix them\n",
    "\n",
    "Types are crucial for data science in Python. Let's determine whether the variables we selected in the previous section belong to the types they should do, or whether there are any errors here. "
   ]
  },
  {
   "cell_type": "code",
   "execution_count": 167,
   "metadata": {
    "colab": {},
    "colab_type": "code",
    "id": "ymw10SaWFcu4"
   },
   "outputs": [
    {
     "data": {
      "text/plain": [
       "prime_genre          object\n",
       "user_rating         float64\n",
       "rating_count_tot      int64\n",
       "price               float64\n",
       "dtype: object"
      ]
     },
     "execution_count": 167,
     "metadata": {},
     "output_type": "execute_result"
    }
   ],
   "source": [
    "# Using the dtypes feature of pandas DataFrame objects, check out the data types within our Apple dataframe.\n",
    "# Are they what you expect?\n",
    "Apple.dtypes"
   ]
  },
  {
   "cell_type": "markdown",
   "metadata": {
    "colab_type": "text",
    "id": "VAiM6jIxFcu6"
   },
   "source": [
    "This is looking healthy. But what about our Google data frame?"
   ]
  },
  {
   "cell_type": "code",
   "execution_count": 168,
   "metadata": {
    "colab": {},
    "colab_type": "code",
    "id": "kmP8MhqyFcu7"
   },
   "outputs": [
    {
     "data": {
      "text/plain": [
       "Category     object\n",
       "Rating      float64\n",
       "Reviews      object\n",
       "Price        object\n",
       "dtype: object"
      ]
     },
     "execution_count": 168,
     "metadata": {},
     "output_type": "execute_result"
    }
   ],
   "source": [
    "# Using the same dtypes feature, check out the data types of our Google dataframe. \n",
    "Google.dtypes "
   ]
  },
  {
   "cell_type": "markdown",
   "metadata": {
    "colab_type": "text",
    "id": "O-dxAy0WFcu9"
   },
   "source": [
    "Weird. The data type for the column 'Price' is 'object', not a numeric data type like a float or an integer. Let's investigate the unique values of this column. "
   ]
  },
  {
   "cell_type": "code",
   "execution_count": 169,
   "metadata": {
    "colab": {},
    "colab_type": "code",
    "id": "Hu08K9y7Fcu9"
   },
   "outputs": [
    {
     "data": {
      "text/plain": [
       "array(['0', '$4.99', '$3.99', '$6.99', '$1.49', '$2.99', '$7.99', '$5.99',\n",
       "       '$3.49', '$1.99', '$9.99', '$7.49', '$0.99', '$9.00', '$5.49',\n",
       "       '$10.00', '$24.99', '$11.99', '$79.99', '$16.99', '$14.99',\n",
       "       '$1.00', '$29.99', '$12.99', '$2.49', '$10.99', '$1.50', '$19.99',\n",
       "       '$15.99', '$33.99', '$74.99', '$39.99', '$3.95', '$4.49', '$1.70',\n",
       "       '$8.99', '$2.00', '$3.88', '$25.99', '$399.99', '$17.99',\n",
       "       '$400.00', '$3.02', '$1.76', '$4.84', '$4.77', '$1.61', '$2.50',\n",
       "       '$1.59', '$6.49', '$1.29', '$5.00', '$13.99', '$299.99', '$379.99',\n",
       "       '$37.99', '$18.99', '$389.99', '$19.90', '$8.49', '$1.75',\n",
       "       '$14.00', '$4.85', '$46.99', '$109.99', '$154.99', '$3.08',\n",
       "       '$2.59', '$4.80', '$1.96', '$19.40', '$3.90', '$4.59', '$15.46',\n",
       "       '$3.04', '$4.29', '$2.60', '$3.28', '$4.60', '$28.99', '$2.95',\n",
       "       '$2.90', '$1.97', '$200.00', '$89.99', '$2.56', '$30.99', '$3.61',\n",
       "       '$394.99', '$1.26', 'Everyone', '$1.20', '$1.04'], dtype=object)"
      ]
     },
     "execution_count": 169,
     "metadata": {},
     "output_type": "execute_result"
    }
   ],
   "source": [
    "# Use the unique() pandas method on the Price column to check its unique values. \n",
    "Google['Price'].unique()"
   ]
  },
  {
   "cell_type": "markdown",
   "metadata": {
    "colab_type": "text",
    "id": "w_7nkogFFcu_"
   },
   "source": [
    "Aha! Fascinating. There are actually two issues here. \n",
    "\n",
    "- Firstly, there's a price called `Everyone`. That is a massive mistake! \n",
    "- Secondly, there are dollar symbols everywhere! \n",
    "\n",
    "\n",
    "Let's address the first issue first. Let's check the datapoints that have the price value `Everyone`"
   ]
  },
  {
   "cell_type": "code",
   "execution_count": 170,
   "metadata": {
    "colab": {},
    "colab_type": "code",
    "id": "E75WWmhdFcvA"
   },
   "outputs": [
    {
     "data": {
      "text/html": [
       "<div>\n",
       "<style scoped>\n",
       "    .dataframe tbody tr th:only-of-type {\n",
       "        vertical-align: middle;\n",
       "    }\n",
       "\n",
       "    .dataframe tbody tr th {\n",
       "        vertical-align: top;\n",
       "    }\n",
       "\n",
       "    .dataframe thead th {\n",
       "        text-align: right;\n",
       "    }\n",
       "</style>\n",
       "<table border=\"1\" class=\"dataframe\">\n",
       "  <thead>\n",
       "    <tr style=\"text-align: right;\">\n",
       "      <th></th>\n",
       "      <th>Category</th>\n",
       "      <th>Rating</th>\n",
       "      <th>Reviews</th>\n",
       "      <th>Price</th>\n",
       "    </tr>\n",
       "  </thead>\n",
       "  <tbody>\n",
       "    <tr>\n",
       "      <th>10472</th>\n",
       "      <td>1.9</td>\n",
       "      <td>19.0</td>\n",
       "      <td>3.0M</td>\n",
       "      <td>Everyone</td>\n",
       "    </tr>\n",
       "  </tbody>\n",
       "</table>\n",
       "</div>"
      ],
      "text/plain": [
       "      Category  Rating Reviews     Price\n",
       "10472      1.9    19.0    3.0M  Everyone"
      ]
     },
     "execution_count": 170,
     "metadata": {},
     "output_type": "execute_result"
    }
   ],
   "source": [
    "# Let's check which data points have the value 'Everyone' for the 'Price' column by subsetting our Google dataframe.\n",
    "\n",
    "# Subset the Google dataframe on the price column. \n",
    "# To be sure: you want to pick out just those rows whose value for the 'Price' column is just 'Everyone'. \n",
    "Google[Google['Price'] == 'Everyone']"
   ]
  },
  {
   "cell_type": "markdown",
   "metadata": {
    "colab_type": "text",
    "id": "ezfLshdRFcvC"
   },
   "source": [
    "Thankfully, it's just one row. We've gotta get rid of it. "
   ]
  },
  {
   "cell_type": "code",
   "execution_count": 171,
   "metadata": {
    "colab": {},
    "colab_type": "code",
    "id": "DBmjUQUkFcvD"
   },
   "outputs": [
    {
     "data": {
      "text/plain": [
       "array(['0', '$4.99', '$3.99', '$6.99', '$1.49', '$2.99', '$7.99', '$5.99',\n",
       "       '$3.49', '$1.99', '$9.99', '$7.49', '$0.99', '$9.00', '$5.49',\n",
       "       '$10.00', '$24.99', '$11.99', '$79.99', '$16.99', '$14.99',\n",
       "       '$1.00', '$29.99', '$12.99', '$2.49', '$10.99', '$1.50', '$19.99',\n",
       "       '$15.99', '$33.99', '$74.99', '$39.99', '$3.95', '$4.49', '$1.70',\n",
       "       '$8.99', '$2.00', '$3.88', '$25.99', '$399.99', '$17.99',\n",
       "       '$400.00', '$3.02', '$1.76', '$4.84', '$4.77', '$1.61', '$2.50',\n",
       "       '$1.59', '$6.49', '$1.29', '$5.00', '$13.99', '$299.99', '$379.99',\n",
       "       '$37.99', '$18.99', '$389.99', '$19.90', '$8.49', '$1.75',\n",
       "       '$14.00', '$4.85', '$46.99', '$109.99', '$154.99', '$3.08',\n",
       "       '$2.59', '$4.80', '$1.96', '$19.40', '$3.90', '$4.59', '$15.46',\n",
       "       '$3.04', '$4.29', '$2.60', '$3.28', '$4.60', '$28.99', '$2.95',\n",
       "       '$2.90', '$1.97', '$200.00', '$89.99', '$2.56', '$30.99', '$3.61',\n",
       "       '$394.99', '$1.26', '$1.20', '$1.04'], dtype=object)"
      ]
     },
     "execution_count": 171,
     "metadata": {},
     "output_type": "execute_result"
    }
   ],
   "source": [
    "# Let's eliminate that row. \n",
    "\n",
    "# Subset our Google dataframe to pick out just those rows whose value for the 'Price' column is NOT 'Everyone'. \n",
    "# Reassign that subset to the Google variable. \n",
    "# You can do this in two lines or one. Your choice! \n",
    "Google = Google[Google['Price'] != 'Everyone']\n",
    "\n",
    "# Check again the unique values of Google\n",
    "Google['Price'].unique()"
   ]
  },
  {
   "cell_type": "markdown",
   "metadata": {
    "colab_type": "text",
    "id": "T43TB4qFFcvF"
   },
   "source": [
    "Our second problem remains: I'm seeing dollar symbols when I close my eyes! (And not in a good way). \n",
    "\n",
    "This is a problem because Python actually considers these values strings. So we can't do mathematical and statistical operations on them until we've made them into numbers. "
   ]
  },
  {
   "cell_type": "code",
   "execution_count": 172,
   "metadata": {
    "colab": {},
    "colab_type": "code",
    "id": "W87gVS9BFcvG"
   },
   "outputs": [
    {
     "name": "stderr",
     "output_type": "stream",
     "text": [
      "C:\\Users\\ituser\\AppData\\Local\\Temp/ipykernel_3472/1262445487.py:3: FutureWarning: The default value of regex will change from True to False in a future version. In addition, single character regular expressions will *not* be treated as literal strings when regex=True.\n",
      "  nosymb = Google['Price'].str.replace('$', '')\n"
     ]
    }
   ],
   "source": [
    "# Let's create a variable called nosymb.\n",
    "# This variable will take the Price column of Google and apply the str.replace() method. \n",
    "nosymb = Google['Price'].str.replace('$', '')\n",
    "\n",
    "\n",
    "# Now we need to do two things:\n",
    "# i. Make the values in the nosymb variable numeric using the to_numeric() pandas method.\n",
    "# ii. Assign this new set of numeric, dollar-sign-less values to Google['Price']. \n",
    "# You can do this in one line if you wish.\n",
    "Google['Price'] = pd.to_numeric(nosymb)"
   ]
  },
  {
   "cell_type": "markdown",
   "metadata": {
    "colab_type": "text",
    "id": "LxpJQ9yyFcvI"
   },
   "source": [
    "Now let's check the data types for our Google dataframe again, to verify that the 'Price' column really is numeric now."
   ]
  },
  {
   "cell_type": "code",
   "execution_count": 173,
   "metadata": {
    "colab": {},
    "colab_type": "code",
    "id": "Fn5Gt-QbFcvI"
   },
   "outputs": [
    {
     "data": {
      "text/plain": [
       "Category     object\n",
       "Rating      float64\n",
       "Reviews      object\n",
       "Price       float64\n",
       "dtype: object"
      ]
     },
     "execution_count": 173,
     "metadata": {},
     "output_type": "execute_result"
    }
   ],
   "source": [
    "# Use the function dtypes. \n",
    "Google.dtypes"
   ]
  },
  {
   "cell_type": "markdown",
   "metadata": {
    "colab_type": "text",
    "id": "FgfuiVo0FcvK"
   },
   "source": [
    "Notice that the column `Reviews` is still an object column. We actually need this column to be a numeric column, too. "
   ]
  },
  {
   "cell_type": "code",
   "execution_count": 174,
   "metadata": {
    "colab": {},
    "colab_type": "code",
    "id": "MiVEWsWBFcvL"
   },
   "outputs": [],
   "source": [
    "# Convert the 'Reviews' column to a numeric data type. \n",
    "Google['Reviews']=pd.to_numeric(Google['Reviews'])"
   ]
  },
  {
   "cell_type": "code",
   "execution_count": 175,
   "metadata": {
    "colab": {},
    "colab_type": "code",
    "id": "wWJdXXTTFcvN"
   },
   "outputs": [
    {
     "data": {
      "text/plain": [
       "Category     object\n",
       "Rating      float64\n",
       "Reviews       int64\n",
       "Price       float64\n",
       "dtype: object"
      ]
     },
     "execution_count": 175,
     "metadata": {},
     "output_type": "execute_result"
    }
   ],
   "source": [
    "# Let's check the data types of Google again\n",
    "Google.dtypes"
   ]
  },
  {
   "cell_type": "markdown",
   "metadata": {
    "colab_type": "text",
    "id": "OiLm2GEKFcvP"
   },
   "source": [
    "### 2b. Add a `platform` column to both the `Apple` and the `Google` dataframes\n",
    "Let's add a new column to both dataframe objects called `platform`: all of its values in the Google dataframe will be just 'google', and all of its values for the Apple dataframe will be just 'apple'. \n",
    "\n",
    "The reason we're making this column is so that we can ultimately join our Apple and Google data together, and actually test out some hypotheses to solve the problem in our brief. "
   ]
  },
  {
   "cell_type": "code",
   "execution_count": 176,
   "metadata": {
    "colab": {},
    "colab_type": "code",
    "id": "mF-sOcx2FcvQ"
   },
   "outputs": [],
   "source": [
    "# Create a column called 'platform' in both the Apple and Google dataframes. \n",
    "# Add the value 'apple' and the value 'google' as appropriate. \n",
    "Google['platform'] = 'google'\n",
    "Apple['platform'] = 'apple'"
   ]
  },
  {
   "cell_type": "markdown",
   "metadata": {
    "colab_type": "text",
    "id": "EJcry17IFcvS"
   },
   "source": [
    "### 2c. Changing the column names to prepare for our join of the two datasets \n",
    "Since the easiest way to join two datasets is if they have both:\n",
    "- the same number of columns\n",
    "- the same column names\n",
    "we need to rename the columns of `Apple` so that they're the same as the ones of `Google`, or vice versa.\n",
    "\n",
    "In this case, we're going to change the `Apple` columns names to the names of the `Google` columns. \n",
    "\n",
    "This is an important step to unify the two datasets!"
   ]
  },
  {
   "cell_type": "code",
   "execution_count": 177,
   "metadata": {
    "colab": {},
    "colab_type": "code",
    "id": "bdt9XH2KFcvT"
   },
   "outputs": [],
   "source": [
    "# Create a variable called old_names where you'll store the column names of the Apple dataframe. \n",
    "# Use the feature .columns.\n",
    "old_names = Apple.columns\n",
    "\n",
    "# Create a variable called new_names where you'll store the column names of the Google dataframe. \n",
    "new_names = Google.columns\n",
    "\n",
    "# Use the rename() DataFrame method to change the columns names. \n",
    "Apple.rename(columns={'prime_genre':'Category', 'user_rating':'Rating', 'rating_count_tot':'Reviews', 'price':'Price'}, inplace=True)"
   ]
  },
  {
   "cell_type": "markdown",
   "metadata": {
    "colab_type": "text",
    "id": "qewPiLrRFcvX"
   },
   "source": [
    "### 2d. Join the two datasets \n",
    "Let's combine the two datasets into a single data frame called `df`."
   ]
  },
  {
   "cell_type": "code",
   "execution_count": 178,
   "metadata": {
    "colab": {},
    "colab_type": "code",
    "id": "jq6fGfvyFcvY"
   },
   "outputs": [
    {
     "data": {
      "text/html": [
       "<div>\n",
       "<style scoped>\n",
       "    .dataframe tbody tr th:only-of-type {\n",
       "        vertical-align: middle;\n",
       "    }\n",
       "\n",
       "    .dataframe tbody tr th {\n",
       "        vertical-align: top;\n",
       "    }\n",
       "\n",
       "    .dataframe thead th {\n",
       "        text-align: right;\n",
       "    }\n",
       "</style>\n",
       "<table border=\"1\" class=\"dataframe\">\n",
       "  <thead>\n",
       "    <tr style=\"text-align: right;\">\n",
       "      <th></th>\n",
       "      <th>Category</th>\n",
       "      <th>Rating</th>\n",
       "      <th>Reviews</th>\n",
       "      <th>Price</th>\n",
       "      <th>platform</th>\n",
       "    </tr>\n",
       "  </thead>\n",
       "  <tbody>\n",
       "    <tr>\n",
       "      <th>851</th>\n",
       "      <td>EDUCATION</td>\n",
       "      <td>4.9</td>\n",
       "      <td>11</td>\n",
       "      <td>3.99</td>\n",
       "      <td>google</td>\n",
       "    </tr>\n",
       "    <tr>\n",
       "      <th>6922</th>\n",
       "      <td>Health &amp; Fitness</td>\n",
       "      <td>5.0</td>\n",
       "      <td>6</td>\n",
       "      <td>2.99</td>\n",
       "      <td>apple</td>\n",
       "    </tr>\n",
       "    <tr>\n",
       "      <th>5249</th>\n",
       "      <td>Games</td>\n",
       "      <td>4.0</td>\n",
       "      <td>167</td>\n",
       "      <td>0.99</td>\n",
       "      <td>apple</td>\n",
       "    </tr>\n",
       "    <tr>\n",
       "      <th>5684</th>\n",
       "      <td>HOUSE_AND_HOME</td>\n",
       "      <td>3.8</td>\n",
       "      <td>874</td>\n",
       "      <td>0.00</td>\n",
       "      <td>google</td>\n",
       "    </tr>\n",
       "    <tr>\n",
       "      <th>4092</th>\n",
       "      <td>PRODUCTIVITY</td>\n",
       "      <td>4.0</td>\n",
       "      <td>4660</td>\n",
       "      <td>0.00</td>\n",
       "      <td>google</td>\n",
       "    </tr>\n",
       "    <tr>\n",
       "      <th>7295</th>\n",
       "      <td>FAMILY</td>\n",
       "      <td>4.2</td>\n",
       "      <td>145</td>\n",
       "      <td>0.00</td>\n",
       "      <td>google</td>\n",
       "    </tr>\n",
       "    <tr>\n",
       "      <th>4500</th>\n",
       "      <td>GAME</td>\n",
       "      <td>4.3</td>\n",
       "      <td>13788</td>\n",
       "      <td>0.00</td>\n",
       "      <td>google</td>\n",
       "    </tr>\n",
       "    <tr>\n",
       "      <th>7301</th>\n",
       "      <td>FAMILY</td>\n",
       "      <td>4.2</td>\n",
       "      <td>34</td>\n",
       "      <td>0.00</td>\n",
       "      <td>google</td>\n",
       "    </tr>\n",
       "    <tr>\n",
       "      <th>1831</th>\n",
       "      <td>Weather</td>\n",
       "      <td>3.5</td>\n",
       "      <td>12</td>\n",
       "      <td>0.00</td>\n",
       "      <td>apple</td>\n",
       "    </tr>\n",
       "    <tr>\n",
       "      <th>9262</th>\n",
       "      <td>HOUSE_AND_HOME</td>\n",
       "      <td>NaN</td>\n",
       "      <td>0</td>\n",
       "      <td>0.00</td>\n",
       "      <td>google</td>\n",
       "    </tr>\n",
       "    <tr>\n",
       "      <th>4427</th>\n",
       "      <td>FAMILY</td>\n",
       "      <td>4.4</td>\n",
       "      <td>925</td>\n",
       "      <td>1.99</td>\n",
       "      <td>google</td>\n",
       "    </tr>\n",
       "    <tr>\n",
       "      <th>4498</th>\n",
       "      <td>LIFESTYLE</td>\n",
       "      <td>2.6</td>\n",
       "      <td>680</td>\n",
       "      <td>0.00</td>\n",
       "      <td>google</td>\n",
       "    </tr>\n",
       "  </tbody>\n",
       "</table>\n",
       "</div>"
      ],
      "text/plain": [
       "              Category  Rating  Reviews  Price platform\n",
       "851          EDUCATION     4.9       11   3.99   google\n",
       "6922  Health & Fitness     5.0        6   2.99    apple\n",
       "5249             Games     4.0      167   0.99    apple\n",
       "5684    HOUSE_AND_HOME     3.8      874   0.00   google\n",
       "4092      PRODUCTIVITY     4.0     4660   0.00   google\n",
       "7295            FAMILY     4.2      145   0.00   google\n",
       "4500              GAME     4.3    13788   0.00   google\n",
       "7301            FAMILY     4.2       34   0.00   google\n",
       "1831           Weather     3.5       12   0.00    apple\n",
       "9262    HOUSE_AND_HOME     NaN        0   0.00   google\n",
       "4427            FAMILY     4.4      925   1.99   google\n",
       "4498         LIFESTYLE     2.6      680   0.00   google"
      ]
     },
     "execution_count": 178,
     "metadata": {},
     "output_type": "execute_result"
    }
   ],
   "source": [
    "# Let's use the append() method to append Apple to Google. \n",
    "df = Google.append(Apple)\n",
    "\n",
    "# Using the sample() method with the number 12 passed to it, check 12 random points of your dataset.\n",
    "df.sample(12)"
   ]
  },
  {
   "cell_type": "markdown",
   "metadata": {
    "colab_type": "text",
    "id": "FjqsHugWFcvb"
   },
   "source": [
    "### 2e. Eliminate the NaN values\n",
    "\n",
    "As you can see there are some `NaN` values. We want to eliminate all these `NaN` values from the table."
   ]
  },
  {
   "cell_type": "code",
   "execution_count": 179,
   "metadata": {
    "colab": {},
    "colab_type": "code",
    "id": "Gp2q6GLyFcvb"
   },
   "outputs": [
    {
     "data": {
      "text/plain": [
       "(16563, 5)"
      ]
     },
     "execution_count": 179,
     "metadata": {},
     "output_type": "execute_result"
    }
   ],
   "source": [
    "# Lets check first the dimesions of df before droping `NaN` values. Use the .shape feature. \n",
    "df.shape\n",
    "\n",
    "# Use the dropna() method to eliminate all the NaN values, and overwrite the same dataframe with the result. \n",
    "df.dropna(inplace=True)\n",
    "\n",
    "# Check the new dimesions of our dataframe. \n",
    "df.shape"
   ]
  },
  {
   "cell_type": "markdown",
   "metadata": {
    "colab_type": "text",
    "id": "qtfeQKtAFcvd"
   },
   "source": [
    "### 2f. Filter the data so that we only see whose apps that have been reviewed at least once\n",
    "\n",
    "Apps that haven't been reviewed yet can't help us solve our brief. \n",
    "\n",
    "So let's check to see if any apps have no reviews at all. "
   ]
  },
  {
   "cell_type": "code",
   "execution_count": 180,
   "metadata": {
    "colab": {},
    "colab_type": "code",
    "id": "Ge9OKXLNFcvd"
   },
   "outputs": [
    {
     "data": {
      "text/html": [
       "<div>\n",
       "<style scoped>\n",
       "    .dataframe tbody tr th:only-of-type {\n",
       "        vertical-align: middle;\n",
       "    }\n",
       "\n",
       "    .dataframe tbody tr th {\n",
       "        vertical-align: top;\n",
       "    }\n",
       "\n",
       "    .dataframe thead th {\n",
       "        text-align: right;\n",
       "    }\n",
       "</style>\n",
       "<table border=\"1\" class=\"dataframe\">\n",
       "  <thead>\n",
       "    <tr style=\"text-align: right;\">\n",
       "      <th></th>\n",
       "      <th>Category</th>\n",
       "      <th>Rating</th>\n",
       "      <th>Reviews</th>\n",
       "      <th>Price</th>\n",
       "      <th>platform</th>\n",
       "    </tr>\n",
       "  </thead>\n",
       "  <tbody>\n",
       "    <tr>\n",
       "      <th>199</th>\n",
       "      <td>Finance</td>\n",
       "      <td>0.0</td>\n",
       "      <td>0</td>\n",
       "      <td>3.99</td>\n",
       "      <td>apple</td>\n",
       "    </tr>\n",
       "    <tr>\n",
       "      <th>301</th>\n",
       "      <td>Book</td>\n",
       "      <td>0.0</td>\n",
       "      <td>0</td>\n",
       "      <td>3.99</td>\n",
       "      <td>apple</td>\n",
       "    </tr>\n",
       "    <tr>\n",
       "      <th>330</th>\n",
       "      <td>Travel</td>\n",
       "      <td>0.0</td>\n",
       "      <td>0</td>\n",
       "      <td>7.99</td>\n",
       "      <td>apple</td>\n",
       "    </tr>\n",
       "    <tr>\n",
       "      <th>441</th>\n",
       "      <td>Navigation</td>\n",
       "      <td>0.0</td>\n",
       "      <td>0</td>\n",
       "      <td>0.00</td>\n",
       "      <td>apple</td>\n",
       "    </tr>\n",
       "    <tr>\n",
       "      <th>452</th>\n",
       "      <td>Education</td>\n",
       "      <td>0.0</td>\n",
       "      <td>0</td>\n",
       "      <td>3.99</td>\n",
       "      <td>apple</td>\n",
       "    </tr>\n",
       "    <tr>\n",
       "      <th>...</th>\n",
       "      <td>...</td>\n",
       "      <td>...</td>\n",
       "      <td>...</td>\n",
       "      <td>...</td>\n",
       "      <td>...</td>\n",
       "    </tr>\n",
       "    <tr>\n",
       "      <th>7181</th>\n",
       "      <td>Games</td>\n",
       "      <td>0.0</td>\n",
       "      <td>0</td>\n",
       "      <td>0.99</td>\n",
       "      <td>apple</td>\n",
       "    </tr>\n",
       "    <tr>\n",
       "      <th>7182</th>\n",
       "      <td>Photo &amp; Video</td>\n",
       "      <td>0.0</td>\n",
       "      <td>0</td>\n",
       "      <td>0.00</td>\n",
       "      <td>apple</td>\n",
       "    </tr>\n",
       "    <tr>\n",
       "      <th>7184</th>\n",
       "      <td>Games</td>\n",
       "      <td>0.0</td>\n",
       "      <td>0</td>\n",
       "      <td>0.00</td>\n",
       "      <td>apple</td>\n",
       "    </tr>\n",
       "    <tr>\n",
       "      <th>7185</th>\n",
       "      <td>Games</td>\n",
       "      <td>0.0</td>\n",
       "      <td>0</td>\n",
       "      <td>0.99</td>\n",
       "      <td>apple</td>\n",
       "    </tr>\n",
       "    <tr>\n",
       "      <th>7189</th>\n",
       "      <td>Games</td>\n",
       "      <td>0.0</td>\n",
       "      <td>0</td>\n",
       "      <td>0.99</td>\n",
       "      <td>apple</td>\n",
       "    </tr>\n",
       "  </tbody>\n",
       "</table>\n",
       "<p>929 rows × 5 columns</p>\n",
       "</div>"
      ],
      "text/plain": [
       "           Category  Rating  Reviews  Price platform\n",
       "199         Finance     0.0        0   3.99    apple\n",
       "301            Book     0.0        0   3.99    apple\n",
       "330          Travel     0.0        0   7.99    apple\n",
       "441      Navigation     0.0        0   0.00    apple\n",
       "452       Education     0.0        0   3.99    apple\n",
       "...             ...     ...      ...    ...      ...\n",
       "7181          Games     0.0        0   0.99    apple\n",
       "7182  Photo & Video     0.0        0   0.00    apple\n",
       "7184          Games     0.0        0   0.00    apple\n",
       "7185          Games     0.0        0   0.99    apple\n",
       "7189          Games     0.0        0   0.99    apple\n",
       "\n",
       "[929 rows x 5 columns]"
      ]
     },
     "execution_count": 180,
     "metadata": {},
     "output_type": "execute_result"
    }
   ],
   "source": [
    "# Subset your df to pick out just those rows whose value for 'Reviews' is equal to 0. \n",
    "# Do a count() on the result. \n",
    "df[df['Reviews'] == 0]"
   ]
  },
  {
   "cell_type": "markdown",
   "metadata": {
    "colab_type": "text",
    "id": "05f7H0kAFcvg"
   },
   "source": [
    "929 apps do not have reviews, we need to eliminate these points!"
   ]
  },
  {
   "cell_type": "code",
   "execution_count": 181,
   "metadata": {
    "colab": {},
    "colab_type": "code",
    "id": "pD8vmPjkFcvg"
   },
   "outputs": [],
   "source": [
    "# Eliminate the points that have 0 reviews.\n",
    "df = df[df['Reviews'] != 0]"
   ]
  },
  {
   "cell_type": "markdown",
   "metadata": {
    "colab_type": "text",
    "id": "ApnKES_bFcvi"
   },
   "source": [
    "### 2g. Summarize the data visually and analytically (by the column `platform`)"
   ]
  },
  {
   "cell_type": "markdown",
   "metadata": {
    "colab_type": "text",
    "id": "2smt9UocFcvj"
   },
   "source": [
    "What we need to solve our brief is a summary of the `Rating` column, but separated by the different platforms."
   ]
  },
  {
   "cell_type": "code",
   "execution_count": 182,
   "metadata": {
    "colab": {},
    "colab_type": "code",
    "id": "Vqckt347Fcvj"
   },
   "outputs": [
    {
     "data": {
      "text/plain": [
       "platform\n",
       "apple     4.049697\n",
       "google    4.191757\n",
       "Name: Rating, dtype: float64"
      ]
     },
     "execution_count": 182,
     "metadata": {},
     "output_type": "execute_result"
    }
   ],
   "source": [
    "# To summarize analytically, let's use the groupby() method on our df.\n",
    "df.groupby(['platform'])['Rating'].mean()"
   ]
  },
  {
   "cell_type": "markdown",
   "metadata": {
    "colab_type": "text",
    "id": "8f9TqMtKFcvl"
   },
   "source": [
    "Interesting! Our means of 4.049697 and 4.191757 don't **seem** all that different! Perhaps we've solved our brief already: there's no significant difference between Google Play app reviews and Apple Store app reviews. We have an ***observed difference*** here: which is simply (4.191757 - 4.049697) = 0.14206. This is just the actual difference that we observed between the mean rating for apps from Google Play, and the mean rating for apps from the Apple Store. Let's look at how we're going to use this observed difference to solve our problem using a statistical test. \n",
    "\n",
    "**Outline of our method:**\n",
    "1. We'll assume that platform (i.e, whether the app was Google or Apple) really doesn’t impact on ratings. \n",
    "\n",
    "\n",
    "2. Given this assumption, we should actually be able to get a difference in mean rating for Apple apps and mean rating for Google apps that's pretty similar to the one we actually got (0.14206) just by: \n",
    "a. shuffling the ratings column, \n",
    "b. keeping the platform column the same,\n",
    "c. calculating the difference between the mean rating for Apple and the mean rating for Google. \n",
    "\n",
    "\n",
    "3. We can make the shuffle more useful by doing it many times, each time calculating the mean rating for Apple apps and the mean rating for Google apps, and the difference between these means. \n",
    "\n",
    "\n",
    "4. We can then take the mean of all these differences, and this will be called our permutation difference. This permutation difference will be great indicator of what the difference would be if our initial assumption were true and platform really doesn’t impact on ratings. \n",
    "\n",
    "\n",
    "5. Now we do a comparison. If the observed difference looks just like the permutation difference, then we stick with the claim that actually, platform doesn’t impact on ratings. If instead, however, the permutation difference differs significantly from the observed difference, we'll conclude: something's going on; the platform does in fact impact on ratings. \n",
    "\n",
    "\n",
    "6. As for what the definition of *significantly* is, we'll get to that. But there’s a brief summary of what we're going to do. Exciting!\n",
    "\n",
    "If you want to look more deeply at the statistics behind this project, check out [this resource](https://www.springboard.com/archeio/download/4ea4d453b0b84014bcef287c50f47f00/)."
   ]
  },
  {
   "cell_type": "markdown",
   "metadata": {
    "colab_type": "text",
    "id": "d6EhTxArFcvm"
   },
   "source": [
    "Let's also get a **visual summary** of the `Rating` column, separated by the different platforms. \n",
    "\n",
    "A good tool to use here is the boxplot!"
   ]
  },
  {
   "cell_type": "code",
   "execution_count": 183,
   "metadata": {
    "colab": {},
    "colab_type": "code",
    "id": "hFKjrlWgFcvm"
   },
   "outputs": [
    {
     "data": {
      "text/plain": [
       "<AxesSubplot:title={'center':'Rating'}, xlabel='platform'>"
      ]
     },
     "execution_count": 183,
     "metadata": {},
     "output_type": "execute_result"
    },
    {
     "data": {
      "image/png": "[encoded data removed]",
      "text/plain": [
       "<Figure size 432x288 with 1 Axes>"
      ]
     },
     "metadata": {
      "needs_background": "light"
     },
     "output_type": "display_data"
    }
   ],
   "source": [
    "# Call the boxplot() method on our df.\n",
    "df.boxplot(['Rating'], by='platform')"
   ]
  },
  {
   "cell_type": "markdown",
   "metadata": {
    "colab_type": "text",
    "id": "FqTlAjnmFcvo"
   },
   "source": [
    "Here we see the same information as in the analytical summary, but with a boxplot. Can you see how the boxplot is working here? If you need to revise your boxplots, check out this this [link](https://www.kaggle.com/ramamet4/app-store-apple-data-set-10k-apps). "
   ]
  },
  {
   "cell_type": "markdown",
   "metadata": {
    "colab_type": "text",
    "id": "O8L-s1fgFcvp"
   },
   "source": [
    "## Stage 3 - Modelling"
   ]
  },
  {
   "cell_type": "markdown",
   "metadata": {
    "colab_type": "text",
    "id": "5fbRq2MZFcvq"
   },
   "source": [
    "### 3a. Hypothesis formulation\n",
    "\n",
    "Our **Null hypothesis** is just:\n",
    "\n",
    "**H<sub>null</sub>**: the observed difference in the mean rating of Apple Store and Google Play apps is due to chance (and thus not due to the platform).\n",
    "\n",
    "The more interesting hypothesis is called the **Alternate hypothesis**:\n",
    "\n",
    "**H<sub>alternative</sub>**: the observed difference in the average ratings of apple and google users is not due to chance (and is actually due to platform)\n",
    "\n",
    "We're also going to pick a **significance level** of 0.05. "
   ]
  },
  {
   "cell_type": "markdown",
   "metadata": {
    "colab_type": "text",
    "id": "TjBqkabaFcvq"
   },
   "source": [
    "### 3b. Getting the distribution of the data\n",
    "Now that the hypotheses and significance level are defined, we can select a statistical test to determine which hypothesis to accept. \n",
    "\n",
    "There are many different statistical tests, all with different assumptions. You'll generate an excellent judgement about when to use which statistical tests over the Data Science Career Track course. But in general, one of the most important things to determine is the **distribution of the data**.   "
   ]
  },
  {
   "cell_type": "code",
   "execution_count": 184,
   "metadata": {
    "colab": {},
    "colab_type": "code",
    "id": "bFwVhkeWFcvr"
   },
   "outputs": [],
   "source": [
    "# Create a subset of the column 'Rating' by the different platforms.\n",
    "# Call the subsets 'apple' and 'google' \n",
    "df['apple'] = df[df['platform'] == 'apple']['Rating']\n",
    "df['google'] = df[df['platform'] == 'google']['Rating']"
   ]
  },
  {
   "cell_type": "code",
   "execution_count": 185,
   "metadata": {},
   "outputs": [
    {
     "data": {
      "text/plain": [
       "Category       0\n",
       "Rating         0\n",
       "Reviews        0\n",
       "Price          0\n",
       "platform       0\n",
       "apple       3674\n",
       "google       576\n",
       "dtype: int64"
      ]
     },
     "execution_count": 185,
     "metadata": {},
     "output_type": "execute_result"
    }
   ],
   "source": [
    "df.isna().sum()"
   ]
  },
  {
   "cell_type": "code",
   "execution_count": 186,
   "metadata": {},
   "outputs": [
    {
     "data": {
      "text/html": [
       "<div>\n",
       "<style scoped>\n",
       "    .dataframe tbody tr th:only-of-type {\n",
       "        vertical-align: middle;\n",
       "    }\n",
       "\n",
       "    .dataframe tbody tr th {\n",
       "        vertical-align: top;\n",
       "    }\n",
       "\n",
       "    .dataframe thead th {\n",
       "        text-align: right;\n",
       "    }\n",
       "</style>\n",
       "<table border=\"1\" class=\"dataframe\">\n",
       "  <thead>\n",
       "    <tr style=\"text-align: right;\">\n",
       "      <th></th>\n",
       "      <th>Category</th>\n",
       "      <th>Rating</th>\n",
       "      <th>Reviews</th>\n",
       "      <th>Price</th>\n",
       "      <th>platform</th>\n",
       "      <th>apple</th>\n",
       "      <th>google</th>\n",
       "    </tr>\n",
       "  </thead>\n",
       "  <tbody>\n",
       "    <tr>\n",
       "      <th>0</th>\n",
       "      <td>ART_AND_DESIGN</td>\n",
       "      <td>4.1</td>\n",
       "      <td>159</td>\n",
       "      <td>0.0</td>\n",
       "      <td>google</td>\n",
       "      <td>4.0</td>\n",
       "      <td>4.1</td>\n",
       "    </tr>\n",
       "    <tr>\n",
       "      <th>1</th>\n",
       "      <td>ART_AND_DESIGN</td>\n",
       "      <td>3.9</td>\n",
       "      <td>967</td>\n",
       "      <td>0.0</td>\n",
       "      <td>google</td>\n",
       "      <td>4.0</td>\n",
       "      <td>3.9</td>\n",
       "    </tr>\n",
       "    <tr>\n",
       "      <th>2</th>\n",
       "      <td>ART_AND_DESIGN</td>\n",
       "      <td>4.7</td>\n",
       "      <td>87510</td>\n",
       "      <td>0.0</td>\n",
       "      <td>google</td>\n",
       "      <td>3.5</td>\n",
       "      <td>4.7</td>\n",
       "    </tr>\n",
       "    <tr>\n",
       "      <th>3</th>\n",
       "      <td>ART_AND_DESIGN</td>\n",
       "      <td>4.5</td>\n",
       "      <td>215644</td>\n",
       "      <td>0.0</td>\n",
       "      <td>google</td>\n",
       "      <td>4.0</td>\n",
       "      <td>4.5</td>\n",
       "    </tr>\n",
       "    <tr>\n",
       "      <th>4</th>\n",
       "      <td>ART_AND_DESIGN</td>\n",
       "      <td>4.3</td>\n",
       "      <td>967</td>\n",
       "      <td>0.0</td>\n",
       "      <td>google</td>\n",
       "      <td>4.5</td>\n",
       "      <td>4.3</td>\n",
       "    </tr>\n",
       "  </tbody>\n",
       "</table>\n",
       "</div>"
      ],
      "text/plain": [
       "         Category  Rating  Reviews  Price platform  apple  google\n",
       "0  ART_AND_DESIGN     4.1      159    0.0   google    4.0     4.1\n",
       "1  ART_AND_DESIGN     3.9      967    0.0   google    4.0     3.9\n",
       "2  ART_AND_DESIGN     4.7    87510    0.0   google    3.5     4.7\n",
       "3  ART_AND_DESIGN     4.5   215644    0.0   google    4.0     4.5\n",
       "4  ART_AND_DESIGN     4.3      967    0.0   google    4.5     4.3"
      ]
     },
     "execution_count": 186,
     "metadata": {},
     "output_type": "execute_result"
    }
   ],
   "source": [
    "df.head()"
   ]
  },
  {
   "cell_type": "code",
   "execution_count": 187,
   "metadata": {
    "colab": {},
    "colab_type": "code",
    "id": "oPPFpwPvFcvu"
   },
   "outputs": [],
   "source": [
    "# Using the stats.normaltest() method, get an indication of whether the apple data are normally distributed\n",
    "# Save the result in a variable called apple_normal, and print it out\n",
    "apple_normal = stats.normaltest(df['apple'].dropna())"
   ]
  },
  {
   "cell_type": "code",
   "execution_count": 188,
   "metadata": {
    "colab": {},
    "colab_type": "code",
    "id": "rCdh8a8KFcvw"
   },
   "outputs": [],
   "source": [
    "# Do the same with the google data. \n",
    "google_normal = stats.normaltest(df['google'].dropna())"
   ]
  },
  {
   "cell_type": "code",
   "execution_count": 189,
   "metadata": {},
   "outputs": [
    {
     "name": "stdout",
     "output_type": "stream",
     "text": [
      "NormaltestResult(statistic=3369.0812457582374, pvalue=0.0)\n"
     ]
    }
   ],
   "source": [
    "print(apple_normal)"
   ]
  },
  {
   "cell_type": "code",
   "execution_count": 190,
   "metadata": {},
   "outputs": [
    {
     "name": "stdout",
     "output_type": "stream",
     "text": [
      "NormaltestResult(statistic=6185.0269364348405, pvalue=0.0)\n"
     ]
    }
   ],
   "source": [
    "print(google_normal)"
   ]
  },
  {
   "cell_type": "markdown",
   "metadata": {
    "colab_type": "text",
    "id": "9gDqu21yFcv0"
   },
   "source": [
    "Since the null hypothesis of the normaltest() is that the data are normally distributed, the lower the p-value in the result of this test, the more likely the data are to be non-normal. \n",
    "\n",
    "Since the p-values is 0 for both tests, regardless of what we pick for the significance level, our conclusion is that the data are not normally distributed. \n",
    "\n",
    "We can actually also check out the distribution of the data visually with a histogram. A normal distribution has the following visual characteristics:\n",
    "    - symmetric\n",
    "    - unimodal (one hump)\n",
    "As well as a roughly identical mean, median and mode. "
   ]
  },
  {
   "cell_type": "code",
   "execution_count": 205,
   "metadata": {
    "colab": {},
    "colab_type": "code",
    "id": "P9tT9RjNFcv1"
   },
   "outputs": [
    {
     "data": {
      "text/plain": [
       "(array([  83.,  105.,  201.,  376.,    0.,  730., 1360., 3084., 5091.,\n",
       "         930.]),\n",
       " array([1. , 1.4, 1.8, 2.2, 2.6, 3. , 3.4, 3.8, 4.2, 4.6, 5. ]),\n",
       " <BarContainer object of 10 artists>)"
      ]
     },
     "execution_count": 205,
     "metadata": {},
     "output_type": "execute_result"
    },
    {
     "data": {
      "image/png": "[encoded data removed]",
      "text/plain": [
       "<Figure size 432x288 with 1 Axes>"
      ]
     },
     "metadata": {
      "needs_background": "light"
     },
     "output_type": "display_data"
    }
   ],
   "source": [
    "# Create a histogram of the apple reviews distribution\n",
    "plt.hist(df['apple'])"
   ]
  },
  {
   "cell_type": "code",
   "execution_count": 206,
   "metadata": {
    "colab": {},
    "colab_type": "code",
    "id": "8dE1uC5iFcv2"
   },
   "outputs": [
    {
     "data": {
      "text/plain": [
       "(array([  24.,   25.,   60.,  106.,  198.,  658., 1346., 2663., 6907.,\n",
       "        3071.]),\n",
       " array([1. , 1.4, 1.8, 2.2, 2.6, 3. , 3.4, 3.8, 4.2, 4.6, 5. ]),\n",
       " <BarContainer object of 10 artists>)"
      ]
     },
     "execution_count": 206,
     "metadata": {},
     "output_type": "execute_result"
    },
    {
     "data": {
      "image/png": "[encoded data removed]",
      "text/plain": [
       "<Figure size 432x288 with 1 Axes>"
      ]
     },
     "metadata": {
      "needs_background": "light"
     },
     "output_type": "display_data"
    }
   ],
   "source": [
    "# Create a histogram of the google data\n",
    "plt.hist(df['google'])"
   ]
  },
  {
   "cell_type": "markdown",
   "metadata": {
    "colab_type": "text",
    "id": "QhZV89FzFcv5"
   },
   "source": [
    "### 3c. Permutation test\n",
    "Since the data aren't normally distributed, we're using a *non-parametric* test here. This is simply a label for statistical tests used when the data aren't normally distributed. These tests are extraordinarily powerful due to how few assumptions we need to make.  \n",
    "\n",
    "Check out more about permutations [here.](http://rasbt.github.io/mlxtend/user_guide/evaluate/permutation_test/)"
   ]
  },
  {
   "cell_type": "code",
   "execution_count": 216,
   "metadata": {
    "colab": {},
    "colab_type": "code",
    "id": "bxNhQgpqFcv6"
   },
   "outputs": [
    {
     "data": {
      "text/html": [
       "<div>\n",
       "<style scoped>\n",
       "    .dataframe tbody tr th:only-of-type {\n",
       "        vertical-align: middle;\n",
       "    }\n",
       "\n",
       "    .dataframe tbody tr th {\n",
       "        vertical-align: top;\n",
       "    }\n",
       "\n",
       "    .dataframe thead th {\n",
       "        text-align: right;\n",
       "    }\n",
       "</style>\n",
       "<table border=\"1\" class=\"dataframe\">\n",
       "  <thead>\n",
       "    <tr style=\"text-align: right;\">\n",
       "      <th></th>\n",
       "      <th>count</th>\n",
       "      <th>mean</th>\n",
       "      <th>std</th>\n",
       "      <th>min</th>\n",
       "      <th>25%</th>\n",
       "      <th>50%</th>\n",
       "      <th>75%</th>\n",
       "      <th>max</th>\n",
       "    </tr>\n",
       "    <tr>\n",
       "      <th>platform</th>\n",
       "      <th></th>\n",
       "      <th></th>\n",
       "      <th></th>\n",
       "      <th></th>\n",
       "      <th></th>\n",
       "      <th></th>\n",
       "      <th></th>\n",
       "      <th></th>\n",
       "    </tr>\n",
       "  </thead>\n",
       "  <tbody>\n",
       "    <tr>\n",
       "      <th>apple</th>\n",
       "      <td>6268.0</td>\n",
       "      <td>4.130377</td>\n",
       "      <td>0.624015</td>\n",
       "      <td>1.0</td>\n",
       "      <td>4.0</td>\n",
       "      <td>4.3</td>\n",
       "      <td>4.5</td>\n",
       "      <td>5.0</td>\n",
       "    </tr>\n",
       "    <tr>\n",
       "      <th>google</th>\n",
       "      <td>9366.0</td>\n",
       "      <td>4.137764</td>\n",
       "      <td>0.605452</td>\n",
       "      <td>1.0</td>\n",
       "      <td>4.0</td>\n",
       "      <td>4.3</td>\n",
       "      <td>4.5</td>\n",
       "      <td>5.0</td>\n",
       "    </tr>\n",
       "  </tbody>\n",
       "</table>\n",
       "</div>"
      ],
      "text/plain": [
       "           count      mean       std  min  25%  50%  75%  max\n",
       "platform                                                     \n",
       "apple     6268.0  4.130377  0.624015  1.0  4.0  4.3  4.5  5.0\n",
       "google    9366.0  4.137764  0.605452  1.0  4.0  4.3  4.5  5.0"
      ]
     },
     "execution_count": 216,
     "metadata": {},
     "output_type": "execute_result"
    }
   ],
   "source": [
    "# Create a column called `Permutation1`, and assign to it the result of permuting (shuffling) the Rating column\n",
    "# This assignment will use our numpy object's random.permutation() method\n",
    "df['Permutation1'] = np.random.permutation(df['Rating'])\n",
    "\n",
    "# Call the describe() method on our permutation grouped by 'platform'. \n",
    "df.groupby('platform')['Permutation1'].describe()"
   ]
  },
  {
   "cell_type": "code",
   "execution_count": 217,
   "metadata": {
    "colab": {},
    "colab_type": "code",
    "id": "AaGNfPGTFcv7"
   },
   "outputs": [
    {
     "data": {
      "text/plain": [
       "0.007387738048557857"
      ]
     },
     "execution_count": 217,
     "metadata": {},
     "output_type": "execute_result"
    }
   ],
   "source": [
    "# Lets compare with the previous analytical summary:\n",
    "np.mean(df[df['platform'] == 'google']['Permutation1']) - np.mean(df[df['platform'] == 'apple']['Permutation1'])"
   ]
  },
  {
   "cell_type": "code",
   "execution_count": 218,
   "metadata": {
    "colab": {},
    "colab_type": "code",
    "id": "aJPNpX0JFcv-"
   },
   "outputs": [
    {
     "name": "stdout",
     "output_type": "stream",
     "text": [
      "[0.010663347215370322, -0.007498973530632114, 0.007707309674598761, 0.0007832577772877158, 0.00965137039959263, -0.006273948964186538, -0.00582122249399486, 0.0007566268084557848, 0.004351807601270963, 0.0008897816526394209, 0.009331798773577482, -0.008191378720372455, -0.006486996714891724, -0.011839821450886134, 0.005603463136560016, -0.010455011071413445, 0.0015555558735345087, -0.0044364121145434865, -0.009522927162179506, -0.007898438063194568, 0.006988273516022936, 0.004884426978004619, 0.022354342534289806, 0.00014411452522899992, 0.0025409017204438555, 0.003259937879014352, 0.015084088042126353, -0.005661436680977516, -0.007978330969696579, -0.0021195178258155423, 0.0039523430687502525, 0.005337153448200738, 0.00869265552149212, 0.0320480151905187, 0.010636716246522404, 0.004085497912917901, 0.014657992540752396, 0.0013158771539778513, -0.009522927162168848, 0.006935011578348416, 0.010530192371187574, 0.0025142707516208063, 0.0063224992951349535, 0.0017686036242148262, 0.0025675326892757866, 0.012474253096215193, -0.008537581315249732, 0.0007033648707759355, 0.015590076449974788, 0.001315877154010714, 0.0009164126214642465, -0.006939723185104718, -0.0021727797634856216, -0.0027053991402183897, 0.02328642644354062, -0.0027320301090547616, 0.0013957700605145007, 0.01881242367911007, -0.02065467213554406, 0.012767193753394857, -0.002332565576512735, 0.0033664617543553987, -0.00387716176898234, 0.017640661050343454, 0.013592753787304623, 0.011302490467431703, -0.01889702819238881, -0.007712021281334636, 0.003925712099912104, 0.00802688130061835, -0.01865734947285702, -0.0025456133271823944, 0.012687300846888405, -0.015914359682756007, 0.008026881300609467, -0.0016135294179324688, 0.01883905464796065, 0.01977113855721946, 0.004698010196156233, 0.004884426978010836, -0.0033179114234256346, -0.0019863629816327943, -0.011253940136498386, -0.005634805712145585, 0.008932334241061213, -0.004436412114527499, -0.012931691173137416, -0.0027586610778813636, -0.003983685644319834, 0.00142240102933755, 0.006322499295128736, 0.006455654139306155, 0.00911875102287496, 0.0037925572557311327, 0.0077339406434315805, -0.013144738923845267, -0.020894350855058086, 0.016149326795535046, -0.012851798266648728, -0.003744006924809362, -0.00960282006867974, 0.006535547045805501, 0.008133405175951403, -0.007365818686467129, 0.0020881752502450723, -0.0022526726699796384, -0.015461633212559, 0.013779170569154786, -0.005794591525170922, -0.020122052758833497, 0.01612269582672443, 0.0025142707516074836, -0.002811923015541673, -0.007419080624138097, -0.0048358766470677494, 0.001688710717699493, 0.01894557852332479, -0.0008412313216927814, 0.004351807601282509, 0.0002772693694019779, 0.013512860880803501, -0.01104089238581274, -0.0031581256104109556, -0.004835876647073967, -0.0025722442960489644, 0.003206675941332726, 0.0044050695389525885, 0.0026207946269494187, -0.021160660543411147, 0.032234431972371524, 0.01590964807602635, -0.0073924496553194885, 0.0035528785362046733, -0.0033711733610939376, -0.0043032572703554095, -0.004942400522423895, 0.005789879918428831, 0.012367729220866153, -0.001320588760725272, 0.007121428360210125, -0.023424292894463683, -0.011680035637887443, 0.0003305313070693927, -0.0037972688624794415, -0.00832453356456675, -0.002252672669992961, 0.0025675326892748984, -0.013996929926578972, 0.006855118671849958, -0.010268594289588151, -0.009522927162190165, -0.010854475603967018, -0.014822489960484297, -0.006806568340929964, -0.019749219195126066, 0.0033930927231864416, -0.011893083388542003, -0.014236608646108984, 0.005124105697515979, -0.014822489960513607, -0.010028915570054586, 0.005203998604025983, -0.013890406051228155, -0.009895760725886937, -0.009602820068673523, 0.0011827223098368478, 0.0018484965307115075, -0.004676090834041524, 0.017827077832202498, -0.00036187388264785625, -0.007046247060439548, 0.004271914694772505, 0.005097474728677831, 0.013672646693803081, -0.01990900500813808, 0.014205266070543843, -0.0072859257799482435, 0.010237251713999918, 0.012500884065040019, 0.012793824722224123, 0.002088175250233526, -0.010987630448150654, -0.01860408753519316, -0.00845768840873884, -0.006833199309748572, 0.006642070921157206, 0.007973619362929618, 0.019371674024687202, 0.0020349133125483476, 0.01785370880101933, -0.011440356918356542, -0.00041513582033658736, -0.0007080764775162507, -0.010028915570042152, -0.003797268862467895, 0.0003571622759244164, -0.013437679581042694, 0.004484962445465257, -0.0191633378807472, 0.006269237357467539, -0.0014004816672539278, 0.012207943407851474, 0.00019737646290973743, 0.0034197236920316954, 0.01676183907875739, 0.0034197236920432417, -0.003238018516912078, -0.0076853903125027045, 0.010263882682838954, 0.0007299958396398409, 0.014205266070518086, -0.0002020880696447236, 0.00014411452522367085, -0.028510807942089045, -0.0047027218028947715, 0.010556823340048815, -0.011413725949513953, -0.0012406958542330315, 0.006242606388616068, 0.012314467283176533, 0.0071746902978722105, 0.01021062074516621, 0.0034463546608627382, 0.0031534140036670877, -0.001720053293269963, 0.0007033648707999163, 0.010077465900968363, 0.0016887107176932759, -0.00022871903847576647, 0.005816510887254545, -0.02331776901910665, 0.0003571622759164228, -0.007339187717625428, 0.00427191469477517, 0.01050356140233788, -0.00401031661315443, 0.01633574357738521, -0.01290506020432236, -6.893322546375202e-05, 0.017108041673631114, 0.009358429742422736, -0.010321856227237802, -0.004223364363831195, -0.014236608646107207, 0.018972209492144287, 0.012447622127357505, -0.002039624919315308, 0.0032333069101673217, -0.006460365746035812, -0.007552235468313739, -0.00938977231799587, 0.00810677420713013, -0.010002284601199563, -0.021054136668078094, -0.0022526726699938493, 0.01457809963422374, -0.00017545710079680532, 0.006002927669100266, -0.001773315230952477, -0.0009743861658675357, -0.019136706911898393, 0.008186667113610824, 0.006375761232807697, -0.007046247060439548, 0.004937688915663152, -0.014609442209808421, 0.007227952235541402, -0.009096831660781568, 0.002913735284158392, -0.0008412313216927814, 0.007520892892755704, -0.031413583545191415, 0.004271914694791157, 0.00017074549405826644, 0.014684623509575445, -0.00363748304946121, -0.001347219729587401, -0.00789843806318391, -0.007978330969677039, 0.0003571622758995474, -0.003850530800144192, -0.007365818686473347, 0.0006767339019315699, 0.0004370551824397495, 0.008160036144797544, -0.0018532081374447174, 0.010530192371200009, -0.005688067649836093, -0.008564212284083439, 0.004911057946825004, 0.0013425081228550795, 0.0073078451420443, -0.014849120929327775, 0.015137349979784887, -0.004409781145689351, 0.019025471429814367, 0.001262615216322871, -0.01564804999441005, -0.004596197927561718, -0.0004151358203223765, 0.01391232541334908, 0.008958965209859393, -0.0067000444655525015, 0.003259937879004582, 0.007840464518768187, 0.013938956382165912, 0.003526247567377183, -0.0025456133271868353, 0.010583454308866536, 0.009997572994478787, 0.019504828868852186, 0.010077465900976357, 0.006269237357449775, 0.0025409017204394146, -0.009070200691965624, -0.013624096362882199, -0.0037173759559685493, -0.007179401904624072, -0.004383150176856532, 0.0028072114087906996, -0.00012219516313649592, 0.009917680087957237, -0.005874484431658722, -0.010241963320731351, 0.016761839078769825, -4.230225663182097e-05, 0.004511593414285642, 0.0005702100265896348, 0.0060561896067738985, -0.009043569723128364, -0.010508273009102176, -0.01386377508240244, -0.0010542790723953033, -0.00587448443166938, -0.008164747751535195, -0.005075555366601314, 0.0011560913409827123, -0.004702721802882337, -0.0024923513895185323, 0.0008631506837968317, -0.007179401904630289, 0.009784525243776265, -0.014023560895425113, -0.01578120483856349, -0.010135439445409844, -0.009869129757046124, 0.0026740565646319325, 0.0073877380485551924, -0.016313824215311357, 0.02885229893022867, -0.008537581315267495, 0.0030202591594932215, 0.005363784417049544, 0.008745917459182628, 0.008506238739652616, 0.00286047334647499, 0.021395627656215943, -0.021533494107124795, 0.0012626152163370818, -0.014769228022818659, 0.005124105697522197, -0.012984953110834141, 0.014018849288680357, 0.002993628190668396, 0.0007566268084504557, 0.0040588669440868586, -0.004782614709415434, -0.011387094980675805, -0.012026238232737185, 0.007334476110883337, 0.02288696191097639, -0.02321124514379047, 0.010556823340018617, -0.005315234086120668, 0.0015555558735176334, -0.013464310549871072, -0.022891673517739797, 0.001981651374897808, -0.0021727797634758517, -0.006380472839535578, -0.004915769553571536, 0.012154681470180506, -0.0025189823583620097, -0.002945077859714651, -0.011440356918368089, -0.00933651038031158, 0.006828487702994046, -0.0037440069248146912, -0.0035043282052713565, 0.01335307506776573, -0.00784517612553337, 0.005550201198894378, -0.01016207041421957, 0.008186667113635693, 0.006189344450953094, -0.0008412313217087686, 0.0033131998167004184, 0.004618117289642676, 0.014924302229083253, 0.00853286970850231, 0.010530192371181357, 0.0038724501622349194, -0.014582811240972049, 0.015110719010953844, 0.004618117289636459, -0.016846443592020144, 0.012021526626020851, 0.00030390033822857987, -0.005395126992606691, -0.002066255888145463, 0.006215975419801012, -0.003397804329948073, -0.0118398214508737, -0.004036947581996131, -0.008990307785440521, -0.005767960556301688, -0.00201299395047716, -0.006140794120017112, 0.001768603624218379, -0.011839821450899457, 0.006961642547184788, -0.006407103808387937, -0.006247317995375923, 0.010130727838666864, -0.0058478534628099155, -0.00038850485149044545, -0.0026521372025554157, -0.014289870583779063, 0.011648693062300985, -0.02821786728490938, 0.010210620745152887, -0.008191378720382225, 0.027147916924724846, -0.0037173759559685493, 0.012367729220844836, -0.010481642040273798, -0.0006281835710106876, -0.013837144113563404, 0.00621597541979213, -0.01125394013650638, -0.0027053991402166133, -0.004249995332680889, -0.0017733152309542533, 0.0032333069101753154, -0.007978330969706349, 0.003153414003687516, 0.0017686036241997272, 0.0091187510228945, 0.012687300846889293, 0.002247961063258863, -0.025608032338976017, 0.008799179396860701, 0.013938956382173906, 0.0016887107176959404, 0.014657992540723086, 0.0003039003382196981, -0.012132762108093331, -0.017086122311511964, 0.019824400494882433, -0.0069130922162354835, -0.0033445423922673356, -0.00930987941149386, -0.0007613384151792246, 0.018599375928436856, 0.011835109844144931, 0.008692655521508108, 0.011808478875315664, 0.0011827223098208606, 0.012394360189703413, -0.006220687026521787, -0.002971708828571451, -0.01697959843619934, 0.014338420914707939, 0.0076274167680754346, -0.010055546538902504, -0.0029983397974095993, 0.013512860880802613, -0.01271864342245177, -0.005634805712142921, -0.004276626301514597, 0.014258528008209481, -0.012931691173168502, 0.000277269369412636, 0.013326444098950674, 6.422161870478504e-05, 0.006349130263965108, 0.002461008813941845, 0.011462276280445494, -0.006753306403221693, 0.019558090806526707, -0.0015070055425825402, -0.02033510050951559, -0.000814600352864403, 0.00826656002013415, 0.0036061404738640945, -0.006726675434420848, -0.0036907449871232956, -0.015727942900901404, -0.010641427853260943, 0.013060134410597612, -0.002732030109056538, -0.006753306403242121, 0.005443677323563989, -0.005315234086114451, 0.012447622127352176, 0.0007033648707848172, 0.00986441815029604, 0.0051773676351905, 0.00216806815673376, 0.007973619362937612, 0.03356598041416614, -0.004569566958701365, 0.0004903171200769663, -0.018897028192376375, -0.008404426471067872, 0.00898559617872774, 0.020383650840432033, 0.0005169480889044564, 0.006961642547190117, -0.0009477551970462628, -0.010348487196072398, 0.013725908631466055, 0.02448482004115693, -0.020308469540687213, -0.003104863672744429, 0.01822654236472232, 0.012580776971534036, 0.004165390819411918, 0.002540901720457178, -0.00563480571213848, 0.007946988394121668, -0.01918996884957469, -0.0025988752648853364, -0.0009743861658915165, -0.0070462470604431005, -0.004249995332684442, 0.006642070921166088, -0.02283841158007416, 0.01279382472224011, -0.017538848781746275, 0.014871040291413173, -0.009389772317986989, -0.002279303638828445, -0.002305934607679916, 0.00917201296055481, 0.009571477493102165, -0.01777852750126474, -0.0044896740522020195, 0.0036061404738836345, 0.009118751022892724, -0.0027586610778707055, -0.011520249824839013, -0.0032113875480845877, -0.005395126992623567, -0.0029184468908951544, 0.002620794626955636, 0.001608817811163732, -0.02619391365338508, 0.0029137352841459574, 0.0022745920320774715, 0.000543579057754151, -0.00518207924192815, 0.010769871090719363, 0.00014411452524143442, -0.018098099127285217, 0.00600292766911803, 3.759064988795302e-05, -0.0017733152309613587, 0.020277126965081216, -0.002092886856981835, 0.0066953328588228445, 0.007840464518768187, -0.013490941518729649, 0.0037925572557453435, -0.019749219195126955, -0.014795858991652366, 0.005097474728682272, -0.008084854845036737, 0.007281214173220363, -0.02113402957458721, -0.013091476986162753, 0.01095628787255798, 0.014285158977012102, -0.004170102426189537, 0.008905703272217735, -0.002305934607649718, -0.0028918159220481243, -0.005901115400494206, -0.007339187717636975, 0.004751272133806772, 0.0005702100265940757, 0.0008897816526287627, -0.0075522354683394965, 0.004271914694783163, 0.013326444098947121, -0.0113870949806687, 0.0038191882245621755, 0.005496939261210976, -0.015514895150229968, -0.01567468096325264, 0.00030390033825877794, -0.0016401603867608472, -0.005688067649808559, 0.0011294603721268004, -0.005341865054959705, 0.006375761232813026, -0.005528281836800986, 0.0015555558735265151, 0.0017952345930583036, 0.006695332858830838, 0.008772548428020777, -0.008644105190588114, -0.0015868984490943205, 0.004405069538941042, 0.01907873336749155, 0.00682848770301181, -0.0004950287268314923, -0.0040369475819943546, 0.014365051883532765, 0.01010409686982694, 0.004458331476637767, -0.0037173759559747666, -0.0008678622905291533, 0.0050175818221900315, -0.0008146003528519685, -0.006859830278587609, -0.010401749133747806, 0.009917680087953684, -0.002518982358358457, 0.010663347215365881, -0.0016667913555883374, -0.00792506903204071, 0.00935842974241563, -0.016260562277633284, -0.0005749216333272855, -0.005395126992616461, -0.003530959174124604, 0.0070947973913826345, -0.005954377338182049, 0.0007832577772894922, -0.0013738506983997922, -0.017618741688249173, -0.001134171978914189, -0.01349094151871899, 0.007094797391369312, 6.422161871988408e-05, 0.013166658285939548, -0.0030249707662184377, 0.006988273516042476, -0.008963676816611255, -0.0007080764775269088, 0.024591343916477548, -0.006486996714896165, -0.01578120483857859, -0.0012406958542241497, 0.0080002503317953, 0.0026207946269485305, 0.005443677323548002, -0.0015868984491049787, 0.0026474255957795734, -0.002838553984373604, -0.0006814455087083005, -0.004143471457327408, 0.0009164126214749047, -0.002359196545364206, 0.01098291884139968, 0.004112128881748056, -0.02337103095679094, -0.01306484601734148, 0.0038458191934127584, -0.009629451037525882, 0.005257260541705833, -0.006167425088873024, 0.0007566268084504557, 0.0033664617543589515, 0.003659402411530621, -0.009975653632374737, -0.018470932691013964, 0.005576832167728085, 0.010929656903722496, -0.0019331010439644913, 0.0025409017204438555, 0.005390415385882363, -0.0017999461997835198, 0.016522160359243365, -0.006566889621396399, 0.0072013212667041415, -0.006327210901891256, -0.010055546538889182, -0.017592110719427012, 0.003819188224568393, -0.00954955813100078, 0.0013691390916719115, 0.013672646693820845, -0.005954377338193595, 0.0050974747286849365, 0.008026881300613908, -0.00962945103749746, -0.005022293428932123, -0.012931691173158733, -0.005741329587491073, 0.007227952235557389, -0.00044176678917029477, 0.005816510887259874, 0.002114806219075227, 0.0242451413216207, -0.01120067819883186, 0.007254583204391096, -0.003584221111792907, -0.0015070055426047446, 0.004644748258479048, 0.0002240074317159113, 0.012713931815729218, -0.004090209519668875, 0.014764516416110318, -0.0036641140183002463, 0.018040125582898803, -0.02531509168178747, -0.006247317995355495, -0.012425702765275659, 0.0074409999862483645, -0.021027505699226623, 0.015536814512311814, 0.005257260541687181, -0.0016401603867919334, 0.003925712099917433, -0.017778527501257635, 0.004458331476619115, -0.012052869201576222, -0.0014271126360743125, -0.001693422324447802, 0.00328656884786227, 0.014365051883531876, -0.005821222494017064, 0.002514270751614589, 0.01433842091468751, 0.008745917459168417, -0.0031847565792508803, -0.002891815922056118, -0.004569566958700477, 0.014977564166755997, -0.014849120929328663, 0.013406337005442026, 0.009917680087959013, -0.006327210901880598, 0.009251905867063925, 0.013193289254768814, 0.008905703272207965, -0.006513627683714773, -0.0009477551970329401, -0.00028198097613696405, -0.007365818686484005, -0.00459619792755106, -0.013624096362899962, 0.0003039003382516725, -0.00957618909982827, 0.001182722309827966, 0.003180044972515894, 0.0005435790577692501, -0.004782614709403887, -0.01692633649851416, 0.003712664349227346, 0.011648693062301874, -0.02105413666805589, -0.009549558130990121, 0.011036180779071536, -0.009416403286845565, 0.013326444098953338, -0.012026238232740738, 0.004325176632450578, 0.003712664349227346, -0.0025456133271895, -0.005368496023771208, 0.01180847887530323, 0.006162713482112281, -0.009549558131009661, 0.008772548428042981, -0.009363141349149728, -0.004942400522408796, 0.0027805804399640976, 0.019584721775363967, 0.0005702100265816412, -0.0021994107323166645, -0.0038771617689903337, 0.006215975419796571, 0.0063757612328085855, 0.004484962445451046, 0.001555555873535397, -0.001586898449086327, 0.0038458191934029884, 0.014231897039361563, 0.0020349133125634467, 0.0021148062190663452, -0.005954377338175831, -0.01591435968276489, -0.00800496193852318, 0.0215554134692022, 0.020410281809267516, 0.00025063840056827047, -0.005821222494018841, 0.002194699125575461, 0.0018751274995612022, 0.001049567465654988, 0.004085497912945435, 0.005789879918430607, 0.0015022939358511067, 0.0004370551824326441, 0.017480875237315452, -0.022012851546162615, 0.0016354487800134265, -0.014529549303274436, 0.0036061404738481073, -0.0025456133271886117, -0.015727942900904957, -0.002332565576502077, -0.005608174743303884, -0.005661436680981069, -0.006114163151203833, 0.001475662967020952, 0.006242606388627614, -0.0057146986186316084, -0.002172779763477628, -0.0064869967148739605, -0.005554912805638246, -0.0068331993097601185, 0.005310522479369695, -0.005022293428912583, -0.00488913858474227, 0.003472985629682235, 0.00499095085333412, -0.0035043282052926727, -0.01817799203379522, 0.004378438570109111, -0.006646782527920614, -0.01042838010258329, 0.009704632337283137, -0.007951700000864648, 0.014578099634236175, -0.014795858991641708, -0.00020208806963850634, 0.00488442697799929, -0.003158125610402962, 0.012367729220846613, -0.002971708828570563, -0.016713288747836508, 0.004378438570103782, -0.00225267267000806, -0.011307202074176459, 0.004458331476634214, 0.007680678705741073, 0.007760571612255518, -0.006247317995371482, -0.015328478368401122, -0.007925069032037158, 0.005843141856090028, 0.013938956382159695, 0.0022213300944180503, -0.013943667988922215, 0.014604730603055671, 0.01018398977633339, -0.0017999461997861843, 0.019185257242818388, 0.0036061404738712, 0.0029137352841566155, 0.011861740812971533, 0.0023811159074238475, -0.002465720420675943, -0.0074989735306507654, -0.011466987887191138, -0.03141358354520474, -0.0021195178258004432, 0.0066420709211696405, -0.013490941518726096, 3.7590649873742166e-05, 0.007334476110897548, 0.006881749640698764, -0.028271129222591007, 0.004085497912926783, -0.015435002243735951, -0.009070200691968289, 0.014178635101690595, 0.004804534071485733, 0.0027539494711223966, -0.01985574307047777, -0.010561534946753603, -0.0014004816672539278, 0.02310000966169312, 0.005736617980732106, -0.021080767636929565, -0.021853065733127508, -0.005208710210768963, 0.032527372629567175, 0.00027726936940819513, -0.005847853462826791, 0.003712664349218464, -0.00012219516312761414, 0.004618117289629353, -0.006992985122787232, -0.009283248442647718, -0.008191378720387554, 0.012181312438998226, -0.01146698788718048, 0.013539491849642538, 0.005310522479371471, -0.005235341179607111, -0.0014271126360689834, -0.006620151559073584, -0.007179401904624072, 0.0025142707516225826, 0.0004370551824326441, 0.0007832577772912686, -0.007925069032012289, -0.0007879693840262547, -0.007605497406008688, 0.012873717628744785, 0.0019550204060578835, -0.01697959843618957, 0.009544846524256023, -0.013198000861518011, -0.009416403286834907, 0.00019737646291773103, -0.0022793036388408794, 0.007813833549955795, 0.0063757612328183555, -0.0036374830494407817, 0.008745917459203945, -0.0032380185169138542, 0.00019737646288042754, -0.0023325655765091824, -0.001746684262116105, -0.01618066937112861, 0.010636716246525957, 0.006189344450953094, 9.085258755536785e-05, 0.003366461754356287, 0.001715341686550076, -0.0019863629816434525, 0.011089442716739839, -0.0015602674802659422, 0.0005968409954215659, 0.00792035742527375, 0.00959810846192255, 0.0068018567341647795, 0.014657992540737297, 0.006748594796492924, 0.01439168285235759, -0.011999607263879497, -0.006566889621398175, 0.003899081131088167, 0.011941633719477096, 0.003126783034836933, 0.006855118671859728, -0.005421757961469709, 0.0024876397827862107, -0.01056153494676515, -0.011227309167656685, -0.01564804999441627, -0.010055546538887405, 0.009518215555413434, -0.004409781145697345, 3.7590649896834805e-05, -0.01357083442522189, 0.009571477493101277, 0.000783257777258406, 6.422161872254861e-05, 0.015084088042127242, -0.0006281835710009176, -0.0062206870265226755, -0.0032912804546070262, -0.004196733395025909, -0.010854475603972347, -0.006247317995368817, 0.0012892461851716774, 0.01804012558289525, -0.008777260034789514, -0.01090773754163088, 0.00424528372596189, 0.0016354487800169792, -0.004942400522431889, 0.002088175250262836, 0.0063757612328032565, 0.019424935962361722, 0.010237251714000806, -0.01050827300911461, -0.011813190482061309, 0.005230629572860579, 0.0006767339019502217, -0.013411048612209875, -0.004995662460083317, 0.004351807601269186, 0.021262472812003885, -0.007419080624149643, 0.0049376889156755865, 0.006668701889989137, 0.015030826104432293, 0.01564333838767773, -0.0035309591741192747, -0.019056814005384837, -0.012505595671775893, -0.0056614366809686345, -0.021293815387598336, -0.022678625767060367, 0.01351286088080883, 0.009891049119129747, 0.0015555558735247388, 0.0019283894372206234, 0.01031714462050548, -0.011200678198825642, -0.0010010171347323293, 0.008586131646169726, 0.006881749640695212, 0.009864418150278276, -0.012079500170411706, 0.009518215555419651, -0.002146148794669678, -0.01037511816493275, -0.004649459865217587, 0.004751272133820095, 0.02959796605763021, -0.010588165915607739, -0.019136706911887735, 0.0037659262868983134, 0.010024203963307166, -0.0012939577919066636, 0.003686033380395415, 0.011195966592096873, 1.0959681053357428e-05, -0.008031592907371099, -0.015115430617697712, -0.012399071796446393, -0.007259294811138517, 0.008586131646181272, -0.0021727797634749635, -0.013038215048502444, 0.0030468901283207117, 0.0032066759413353907, -0.0045429359898747634, -0.011333833043025265, -0.0055549128056568975, 0.008506238739679262, 0.008825810365681974, -0.009869129757047013, 0.004831165040341645, 0.0007832577772628468, -0.0028918159220543416, 0.0031267830348342684, 0.004405069538949924, -0.00222604170118057, 0.0004104242135811731, 0.01511071901093608, 0.0076007857992532735, -0.006247317995368817, -0.010534903977931442, 0.0030735210971508664, 0.0002772693694170769, 0.014231897039375774, -0.017831789438937484, 0.012128050501325482, -0.006034270244679618, -0.0065402586525573625, -0.007126139966949552, -0.0008678622905211597, 0.004564855351959274, 0.011382383373929272, -0.0051554482730926665, -0.00598100830698467, 0.018572744959601373, -0.0037972688624741124, -0.018071468158456838, -0.0011075410100502836, -0.01815136106497306, -0.012798536328971544, 0.01124922852978294, 0.010476930433515719, -0.004170102426181543, -0.012319178889928395, 0.013805801538001816, -0.005688067649815665, -0.006806568340929076, 0.004511593414297188, -0.006700044465589805, -0.005954377338153627, 0.011009549810226282, -0.0007080764775349024, -0.0043032572703261, 0.02123584184318439, -0.02161338701365345, -0.005501650867975272, -0.016633395841354925, 0.011009549810211183, 0.0069350115783475275, 0.0011294603721569985, 0.0049643198845021885, -0.011866452419711848, -0.001160802947715034, 0.024245141321638464, 0.004698010196147351, -0.0031581256104313837, 0.010317144620492158, 0.0013425081228506386, -0.004569566958727123, 0.005949665731429299, -0.02179980379548585, -0.006700044465576482, 0.0003305313070729454, -0.013304524736842183, 0.008346452926636161, 0.02179509218872333, -0.0025988752648808955, -0.009549558130993674, -0.010241963320742009, 0.0011560913409951468, 0.001528924904718565, 0.007387738048553416, -0.0006814455086789906, 0.013938956382167689, 0.013299813130100091, 0.004085497912911684, 0.007627416768073658, 0.0022745920320961233, -0.007019616091608505, 0.01122259756092614, -0.00014882613195243977, -0.0037173759559632202, 0.014817778353780398, -0.014369763490281962, -0.0020928868569853876, -0.004702721802887666, -0.00273203010904588, 0.010689978184204918, 0.0038990811310810614, 0.002993628190654185, -0.0048092456782216075, -0.0023325655764994124, -0.007419080624138097, -0.0220661134838247, -0.004489674052229553, 0.002407746876268213, 0.03276705134908564, -0.008617474221750854, 0.009864418150291598, -0.00638047283954446, -0.004356519208013054, 0.0025142707516163654, -0.005155448273103325, -0.0041701024261868724, 0.011622062093460173, -0.012771905360128954, -0.012984953110832365, -0.002971708828575892, -0.008191378720380449, -0.008191378720380449, 0.0009963055279786914, -0.012106131139259624, -0.02020194566534439, -0.00020208806964205905, 0.023179902568203126, 0.00621597541977259, 0.010290513651671773, 0.0030468901283455807, 0.016229219702053932, 0.0018218655618778001, -0.014849120929323334, 0.005550201198895266, 0.004591486320806304, -0.009815867819382262, -0.005155448273113095, 0.007440999986266128, 0.0022745920321058932, 0.005150736666351463, 0.006881749640673895, 0.004112128881752497, 0.0029137352841512865, 0.01721456554898193, -0.0017466842621240986, -0.003557590142961864, 0.003952343068752917, -0.004516305021044609, 0.006242606388624061, 0.018679268834944196, -0.003664114018304687, -0.0047826147093879, 0.004245283725945903, 0.018199911395901047, 0.009544846524244477, 0.004884426977996625, -0.010162070414243551, 0.01918525724282283, 0.0012093532786607852, 0.005124105697532855, -0.007126139966947775, -0.00478261470939767, 0.009651370399610393, -0.007791914187869509, 0.009544846524274675, -0.020814457948550746, 0.014711254478402935, 0.012128050501350351, 0.001821865561892011, 0.006535547045814383, -0.008537581315258613, -0.008590843252921587, 0.0035795095050463743, 0.007068166422557809, 0.01332644409895245, -0.006060901213528425, -0.0031581256104145083, 0.011195966592071116, -0.005767960556317675, -0.00022871903846866104, -0.0038505308001335337, -0.013677358300557607, 0.008026881300614797, -0.006380472839541795, 0.0030468901283260408, 0.006162713482133597, -0.00888378391012079, 0.010290513651684208, -0.013384417643371727, -0.010268594289577493, -0.020494886322522277, -0.009096831660815319, 0.0018751274995540967, 0.00895896520987094, -0.006859830278578727, -0.011280571105326764, -0.007552235468323509, -0.014396394459146755, -0.012052869201541583, 0.003978974037569749, -0.013890406051241477, -9.55641942992358e-05, -0.007578866437171428, -0.02041499341601316, 0.005337153448212284, -0.007925069032037158, -0.012558857609458407, -0.005155448273106877, 0.013992218319848426, 0.011275859498592666, 0.0070149044848673014, 0.017241196517825408, 0.00456485535193174, 0.00320667594133095, 0.013859063475661237, 0.007467630955049209, 0.0077872025810847845, -0.017885051376650196, 0.005177367635192276, 0.00898559617870287, 0.00850623873968459, 0.023100009661697563, 0.013805801537981388, -0.006327210901877933, 0.0017686036242006153, -0.009229986504982968, 0.031062669343586258, 0.014418313821201068, -0.0059277463693296895, -0.0033978043299462968, 0.0019017584684046795, -0.00912346262963748, 0.018945578523297257, -0.02028183857183663, 0.011888371781807905, -0.013570834425218337, 0.011355752405086683, 0.010769871090708705, 0.011302490467435256, -0.00472935277172315, 0.006588808983482686, 0.005843141856082923, 0.0040588669440966285, 0.009411691680108802, 0.00014411452522100632, 0.003233306910169098, -0.0015070055426154028, -0.01692633649852837, -0.012718643422460651, 0.00033053130707916267, 0.005230629572857026, 0.008852441334551209, 0.013938956382185452, 0.00941169168007594, 0.003499616598524824, 0.009598108461944754, 0.005816510887255433, 0.001741972655377566, 0.007733940643428028, -0.010162070414226676, -0.010481642040279127, -0.006353841870715193, -0.006859830278584056, -0.032319036485631614, -0.0017733152309453715, -0.017672003625937016, 0.008026881300637001, -0.015115430617699488, -0.01037511816492298, 0.009225274898223113, -0.016233931308788918, -0.001107541010062718, 0.01082313302839033, -0.007871807094352867, 0.0011028294033259556, 0.0049376889156702575, 0.003659402411534174, -0.005395126992622679, 0.0019283894372357224, 0.0038990811310659623, 0.005097474728669837, 0.010689978184196924, 0.019957555339071398, 0.009198643929407169, -0.00028198097616538575, 0.0018484965307159484, 0.008905703272196419, -0.017325801031062404, 0.0005968409954375531, -0.0012673268230853907, -0.0060342702446964935, 0.009251905867073695, -0.00033524291383013605, 0.0038724501622295904, -0.022758518673554384, -0.007685390312516915, -0.00800496193854805, 0.010823133028358356, -0.0007080764775295734, 0.007201321266710359, -0.012558857609453078, 0.00043705518242465047, 0.004298545663604436, 0.000543579057763921, -0.00542175796146438, -0.020148683727658323, -0.00020208806965538173, 0.004192021788256284, -0.006806568340930852, 3.75906498888412e-05, 0.002434377845114355, -0.007259294811135852, 0.012314467283191632, -0.006886461247442632, 0.00025063840055317144, -0.0011608029477487847, 0.002434377845118796, 0.0016354487800231965, -0.010055546538886517, 0.0032066759413442725, -0.009096831660789562, -0.0067000444655773705, 0.00288710431530248, -0.0002287190384739901, -0.004729352771735584, 0.025123963293196105, -0.008404426471061655, 0.01321992022358831, -0.005821222493987754, -0.014529549303299305, -0.01578120483857237, 0.005257260541693398, 0.01314002731712538, -0.0043298882391829, 0.0038990811310730678, -0.01905681400539372, -0.003451066267589731, -0.00353095917412638, -0.002119517825834194, -0.0015602674802570604, 0.002860473346486536, 0.005869772824903308, 0.0008098887461116533, 0.0046181172896355704, -0.0068065683409122, -0.009842498788213305, -0.0021195178258057723, -0.009469665224498769, 0.0004370551824237623, 0.003925712099912992, 0.008426345833155047, 0.01995755533906074, -0.00334454239227, 0.0017153416865633986, 0.012101419532502433, -0.011200678198830971, 0.0072013212667192406, 0.00847960777082779, -0.00022871903846866104, 0.011142704654409918, -0.01548826418138205, 0.002168068156762182, 0.0023012230009191725, 0.005097474728678719, 0.015723231294153095, 0.02192824703291052, -0.0030782327039000634, 0.0023012230009280543, 0.013406337005462454, -0.016606764872499014, -0.0003352429138203661, 0.0038990811310908313, -0.006939723185107383, 0.004511593414305182, 0.0011827223098093143, -0.007046247060432442, 0.003206675941352266, -0.010321856227243131, 0.01068997818419426, 0.003819188224569281, -0.007818545156682788, 0.00027726936941085967, -0.019962266945811713, 0.010104096869806511, 0.005203998604022431, -0.005767960556329221, -0.00278529204671063, -0.012026238232715869, 0.014338420914717709, -0.009629451037515224, -0.007206032873439128, -0.0022793036388364385, -0.006806568340927299, 0.001395770060506507, -0.02869722472394276, -0.008431057439905132, 0.013592753787289524, 0.007121428360204796, 0.007334476110896659, 0.0009430435902997303, 0.011781847906466858, 0.015510183543463008, -0.012265916952275191, -0.01138709498068291, -0.011014261416972815, -0.022891673517734468, 0.005230629572847256, 0.017454244268510166, 0.028639251179533254, -0.005847853462837449, 0.0017153416865340887, -6.893322545131753e-05, -0.002385827514181038, -0.003983685644315393, 0.0102372517139937, -0.008644105190603213, 0.009970942025636198, 0.006828487702994046, -0.00022871903846422015, -0.0021994107323308754, 0.007867095487601894, 0.004085497912939218, -0.00430325727035008, 0.013619384756129449, 0.016122695826717326, 0.002168068156738201, 0.0032066759413353907, -0.00824464065804964, -0.0035575901429600876, -0.005794591525154935, -0.010162070414232005, -0.00076133841518633, 0.008932334241052331, -0.010987630448149766, -0.010881106572799837, -0.003024970766238866, 0.0011827223098253015, -0.00030861194498843503, 0.012420991158530903, 0.015084088042116583, 0.011968264688330343, -0.0032912804546043617, -0.012585488578282344, -0.00012219516313027867, -0.002066255888140134, 0.004032235975253151, 0.004112128881770261, 0.007920357425295954, 0.0024343778451019205, 0.011435645311608233, 0.0016088178111930418, -0.006700044465580035, -0.010401749133756688, -0.0010010171347145658, 0.00043705518242109775, 0.011355752405079578, -0.00012219516316491763, -0.003051601735081455, 0.01819991139590904, -0.0036374830494558807, 0.0030468901283144945, -0.0036641140182913645, 0.011222597560921699, -0.0006548145398470595, 0.015536814512330466, -0.01394366798890978, -0.01295832214199244, 0.004378438570115328, 0.015510183543494094, 0.017081410704796518, -0.005714698618657366, 0.004298545663613318, 0.004005605006407009, 0.011968264688333008, -0.0031314946415896827, 0.02453808197882079, 0.029571335088784068, 0.0016088178111797191, -0.0032113875480836995, 0.0016088178112045881, -0.0023591965453224617, -0.006060901213510661, 0.004405069538946371, 0.010716609153063494, -0.00571469861864049, -0.001773315230957806, -0.02065467213553429, 0.007201321266716576, -0.013224631830342837, -0.009576189099833599, -0.00025535000731835567, -0.0053951269926173495, -0.014502918334480697, 0.018519483021925076, 0.01457809963422374, 0.011622062093454844, 0.002807211408793364, -0.00014882613195865702, 0.016362374546213587, -0.007392449655316824, -0.003744006924809362, 0.00110282940333839, 0.008186667113634805, 0.012181312439016878, -0.01623393130879336, 0.0069616425471892285, -0.00422336436384807, -0.012186024045741206, -0.007712021281351511, -0.0029983397973909476, -0.004170102426148681, 0.00392571209990944, 0.007041535453697456, 0.006136082513284791, 0.003020259159479899, 0.004511593414309623, 0.0009430435902810785, -0.0030249707662415304, -0.005821222494001965, -0.01357083442522189, -0.009363141349157722, 0.007174690297881092, 0.007281214173196382, -0.001533636511438452, -0.001879839106274872, 0.0010229364968088461, -0.008857152941264879, 0.010237251713985707, -0.022066113483822036, -0.0018265771686403198, 0.01817328042705313, -0.01213276210807912, 0.000490317120095618, -0.014343132521454471, -0.003078232703898287, -0.0020662558881481274, 0.015190611917446084, 0.016548791328080625, 0.001422401029352649, -0.0027586610778849163, -0.005821222493981537, -0.003823899831323807, 0.010956287872569526, -0.00566143668099528, 0.017400982330822323, -0.0022260417011725764, -0.0064603657460775565, 0.011701954999956854, -0.004249995332679113, -0.012878429235491318, 0.005949665731425746, 0.005896403793768101, 0.011835109844135161, -0.013118107954983138, -0.003051601735085896, 0.016255850670884975, 0.00163544878003119, 0.006109451544435984, -0.00036187388265673803, 0.008506238739663274, -0.0012406958542392488, 0.01175521693763315, -0.001959732012803528, -0.00020208806966781623, 0.0016088178111752782, -0.013411048612201881, 0.016069433889027707, -0.0012939577919102163, 0.0024077468762664367, 0.015616707418810272, -0.004090209519671539, 0.00839971486431157, -0.002918446890883608, 0.002700687533476298, -0.011893083388559766, 0.011755216937635815, 0.019025471429815255, 0.011355752405094677, -0.009975653632388948, 0.004298545663607101, -0.0051288173042634, -0.004915769553580418, 0.01788033976987702, 0.0044317005077845195, -0.00020208806964205905, -0.007152770935785924, -0.003424435298778228, 0.00589640379376366, -0.0041701024261868724, -0.01711275328036521, 1.0959681056910142e-05, -0.018284515909142485, 0.012767193753411732, 0.0040854979129232305, -0.017166015218042396, -0.006167425088865031, 0.0122345743766763, -0.006726675434415519, -0.004223364363837412, 0.012447622127375269, -0.0037706378936235296, 0.0054969392612242984, 0.018572744959598708, -0.00984249878820087, -0.01982911210161742, -0.0031048636727426526, 0.005337153448191856, -0.02169327992012615, -0.007312556748793497, -0.01628719324647765, -0.003211387548091693, -0.003451066267615488, 0.011728585968804772, -0.004249995332690659, -0.007685390312501816, 0.018279804302418157, -0.0029450778597333027, 0.00035716227591375826, 0.01066334721535167, -0.0035842211118017886, -0.003131494641571031, -0.01263875051595953, -0.0010276481035695895, 0.0151639809486257, 0.009065489085230638, 0.004538224383148659, 0.0022745920320925705, 0.012261205345522441, -0.005475019899128242, -0.0011341719789061955, 0.008399714864346208, -0.011573511762517974, 0.006695332858830838, -0.01519532352419084, -0.00789843806317414, -0.011653404669026202, -0.009789236850556549, -0.000787969384022702, -0.008670736159424486, 0.004511593414314952, -0.0035842211117778078, -0.0025722442960196545, 0.0011560913409889295, 0.0027273185022886892, 0.000357162275907541, -0.008004961938526733, 0.009305167804740222, 0.009624739430771356, -0.008697367128267963, 0.00813340517597183, -0.016846443592013927, -0.002705399140219278, -0.011919714357373934, 0.0031267830348582493, -0.011360464011861637, 0.009811156212624184, -0.008883783910103915, -0.0034510662676181525, 0.0016354487800400719, -0.0005749216333423846, 0.015110719010970719, 0.006482285108153185, 0.004351807601276292, -0.010428380102601054, 0.010050834932134656, -0.008377795502222618, -9.556419431611118e-05, 0.008160036144803762, -0.00917672456731733, 0.01063671624653928, -0.01178655951320362, 0.0011028294033197383, -0.013357786674525585, 0.007787202581100772, -0.009735974912883805, -0.005794591525165593, -0.006833199309761895, 0.011089442716752274, 0.00445833147663155, -0.004542935989858776, -0.007765283219001162, 0.0045914863208045276, -0.009043569723133693, -0.008723998097086572, -0.0048358766470677494, -0.00875062906591495, -0.004436412114539046, -0.0006281835710204575, -0.010561534946773143, 0.001502293935852883, 0.009411691680083045, 0.01891894755447243, 0.0036327714427200064, 0.002008282343748391, 0.01170195499997817, -0.003930423706646202, 0.014604730603074323, -0.027339045313324206, 0.004271914694774281, -0.01681981262318466, -0.015994252589268676, 0.01492430222911345, 0.011222597560928804, 0.014444944790048986, -0.005874484431655169, 0.004325176632447025, 0.01029051365167799, -0.005475019899144229, 0.0028604733464794307, -0.00475598374056041, -0.007525604499486249, 0.003899081131065074, -0.006087532182346145, -0.012931691173141857, 0.0002772693694019779, 0.010317144620489493, 0.002061544281397154, 0.01018398977632895, -0.0005216596956598707, -0.024143329053022633, 0.019504828868861068, -0.007046247060432442, 0.007361107079732143, -0.0031314946415648137, 0.0019017584683993505, 0.011382383373932825, 0.0014490319981934618, 0.018785792710279026, 0.0015555558735318442, 0.004831165040304342, 0.00978452524379314, -0.003477697236431432, 0.014844409322591012, -0.0030249707662219905, 0.0046980101961304754, 0.0017153416865491877, 0.006961642547186564, 0.0020082823437457265, 0.013459598943120099, -0.014662704147490047, -0.004915769553584859, -0.007232663842294151, -0.017032860373874747, -0.001799946199770197, 0.005070843759841459, 0.019691245650696132, 0.015110719010941409, -0.0027586610778813636, -0.009869129757029249, 0.0038990811310855022, -0.0010542790723766515, 0.014231897039356234, -0.005501650867968166, -0.0016401603867723935, -0.010188701383060383, -0.004463043083362095, -0.0036641140182922527, 0.013592753787295742, 0.010530192371197344, -0.005874484431664051, 0.0016088178112116935, 0.010317144620503704, -0.004463043083370977, -0.006700044465561383, -0.01918996884956581, 0.006002927669099378, -0.016793181654338518, -0.003211387548071265, 0.010583454308839002, 0.0016887107176906113, -0.0016135294179395743, -0.010747951728625083, 0.002301223000927166, -0.018444301722162493, -0.019695957257442664, 0.004165390819428794, 0.013193289254768814, -0.009735974912863377, -0.0023325655765100706, -0.005688067649821882, -0.0064071038083843845, 0.017187934580143782, -0.03170652420239506, -0.0070728780292750315, -0.0059543773381767195, -0.0074190806241309915, 0.0015289249046874787, 0.011675324031132917, 0.006775225765329296, 0.023153271599370306, -0.00350432820527935, -0.02555477040132459, 0.010024203963333811, -0.006992985122775686, 0.005843141856071377, -0.016446979059487, 0.007654047736916247, -0.008377795502228835, -0.0020129939504709427, -0.012665381484785243, 0.011249228529772282, -0.0021994107323068945, 0.006668701890006901, 0.0016887107177030458, 0.01566996935650078, -0.009469665224504098, -0.0158078358074194, -0.011174047229993711, -0.0034776972364349845, 0.016309112608553278, -0.011174047229991935, 0.0016887107177074867, 0.002887104315306921, 0.0064023922016298584, 0.01066334721536677, -0.0031314946415790246, 0.0012892461851601311, -0.0003352429138159252, 0.020623329559955828, 0.0017153416865447468, -0.006833199309761895, 0.006855118671840188, -0.013411048612195664, 0.014444944790062308, -0.01037511816492298, 0.003978974037575078, 0.01255414600269944, 0.010290513651669997, 0.0012626152163512927, -0.013411048612221421, 0.007733940643426251, 0.007041535453704562, 0.01111607368558687, -0.00704624706042889, 0.007281214173215922, -0.014582811240987148, 0.01082313302837079, -0.0020928868569800585, -0.010188701383068377, 0.02187498509524044, 0.016016171951364733, -0.027099366593814622, 0.01092965690373049, -0.005182079241938808, 0.010903025934866584, 0.013619384756144548, 0.016495529390412322, -0.008191378720385778, 0.003845819193395883, -0.007632128374836178, 0.009012227147558782, -0.011893083388559766, 0.0017153416865545168, 0.009278536835878981, -0.009709343944022564, 0.006588808983496008, -0.0038238998313122607, 0.000783257777288604, 0.004112128881757826, -0.005528281836791216, -0.014289870583801267, -0.007232663842283493, -0.011227309167653132, -0.005261972148437266, -0.002652137202522553, 3.759064990038752e-05, 0.011835109844132496, -0.016660026810167317, 0.003606140473896957, 0.0026474255957804615, 0.005337153448217613, 0.01311339634827835, -0.007765283219003827, 0.010503561402370742, -0.01985574307044491, 0.006002927669104707, 0.003686033380381204, 0.014231897039355346, 0.015084088042105037, 0.0002506384005753759, 0.018120018489375944, -0.004276626301515485, 0.028080000833977437, 0.03148876484496821, 0.013459598943126316, 0.008745917459197727, -0.0001488261319595452, -0.01154688079368782, -0.018683980441696946, 0.007467630955076743, -0.013597465394062702, 0.004245283725948568, -0.01314473892384349, -0.006194056057713837, -0.001693422324432703, 0.00043705518242997954, 0.001262615216322871, -0.00840442647107853, -0.003344542392269112, 0.005443677323523133, -0.006300579933049555, 0.02709465498706365, 0.006935011578356409, -0.02531509168180346, -0.006913092216265682, 0.002993628190644415, -0.008723998097071473, -0.017006229405049034, -0.0056614366809784045, 0.016974886829459024, 0.0027539494711366075, -0.007232663842269282, -0.0019064700751325603, -0.004942400522413237, 0.010476930433499732, -0.0035309591741086166, -0.004010316613169529, 0.0072013212667041415, 0.0025941636581316985, -0.010481642040268468, 0.010476930433518383, -0.012638750515963082, 0.007068166422540045, 0.007387738048563186, 0.015137349979775117, -0.010241963320728686, 0.007068166422524058, 0.00200828234372441, 0.011728585968802996, -0.001933101043958274, -0.021959589608491648, 0.0032865688478480592, -0.0021461487946536906, 0.0019283894372268406, -0.011280571105342752, 0.0047779031026706775, -0.0015336365114126949, 0.00983778718145345, 0.011781847906467746, 0.02243423544079537, -0.013171369892680751, 0.0034996165985310412, 0.01718793458014556, -0.0007347074463570635, -0.0280048195342113, 0.010024203963304501, -0.019536171444423545, 0.001582186842362887, -0.0017200532932770685, -0.00014882613197020333, -0.00046839775801377215, 0.007760571612266176, 0.005363784417032669, -0.005395126992628896, 0.009944311056803379, 0.010397037527025255, 0.007627416768083428, 0.016042802920224197, 0.004831165040328322, 0.0050175818221900315, 0.001635448780006321, -0.0015602674802570604, 0.021555413469211082, -0.009949022663567675, 0.0008897816525887947, -0.01591435968277466, 0.018546113990777435, -0.007019616091612946, -0.00856421228408788, 0.009225274898222224, -0.01285179826665761, 0.00661543995231284, 0.005310522479380353, 0.00525726054168274, -0.010321856227240467, 0.0005169480889302136, 0.018226542364733866, 0.0237125219449279, 0.008026881300612132, -0.0054750198991273535, -0.026140651715715002, -0.008963676816629906, 0.009731263306130167, -0.013703989269386874, 0.004138759850602192, 0.007680678705762389, 0.01132912143626541, -0.014849120929317117, -0.0036641140183073517, -0.015994252589260682, -0.0069397231850967245, -0.014103453801925347, -0.009496296193333364, 0.004591486320807192, 0.00885244133453078, -0.018311146878005502, 0.005630094105414152, 0.0028604733464741017, 0.0017419726553642434, -0.012239285983439707, 0.016016171951360292, -0.006034270244690276, -0.010747951728636629, -0.01711275328038031, 0.00661543995231284, 0.0025142707515968254, -0.00331791142343274, 0.008426345833163928, -0.011440356918349437, 0.014791147384916492, 0.005976296700286099, -0.005608174743316319, 0.0025142707516065954, -0.01996226694577885, 0.0027805804399685385, -0.020361731478337752, -0.0037440069248004804, -0.000867862290552246, 0.004405069538949036, -0.008830521972417849, 0.009598108461926103, 0.015084088042114807, -0.01735243199988723, -0.017618741688233186, -0.0031847565792375576, -0.0027320301090378862, -0.006913092216264793, 0.004138759850600415, 0.009571477493087954, -0.0052619721484239435, 0.021022794092486308, -0.0042233643638205365, 0.022833699973326738, -0.0015336365114357875, -0.0015070055425976392, -0.0035043282052713565, -0.00020208806964916448, -0.0054750198991220245, 0.0073344761109117584, -0.002465720420690154, 0.0034996165985381467, 0.01220794340784348, -0.016633395841330945, 0.012767193753379757, -0.002971708828570563, -0.006433734777221645, -0.015807835807428283, 0.004777903102652914, -0.006646782527897521, 0.001395770060510948, 0.002088175250253954, -0.02603412784036685, 0.0010761984344673792, 0.013219920223615844, -0.0056348057121518025, -0.004196733395008145, -0.0037440069248066976, -0.00909683166079489, 0.000996305527966257, 0.007307845142051406, 0.007760571612255518, -0.005981008307007762, 0.0017419726553846715, -0.005981008307009539, -0.004489674052220671, -0.0042233643638454055, 0.008026881300623678, 0.015536814512318031, 0.00038379324477322285, -0.0017466842621187695, -0.0044630430833754176, -0.006407103808397707, -0.009443034255666838, 0.0028871043153158027, -0.004463043083367424, -0.015248585461876019, 0.006056189606772122, -0.002039624919319749, -0.0017466842621143286, -0.025661294276656754, -0.0013738506984202203, -0.012558857609462848, -0.015754573869753763, 0.010796502059537083, 0.006988273516034482, -0.008803891003617004, -0.004809245678218055, -0.01026859428958904, 0.0007832577772806104, 0.006748594796509799, -0.014396394459130768, 0.013326444098955115, -0.0004950287268510323, 0.006322499295132289, 0.006721963827650335, -0.0019597320127910933, 0.00035716227591908734, 0.015643338387670624, -0.002838553984378045, 0.032261062941208785, -0.020122052758834386, 0.011542169186971485, -0.006779937372079381, -0.012159393076908387, 0.018972209492135406, 0.004618117289638235, -0.0021727797634891743, 0.012314467283194297, 0.00017074549406714823, -0.012425702765291646, 0.014977564166748891, 0.0051773676351905, 3.759064986486038e-05, -0.006913092216277228, -0.00978923685053168, -0.0046494598652166985, 0.006801856734170109, -0.007871807094341321, -0.0016401603867839398, 0.006908380609525366, -0.012931691173150739, -0.005847853462828567, -0.009389772317989653, 0.016681946172242945, 1.0959681040034752e-05, 0.009092120054059016, -0.010082177507720225, -0.011653404669023537, 0.010530192371192904, -0.0004950287268243869, 0.015137349979783998, -0.007978330969690361, 0.007867095487591236, 0.012713931815698132, -0.008537581315239962, 0.0074676309550651965, -0.007498973530649877, -0.0037440069248049213, 0.022460866409611313, -0.0055282818367956565, 0.007840464518779733, -0.004090209519663546, -0.011919714357376598, 0.005923034762590262, -0.0025988752648551383, 0.018599375928467943, -0.0023325655764949715, 0.009251905867067478, -0.00728592577995979, -0.00659352059021856, 0.014657992540738185, -0.000867862290527377, -0.002332565576516288, -0.012106131139225873, 0.024857653604862584, 0.003659402411544832, -0.012931691173144522, -0.001986362981650558, -0.001613529417928028, -0.01735243199990677, -0.007525604499477367, 0.006695332858819292, -0.014715966085150356, -0.011680035637872344, -0.007978330969693914, -0.009283248442642389, 0.008745917459171082, 0.004751272133831641, -0.0052619721484541415, -0.0005749216333219564, -0.0024923513895345195, -0.0065402586525671325, 0.0027006875334487646, 0.018013494614040226, -0.01325126279916855, -0.007632128374832625, -0.0037972688624732243, 0.015243873855120604, -0.0010010171347065722, -0.007179401904608973, 0.0049110579468436555, 0.001582186842352229, 0.0012359842474802818, 0.01287371762873768, 0.008346452926669023, -0.014263239614966672, 0.014311789945885778, -0.004356519208037035, -0.0042233643638756035, 0.019771138557216794, -0.014929013835844884, 0.01247425309622141, -0.011466987887188473, 0.00232785396978219, -0.013171369892692297, 0.015616707418836917, -0.010455011071422327, 0.00895896520989048, 0.016042802920192223, 0.009917680087972336, 0.0018751274995443268, -0.01362409636290085, 0.009358429742404084, -0.00331791142343274, -0.001347219729601612, 0.0023811159074442756, -0.00014882613195865702, -0.00038850485149399816, 0.0007566268084477912, 0.007361107079709939, 0.0027805804399783085, 0.012820455691074706, -0.004702721802869014, -0.002146148794655467, -0.004090209519664434, -0.01104089238579764, -0.0025456133272125925, -0.0043298882391873406, 0.0035262475673887295, 0.008532869708489876, -0.0031314946415781364, 0.004085497912917901, -0.004010316613159759, -0.0024390894518457884, 0.005603463136553799, 0.013912325413327764, 0.007201321266710359, -0.0045429359898649935, 0.0016354487800329665, -0.01359746539404938, -0.007259294811133188, 0.01756076814383878, -0.0006015526021982964, -0.012558857609459295, -0.01559478805673109, -0.005448388930292758, -0.008404426471065207, -0.015275216430710614, 0.0011827223098039852, 0.022514128347308038, 0.005736617980737435, 0.0016887107176968286, 0.01756076814384855, 0.00310015206600589, 0.0036061404738836345, 0.020809746341812208, 0.016362374546225134, -0.020068790821153648, 0.0008365197149560188, -4.230225662915643e-05, -9.55641942947949e-05, -0.011493618856007082, -0.00632721090186994, 0.014711254478426028, 0.010982918841401457, 0.003313199816697754, 0.0041387598506013035, -0.0052087102107805094, -0.018177992033813872, 0.004857796009174464, -0.0021195178258173186, 0.018226542364725873, -0.007605497406001582, 0.015190611917440755, -0.006220687026538663, -0.014822489960501173, 0.0032865688478542765, -0.0035309591741192747, -0.016074145495771575, 0.0017153416865385296, 0.009624739430763363, -0.001640160386790157, -0.021267184418766405, -0.006913092216263905, -0.005048924397762278, 0.0007566268084628902, 0.003393092723203317, -0.017645372657119296, -0.0007613384151836655, 0.017347720393155797, 0.013140027317087188, -0.0014004816672494869, 0.019824400494865557, 0.0009430435902961776, -0.009895760725882496, 0.004857796009168247, -9.556419428591312e-05, 0.01782707783220605, 0.0023811159074398347, -0.01788505137661911, -0.007765283219009156, -0.014502918334472703, 0.0021680681567408655, -0.0026255062337012802, 0.017374351361985063, -0.023211245143785142, -0.010774582697440138, -0.010028915570051922, -0.0007080764775322379, 0.015669969356518543, -0.012905060204321472, 0.0016354487800320783, -0.0038505308001512972, -0.0004151358203232647, -0.016846443592014815, -0.004782614709402999, -0.015994252589258906, 0.00717469029788198, 0.0003039003382099281, 0.00949158458659305, 0.0028338423776528288, 0.007254583204375997, -0.004356519208022824, 0.0073078451420354185, 0.014365051883547864, 0.0038724501622313667, -0.014343132521434931, -0.007312556748797938, -0.018604087535176284, -0.023051459330746482, -0.009443034255653515, -0.004782614709396782, 0.009385060711237792, -0.012132762108072015, 0.004378438570115328, 0.003046890128342028, -0.025235198775304113, 0.006562178014652531, -0.019695957257467533, -0.0006015526021903028, -0.008537581315249732, 0.00014411452522367085, -0.007445711592986903, -0.00044176678914720213, 0.0005435790577799082, -0.011440356918341443, 0.007946988394118115, -0.008218009689203498, -0.0177252655636142, 3.759064988262395e-05, -0.009975653632386283, -0.003211387548090805, -0.007818545156690782, -0.015408371274881816, 0.0004104242135642977, -0.006114163151213603, -0.003344542392264671, -0.013703989269377992, -0.005847853462835673, -0.004489674052195802, 0.019185257242821052, -0.010934368510485903, -0.00038850485150998537, 0.0063491302639615554, 0.003765926286910748, 0.010556823340014176, 0.020996163123641054, 0.020836377310659238, -0.016713288747832067, 0.014018849288675028, 0.005070843759841459, -0.00957618909984781, -0.010907737541632656, -0.010375118164921204, -0.008990307785449403, -0.01583446677626199, -0.01578120483860168, 0.01950482886884064, -0.004889138584754704, -0.005954377338150962, 0.0022745920320881297, 0.0064290231704768885, 0.01029051365164868, -0.009309879411495636, -0.010907737541632656, 0.002887104315332678, -0.0025722442960152136, 0.010929656903719831, 0.006109451544467959, -0.007046247060434219, 0.013912325413341087, 0.008559500677349341, 0.004245283725941462, -0.01666002681016643, -0.01002891557006258, 0.0009430435902917367, -0.0007347074463703862, 0.003073521097157972, 0.001315877154000944, -0.004782614709406552, -0.0013205887607368183, 0.019504828868858404, 0.001049567465645218, 0.0025409017204394146, 0.0009164126214749047, 0.005390415385878811, -0.0052087102107609695, -0.010801213666288056, 0.00395234306872716, 0.0015022939358386722, 0.0018484965307070667, -0.0010809100412343398, 0.00421865275710509, 0.016335743577382544, 0.0030735210971606364, -0.0064337347772109865, -0.001586898449101426, 0.004564855351952168, 0.003100152065989903, -0.0004950287268288278, -0.002012993950487818, -0.00930987941147432, 0.012447622127369051, -0.003504328205274909, -0.0063005799330229095, -0.02366397161397682, 0.012394360189698084, 0.011462276280453487, 0.0014490319981765865, 0.02736096467542204, -0.0003618738826540735, 0.017454244268486185, -0.0034244352987604643, 0.0044050695389525885, 0.013113396348261475, -0.003717375955966773, 0.00914538199172199, -0.006833199309737914, -0.00044176678913743217, -0.005501650867957508, 0.013592753787293965, 0.001821865561892011, 0.014924302229103681, 0.014311789945872455, 0.0016887107177003813, 0.010743240121853681, 0.004591486320793869, 0.004138759850589757, 0.007867095487597453, 0.0015022939358484422, -0.00518207924193792, -0.002705399140214837, -0.00203962491930465, -0.004010316613149989, -0.0010542790723873097, -0.016260562277635948, 0.013859063475663014, 0.005763248949584465, 0.010290513651674438, -0.0038771617689690174, 0.0026207946269440896, -0.0016401603867715053, -0.01436976349027308, 0.003899081131073956, 0.006695332858819292, 0.005550201198898819, -0.004729352771725814, 0.017773815894520872, -0.013277893768031568, -0.021293815387601, -0.0014271126360902997, -0.005634805712137592, -0.003797268862481218, -0.007712021281351511, 0.004405069538969464, 0.005257260541697839, 0.0027006875334532054, 0.006455654139310596, 0.022487497378468113, -0.01239907179644284, 0.0008098887461365223, -0.004090209519679533, -0.0023059346076630405, 0.014338420914707939, -0.008777260034774415, 0.008479607770845554, -0.0021994107323157763, -0.0007347074463615044, -0.006460365746034924, 0.0039789740375919536, 0.0029403662529974284, -0.00526197214844526, -0.004835876647073967, -0.00672667543441019, 0.0025142707516216944, -0.0025722442960240954, -0.003983685644342039, 0.005576832167718315, -0.002039624919318861, 0.010423668495847416, 0.014950933197927618, -0.010295225258420082, -0.0223057922033707, -0.010455011071444531, 0.015004195135597698, 0.014764516416077456, -0.0035842211117653733, -0.008484319377596528, -0.000894493259369078, -0.011493618856021293, 0.018199911395884172, -0.0044364121145532565, 0.010796502059539748, 0.003126783034832492, -0.0028918159220534534, 0.006455654139311484, 0.008026881300626343, -0.0013472197295696375, -0.008164747751540524, 0.012580776971558016, -0.011253940136485063, 0.0035262475673834004, 0.005843141856091805, 0.013566122818474469, 0.014684623509576333, -0.002492351389546066, -0.008723998097112329, -0.002838553984382486, -0.014396394459128103, -0.015035537711168168, 0.009518215555426757, -0.003158125610408291, -0.0072326638422755, -0.0028918159220747697, 0.0064822851081398625, 0.011009549810247599, 0.009811156212598426, 0.009518215555433862, -0.00915009359846497, 0.0023811159074424992, 0.0025941636581077177, -0.014316501552613659, 0.006508916076978011, 0.0027006875334683045, -0.009229986504969645, 0.012474253096196541, -0.0009477551970453746, -0.00776528321900205, 0.005709987011892181, -0.004090209519658217, -0.013277893768037785, 0.00922527489825331, -0.016446979059500322, 0.014311789945866238, 0.001395770060516277, -0.006513627683727208, -0.015807835807426507, 0.003366461754351846, -0.0007613384151756719, 0.013619384756162312, 0.002780580439975644, -0.009336510380309804, -0.0012939577919075518, 0.004511593414290083, 0.0019283894372170707, 0.019105364336321706, 0.004538224383141554, -0.003850530800144192, 0.005630094105421257, -0.017432324906400787, 0.0011560913409685014, 0.002141437187912487, -0.0008944932593708543, 0.008719286490379119, 0.015590076449975676, -0.012212655014589124, 0.006668701889983808, -0.0020396249193170846, -0.005448388930283876, -0.01860408753519316, 0.013512860880813271, 0.004192021788251843, -0.013304524736849288, -0.015727942900921832, 0.0033398307855181386, -0.0023858275141765972, -0.004010316613169529, -0.007525604499493355, 0.004751272133833417, 0.006881749640665014, -0.0021195178258253122, -0.001320588760750141, 0.0097046323373009, 0.005203998604009108, -0.011653404669047518, 0.005337153448222942, 0.019238519180493796, 0.004271914694791157, -0.024036805177680698, 0.0025941636580970595, 0.008719286490351585, 0.007760571612245748, 0.00035716227590931737, -0.0028119230155434494, -0.01484912092931534, -0.002439089451849341, 0.001022936496807958, -0.009389772317986989, -0.006620151559053156, 0.001369139091679017, 0.009358429742426289, 0.00802688130063256, 0.0045115934142945235, -0.0051288173042634, -0.0015868984491138605, 0.0197445075883671, -0.0015070055426109619, -0.021240553449918487, 0.00376592628690009, -0.008324533564565861, 0.001449031998189021, -0.016766550685517245, 0.0037126643492264577, -0.00832453356455698, -0.014130084770769713, -0.009363141349169268, 0.0005169480889151146, 0.014391682852400223, -0.005981008307007762, 0.001289246185169901, 0.009385060711229798, 0.009784525243790476, -0.0027852920467275055, -0.006353841870692989, 0.0015289249046865905, 0.003712664349228234, -0.019456278537934857, -0.0056081747433252005, 0.003472985629717762, 0.011728585968797667, -0.011999607263893708, 0.00038379324476078835, -0.0024390894518599993, 0.004245283725936133, 0.011275859498594443, -0.005874484431653393, 0.009225274898241764, -0.006034270244677842, 0.004298545663615094, -0.001187433916557623, -0.0029450778597315264, 0.003765926286901866, 0.0043518076012896145, -0.01799157525195927, -0.0001754571007808181, -0.003451066267600389, -0.01362409636289108, -0.010694689790942569, 0.000863150683808378, -0.005048924397764942, -0.010801213666294274, -0.0016401603867661763, 0.015217242886287785, -0.007419080624129215, -0.004249995332653356, 0.01769392298800554, -0.005528281836786775, 0.005843141856080258, -0.02086771988622349, 0.007201321266721017, -0.005048924397759613, -0.001533636511433123, 0.005603463136559128, -0.00701961609159607, -0.007046247060432442, -0.0036374830494505517, 0.004405069538960582, -0.00241245848300764, 0.004724641164973953, -0.0014271126360974051, -0.0025456133271930526, -0.005182079241937032, 0.023952200664412615, -0.007951700000861095, -0.0006814455086932014, -0.0024124584830094165, -0.0019331010439644913, 0.009757894274934564, -0.01636708615297433, -0.016287193246468767, 0.013646015724973815, -0.004063578550836944, 0.00701490448486819, 0.00011748355640861519, 0.0008098887461187587, -0.006380472839539131, -0.01849756365982902, -0.0003086119449804414, 0.008160036144813532, -0.007445711593009996, 0.0023012230009227252, 0.012101419532505098, 0.0010229364968052934, -0.00717940190460542, -0.008431057439883816, 0.00813340517595229, -0.005847853462853436, 0.005763248949552491, -0.01823125397148928, 0.004538224383138889, 0.007520892892771691, 0.0084529768020003, -0.012984953110824371, 0.02142225862504432, 0.00043705518240422236, -0.004676090834060176, -0.008564212284086103, -0.027205890469138794, -0.004755983740563963, -0.00922998650496698, 0.0018218655618857937, 0.030050692527827216, 0.007946988394113674, 0.0015289249046874787, -0.0012939577919146572, -0.004356519208021936, 0.0021946991255985537, 0.006455654139295497, -0.012532226640615818, -0.029922249290412317, -0.003610852080625726, -0.022119375421516985, 0.014764516416093443, 0.006535547045826817, -0.005022293428915248, 0.0028604733464794307, -0.0016135294179520088, 0.01716130361132162, -0.0036374830494603216, -0.001720053293269963, 0.004192021788270495, -0.012186024045728772, -0.011067523354666875, -0.017245908124561282, -0.0008678622905602396, -0.002998339797397165, -0.006566889621383076, 0.011195966592094209, -0.0004950287268368214, 0.013432967974307708, 0.004511593414302517, 0.005230629572849033, 0.0019017584683940214, 0.00448496244544927, -0.003371173361080615, -0.010827844635119988, -0.003131494641571031, -0.005048924397763166, -0.01594099065160126, -0.007712021281336412, -0.002518982358343358, -0.0027852920467372755, 0.008905703272214183, -0.007206032873469326, -0.019536171444442196, -0.005821222494011735, -0.007871807094353755, -0.001320588760750141, 0.0014756629670138466, 9.085258755270331e-05, -0.010721320759772723, 0.0029403662529938757, -0.005395126992609356, 0.006375761232790822, 0.022221187690088406, -0.007765283219014485, -0.010215332351904749, -0.009682712975199514, -0.004356519208040588, 0.008133405175973607, -0.00603427024467873, -0.006806568340916641, -1.5671287802554446e-05, -0.008510950346401813, 0.0014490319981828037, -0.01215939307691194, 0.018812423679126056, -0.006087532182346145, 0.005923034762588486, -0.01410345380193867, -0.0011341719788866556, -0.001107541010047619, 0.0019017584683957978, 0.004405069538949924, 0.005017581822175821, -0.0005749216333255092, 0.005177367635176289, -0.013863775082403329, 0.017986863645203854, -0.001933101043957386, -0.019722588226290583, 0.0034996165985328176, 0.007707309674607643, -0.0037440069248155794, -0.00709950899810341, 0.00429854566359289, -0.009869129757024808, 0.023392950318888772, 0.011169335623238297, 0.003180044972515894, 0.00882581036569885, 0.002594163658129922, -0.01029522525839166, -0.010614796884461875, -0.00555491280563114, -0.006220687026531557, 0.015829755169525228, -0.009656082006364919, 0.007387738048579173, -0.0008146003528564094, -0.013304524736851064, 0.0077605716122830515, 0.0003039003382516725, -0.0176986345947725, -0.013943667988908892, -0.018710611410524436, -0.0038771617689752347, 0.015084088042106814, 0.010636716246522404, 0.001102829403317962, -0.003823899831292721, 0.0024077468762655485, -0.011893083388569536, -0.01165340466905107, -0.0036108520806275024, 0.0015289249046865905, -0.0014803745737568264, -0.03008203510339591, -0.010108808476547715, 0.004378438570102006, 0.013406337005451796, 0.012314467283187192, -0.0049956624601028565, -0.009496296193320042, -0.004622828896372333, -0.003397804329913434, -0.0076054974060024705, -0.0024923513895291904, 0.004618117289639123, 0.009518215555425869, -0.01642034809065862, 0.0012093532786670025, -0.010721320759777164, -0.0018532081374740272, -0.0020928868569649595, 0.013406337005458902, 0.003286568847857829, 0.0013158771540080494, 0.0012892461851867765, 0.0034463546608582973, -0.001986362981655887, 0.010077465900969251, 0.003313199816694201, -0.0012939577919031109, -0.013996929926569202, 0.011329121436250311, -0.022785149642391644, -0.00853758131524529, -0.01255885760946196, 0.0070415354536992325, 0.00597629670028077, -0.016260562277626178, 0.0077339406434315805, -0.005794591525164705, 0.0009164126214677992, 0.011808478875295236, 0.0069616425472043275, -0.00787180709433244, -0.009576189099864685, 0.01724119651780942, 0.009864418150309362, -0.00912346262963748, 0.007041535453691239, -0.01202623823273008, 0.0031267830348307157, -0.009123462629638368, -0.012106131139248077, -0.0057413295874981785, 0.002753949471143713, 0.010716609153032408, 0.0033930927231820007, 0.013512860880792843, 0.006748594796492924, 0.004538224383122014, 0.015723231294153983, 0.012261205345530435, -0.0037972688624785533, -0.004143471457338066, -0.001853208137452711, 0.02006407921439468, -0.012106131139255183, 0.0010761984344824782, -0.011759928544384124, 0.003579509505035716, 0.014764516416090778, -0.01191971435740502, -0.014476287365633667, -0.02076119601087001, -0.0024124584829943174, 0.01111607368555223, -0.016393717121820472, 0.007654047736916247, -0.008963676816630795, 0.01252751503386662, 0.001848496530713284, 0.0037659262869027543, -0.000495028726829716, 0.0021414371878947236, 0.009172012960571685, 0.0033930927231970998, -0.0036641140182887, -0.0018532081374598164, 0.005630094105413264, 0.00025063840055583597, -0.009549558131015878, -0.008377795502249263, -0.014556180272144559, -0.005767960556319451, -0.012612119547120493, -0.0030249707662477476, 0.005630094105410599, -0.0034776972364412018, -0.012052869201570005, 0.0025675326892953265, 0.0049643198845021885, 0.008319821957798013, 0.004458331476616451, -0.008990307785466278, -0.0077386522501710076, 0.0012626152163290882, -0.002545613327174401, 0.005763248949588018, -0.02792492662773416, -0.01032185622724402, -0.002385827514174821, -0.01650024099715086, -0.008484319377572547, 0.009038858116370285, -0.03167989323354803, 0.010104096869818058, -0.0073125567487997145, 0.0054170463547000836, -9.556419428591312e-05, 1.0959681064903748e-05, -0.008218009689221262, -0.016074145495776904, -0.010082177507745094, 0.0031534140036715286, -0.005368496023763214, -0.015275216430705285, -0.019403016600256784, 0.00014411452521922996, -0.0027053991402086197, 0.013060134410591395, -0.016313824215296258, 0.003872450162248242, -0.00675330640322791, -0.001853208137462481, 0.0031267830348342684, -0.0035575901429556467, 0.016069433889018825, 0.010663347215375651, 0.011488907249282754, 0.004032235975250487, 0.0034996165985266003, 0.00041042421358206127, 0.01500419513560658, 0.001342508122827546, -0.017938313314285637, 0.001955020406074759, 0.0006234719642703723, -0.0018798391062953002, -0.017751896532424816, -0.004809245678239371, 0.0037659262869036425, -0.005767960556335439, -0.0025988752648666846, -0.006726675434399532, 0.012261205345518889, 0.0004903171200911771, -0.013783882175893325, 0.007920357425295066, -0.021054136668072765, 0.012926979566415753, -0.0058744844316667155, 0.00520399860401799, -0.013437679581040918, -0.017219277155733792, -0.008937045847784653, 0.003526247567370966, -0.0008146003528572976, -0.0005216596956740815, -0.000681445508686096, -0.0026787681713607014, 0.00017074549404139105, -0.009682712975174645, 0.00784046451879128, 0.002407746876267325, -0.009016938754275117, -0.013570834425198797, -0.004463043083367424, -0.0016401603867715053, 0.00232785396976265, 0.009518215555431198, 0.020037448245575185, 0.004325176632426597, -0.010960999479308065, -0.012798536328975985, 0.010104096869816281, 0.0029936281906657314, -0.012159393076901281, 0.0027805804399623213, -0.0063538418707009825, 0.005816510887253656, 0.015643338387684835, -0.015408371274888921, 0.0001441145252254472, 0.007813833549949578, 0.002461008813936516, 0.003313199816682655, 0.016495529390391894, -0.0025722442960347536, 0.002301223000942265, 0.01306013441058429, -0.004942400522402579, -0.00709950899811318, 0.013965587351012054, 0.003978974037595506, 0.011701954999969288, 0.005310522479355484, -0.00278529204671063, -0.004702721802890331, -0.0048358766470677494, 0.00035716227592175187, 0.0069616425471945576, 0.0061893444509619755, 0.003206675941346049, -0.014103453801951993, -0.019909005008127423, -0.006859830278595602, -0.016526871965999668, 0.007813833549938032, -0.008937045847766, -0.014476287365638996, 0.003686033380375875, 0.0076806787057632775, 0.020783115372981165, 0.019131995305145644, -0.015727942900923608, 0.009385060711246673, -0.00845768840874861, 0.012740562784566478, 0.012207943407839927, 0.00046368615126013424, 0.002274592032080136, -0.012239285983431714, 0.007281214173231909, -0.0074723425618294925, -0.031200535794511097, -0.0039836856443455915, 0.013060134410585178, 0.005230629572864132, 0.011382383373936378, -0.005368496023808511, 0.023339688381218693, 0.002354484938584811, 0.018226542364724097, -0.005395126992628896, 0.01151553821812712, -0.0042233643638605045, 0.02142225862503455, 0.007254583204386655, 0.0041920217882776, -0.005821222494001965, -0.013411048612200993, -0.015408371274896027, -0.0024390894518466766, -0.007152770935803687, -0.009389772317994094, 0.010663347215360552, -0.0021994107323211054, -0.0003086119450097513, 0.013725908631483819, 0.003020259159494998, 0.01817328042707622, 0.0008897816526358682, -0.0180448371896178, -0.005847853462826791, -0.01511543061770304, 0.007600785799247944, -0.009016938754276893, 0.02355273613191322, 0.006615439952317281, -0.006380472839535578, -0.00603427024464942, -0.016047514526949413, -0.00038850485149843905, 0.0019816513749146836, -0.010055546538888294, -0.006753306403251003, -0.005261972148447036, 0.0052306295728534735, 0.01143564531159491, -0.00012219516314004863, -1.567128778834359e-05, 0.0013691390916630297, -0.0020129939504895944, 0.014231897039366892, 0.024671236823005316, -0.018257884940328317, 0.014045480257527387, 0.009624739430774909, 0.007174690297874875, 0.011249228529746524, -0.006300579933024686, 0.013459598943126316, -0.007126139966948664, -0.008723998097098118, -0.011174047229985717, 0.0005435790577577038, -0.004995662460085981, 0.019637983713015394, 0.004618117289644452, 0.010929656903728713, 0.0006767339019457808, -0.022066113483840688, -0.01596762162042875, -0.005341865054965922, -0.015221954493031653, -0.016207300339972974, 0.0005702100265878585, 0.005470308292396808, 0.002301223000916508, 0.013912325413333093, -0.0021461487946821123, -0.0018265771686385435, -0.0001221951631409368, -0.002678768171358925, 0.003899081131063298, -0.015195323524194393, -0.009256617473831774, 0.013379706036613648, -0.007845176125498732, 0.0013425081228470859, -0.007685390312513363, 0.012207943407857691, 0.0023811159074345056, 0.022301080596639267, -0.019136706911906387, 0.0008365197149649006, -0.0051554482731024365, 0.015137349979786663, 0.00014411452522367085, -0.001986362981645229, 0.001102829403312633, -0.01570131193208102, 0.004138759850597751, -0.002758661077888469, -0.0035842211117964595, -0.01005554653889007, -0.006566889621412386, -0.02464931746088972, -0.008058223876197701, 0.0013425081228541913, 0.0015022939358502185, -0.0032646494857777597, 0.01886568561680324, -0.0013738506984015686, 0.00025063840057271136, 0.0083464529266557, -0.010295225258397878, -0.022705256735899404, -0.0005216596956376662, -0.0230514593307527, 0.018785792710279026, 0.009917680087953684, -0.00030861194497866506, 0.016841731985268282, 0.012900348597563394, -0.003344542392244243, -0.005927746369341236, 0.003393092723193547, 0.018146649458232744, -0.011440356918344108, 0.016415636483888996, 0.007787202581106101, -0.009815867819375157, 0.0016887107177083749, -0.0016401603867723935, 0.007227952235553836, -0.016367086152986765, 0.011036180779068872, -0.01839103978450307, 0.01841295914658314, -0.003610852080606186, -0.006220687026524452, -0.004223364363864945, -0.011999607263908807, 0.015217242886273574, 0.010796502059561064, -0.010934368510461923, -0.006513627683720102, 0.005150736666350575, -0.018204623002653797, -0.0036374830494647625, -0.001480374573760379, 0.0011294603721507812, 0.008639393583821153, -0.004116840488511464, 0.002594163658123705, -0.014476287365631002, -0.01628719324646255, 0.0002772693693842143, -0.01346431054985775, 0.02339295031888078, -0.0018265771686225563, -0.01322463183033662, 0.010183989776350266, 0.0018751274995496559, 0.002887104315316691, -0.0040103166131526535, -0.003957054675498561, -0.005794591525172699, 0.01332644409894268, 0.0038724501622340313, 0.001875127499560314, -0.008431057439907796, -0.02033510050949161, -0.011946345326234287, -0.007845176125510278, -0.0031581256104296074, -0.01857745656634613, -0.013064846017355691, -0.00012219516314448953, 0.007148059329039391, -9.556419429568308e-05, -0.012079500170409041, 0.011222597560921699, 6.422161871810772e-05, 0.0017952345930369873, 0.010290513651660227, 0.008559500677344012, 0.004618117289636459, -0.005501650867955732, 0.006881749640680113, -0.021586756044808197, 0.012554146002688782, 0.009731263306120397, 0.009411691680094592, 0.012713931815725665, 0.013379706036631411, -0.0017999461997924016, 0.007787202581092778, -0.005847853462837449, 0.009864418150298704, 0.01732108942431765, 0.013725908631490036, -0.0177785275012754, -0.003850530800134422, 0.0026474255957840143, -0.010774582697442803, 0.020889639248314218, 0.001981651374891591, -0.009949022663530371, 0.00831982195783354, 0.0025675326892846684, -0.009336510380324015, -0.00478261470939767, -0.00480924567822516, -0.0035575901429361068, -0.0004683977579942322, -0.007179401904603644, -0.01343767958104447, -0.014343132521461577, 0.00839971486434088, -0.03287828683117766, -0.003451066267606606, -0.010295225258402319, -0.0013738506984122267, -0.009363141349165716, 0.01833306624007225, 0.0007832577772841631, -0.012079500170406376, 0.0075475238616000695, 0.01063671624653395, -0.0030782327039053925, -0.0048891385847360525, -0.011040892385815404, -0.0011874339165656167, 0.013486229911968906, 0.00443170050778896, 0.008106774207112366, 0.010716609153030632, 0.011116073685572658, 0.00392571209992898, -0.008590843252943792, -0.0046494598652362384, 0.003978974037572414, 0.006082820575627146, 0.009731263306106186, 0.0035528785362162196, 0.008958965209878045, 0.007467630955058091, 0.0027805804399729794, -0.002652137202541205, -0.01162677370020404, -0.01026859428957394, -0.0130648460173175, -0.012079500170410817, -0.009842498788183107, -0.013597465394065367, 0.0016088178111868245, 0.012261205345518889, -0.005155448273124641, 0.0008631506837826208, 0.002807211408802246, -0.01780515847013131, 0.010183989776320068, 0.001502293935852883, 0.023526105163059974, -0.023211245143785142, -0.00033524291381326066, -0.008484319377579652, -0.0029184468908960426, 0.001262615216313101, -0.010268594289574828, 0.010263882682822079, 0.015563445481155291, 0.00728121417321681, -0.005235341179601782, -0.01751221781291523, -0.010561534946770479, -0.0028918159220552297, 0.006562178014664077, -0.0035575901429458767, -0.00014882613197730876, 0.009757894274945222, 0.005363784417044215, -0.004649459865222028, -0.023663971613983037, 0.006988273516038923, -0.011174047230000816, -0.010694689790942569, -0.005688067649823658, 0.007920357425272861, -0.015301847399547874, 0.012847086659918183, -0.005741329587491073, -0.0063005799330424495, 0.0014224010293366618, -0.016420348090636416, 0.015217242886278903, -0.0035575901429485413, 0.018785792710287907, 0.00341972369202459, -0.006540258652559139, 0.013938956382178347, -0.003264649485778648, 0.0036594024115315094, -0.0077386522501754484, -0.008244640658036317, 0.01961135274420389, 0.005736617980762304, -0.00816474775153786, -0.008404426471069648, -0.005608174743316319, 0.012341098252008464, 0.005763248949575583, 0.016415636483884555, 0.010104096869810952, 0.01095628787255265, 0.0025409017204536255, 0.010450299464682011, -0.010295225258412977, -0.011626773700202264, -0.0028119230155549957, -0.009389772317977219, 0.00014411452524765167, -0.010934368510471693, 0.00594966573143374, -0.012558857609439755, 0.004058866944101069, 0.0067485947964964765, 0.010104096869818946, 0.006695332858848602, -0.0026255062336915103, 0.004804534071489286, 0.007494261923924661, 0.0005435790577532629, 0.007281214173227468, -0.0023325655765100706, -0.004249995332693324, 0.005337153448211396, 0.012154681470165407, -0.012106131139226761, 0.008239929051298667, -0.0015602674802721594, 0.01244762212737971, -0.01772526556361509, -0.005315234086109122, 0.012261205345512671, -0.013757251207064058, -0.0130648460173175, 0.004538224383132672, 0.011062811747899914, -0.02741893821984487, -0.01684644359201748, 0.007121428360196802, 0.007867095487611664, 0.019478197900004268, 0.0016354487800347428, -0.008857152941292412, 0.0007832577772814986, -0.005075555366594209, -0.004542935989858776, 0.006881749640677448, -0.01809809912730742, -0.010960999479314282, 0.011222597560910152, -0.0034776972364536363, 0.010689978184193372, -0.010082177507698908, 0.007254583204396425, -0.002092886856972065, 0.006189344450948653, 0.010343775589326754, -0.010162070414230229, 0.001741972655372237, -0.0027320301090503207, -0.0019331010439804786, 0.0013158771540133785, -0.0011874339165593994, -0.0030516017350681324, -0.009283248442643277, 0.0034463546608485274, -0.0022526726700000665, 0.00821329808247917, -0.008830521972424954, -0.003797268862467895, -0.0035309591741174984, -0.014582811240981819, -0.0014803745737577145, -0.01924323078726875, 0.015563445481178384, -4.230225664070275e-05, -0.000415135820334811, 0.013832432506829306, -0.005208710210789391, -0.011520249824865658, -0.005315234086125997, -0.004383150176860973, 0.01013072783864466, -0.005048924397752508, 0.013832432506839076, 0.005283891510534211, 0.00022400743173367488, 0.008985596178713529, -0.003957054675501226, 0.008825810365687303, 0.010024203963322265, 6.42216187189959e-05, -0.0011608029477283566, -0.004170102426168221, 0.00429854566361243, 0.0011294603721516694, -0.020761196010882443, -0.0051021863354145935, -0.006433734777226974, -0.0003618738826531853, 0.0034996165985123895, 0.0015821868423699925, -0.021586756044804645, 0.0016620797488648975, -0.01282516729780614, 0.0013425081228222169, 0.004138759850595974, 0.005443677323534679, 0.02107605603016527, -0.005927746369341236, -4.2302256610504685e-05, -0.00411684048850347, -0.0008146003528572976, -0.003051601735067244, -0.005341865054934836, -0.0050222934289294585, -0.005901115400489765, 0.0031800449725025715, 0.005390415385881475, 0.012394360189693643, -0.006007639275861898, -0.019136706911887735, -0.0016135294179466797, -0.003823899831314037, -0.007019616091608505, 0.00943832264893274, 0.010050834932145314, 0.004325176632461236, 0.013566122818465587, 0.008506238739648175, 0.008825810365715725, -0.004809245678228713, -0.015168692555384666, -0.014689335116327307, 0.0038724501622438012, 0.010263882682837178, -0.020068790821150984, -0.02278514964239786, 0.0032865688478480592, -0.004755983740561298, 0.01100954981022717, 0.004804534071483957, -0.005182079241948578, -0.00723266384226573, -0.010614796884412137, 0.0016620797488728911, 0.01156880015578654, 0.004937688915668481, 0.00983778718143924, 0.01071660915304129, -0.006833199309753901, -0.0024390894518360184, 0.02477776069833304, 0.0009430435902819667, 0.01923851918051156, 0.009704632337270702, 0.005470308292380821, 0.004644748258485265, 0.011062811747915013, -0.008937045847772218, -0.011120785292317414, 0.0019550204060614362, -0.002092886856981835, 0.008719286490337375, -0.003530959174124604, -0.0033179114234345164, -0.004995662460086869, -0.0012406958542445778, -0.002119517825814654, -0.0005749216333565954, 0.004671379227333183, 0.0005702100265985166, 0.011515538218130672, 0.009198643929388517, 0.00965137039962638, 0.0031267830348333803, -0.0028385539843860386, -0.003504328205274909, -0.004569566958708471, -0.006673413496734781, 0.0044317005077791904, 0.013166658285941324, 0.01116933562325162, 0.00381918822456484, 0.011648693062299209, -0.005528281836808979, 0.015483552574656834, -0.008271271626902, -0.0077919141878437514, 0.01071660915306083, -4.23022566344855e-05, -0.015514895150227304, 0.0028871043153158027, 0.0032333069101859735, 0.01116933562324185, 3.759064987018945e-05, -0.00925661747381934, 0.002594163658118376, 0.0022479610632419877, -0.00624731799538214, -0.006140794120015336, 0.0048577960091504835, -0.008457688408754827, 0.004511593414280313, -0.010987630448127561, 0.012634038909233425, -0.021187291512258177, -0.014875751898160594, -0.005981008307005986, 0.006801856734181655, 0.008958965209869163, -0.003903792737813383, 1.0959681060462856e-05, 0.004698010196158897, 0.024032093570953705, -0.022172637359167524, -0.01767200362594412, 0.00674859479651424, -0.014636073178635023, 0.002860473346476766, 0.016921624891784504, 0.0048577960091806816, -0.0069130922162603525, 0.006988273516022048, 0.01191500275065227, -0.0030516017350601388, 0.0049909508533385605, 0.006508916076993998, 0.007920357425276414, 0.0019017584683727051, -0.0038771617689832283, 0.0051773676351905, -0.017778527501256747, -0.0038505308001512972, 0.007201321266710359, 0.009092120054070563, -0.018790504317051315, -0.0003086119449813296, -0.010881106572773191, -0.000521659695671417, 0.010024203963321376, -0.0039304237066373204, 0.003765926286905419, 0.008639393583869115, -0.010534903977919896, -0.019030183036563564, -0.004356519208041476, -0.0044630430833692, 0.0004370551824184332, 0.01047693043351483, -0.0008412313216936695, 0.013938956382170353, -0.008431057439898915, -0.007126139966929124, -0.00808485484502608, 0.0071480593290358385, -0.000415135820334811, 0.012660669878074238, 0.012420991158540673, 0.010397037526990616, 0.016149326795536822, -0.010987630448148877, -0.0027852920466937547, 0.01053019237119468, -0.00020208806963761816, -0.0003618738826505208, 0.004724641164984611, 0.004085497912919678, 0.004937688915666705, 0.005630094105387506, -0.0020396249193117555, 0.008905703272214183, -0.003930423706668407, 0.002034913312549236, -0.011813190482049762, 0.011835109844132496, 0.010210620745169763, 0.0011827223098173079, -0.019536171444434203, -0.0019064700751352248, 0.011968264688319685, 0.009385060711254667, 0.003952343068748476, 0.015190611917454078, 0.014844409322600782, 0.001129460372149893, -0.008377795502227947, 0.0008365197149604597, -0.022971566424248913, -0.013064846017342369, 0.004511593414313175, -0.006646782527911732, -0.00797833096968148, -0.0027320301090494326, -0.0005749216333388318, -0.0020129939504798244, -0.00507555536659865, 0.011142704654413471, 0.0016620797488737793, -0.001746684262121434, 0.0065355470458179354, 0.005683356043063803, 0.0014490319981872446, 0.0042452837259530085, -0.003983685644323387, 0.01875916174142489, -0.00496903149123451, -0.0020396249192868865, -0.014822489960492291, 0.006242606388625838, -0.0009211242282134435, -0.002998339797392724, 0.0016354487800276374, -0.025128674899944414, -0.01527521643070262, -0.003957054675495897, 1.095968105779832e-05, -0.003397804329937415, -0.0014803745737461682, -0.0015868984491085314, -0.00531523408611978, -0.0025189823583513515, 0.013219920223610515, 0.010663347215365881, -0.008857152941262214, -0.011040892385801193, 0.004085497912925007, 0.008346452926647707, -0.002412458483002311, -0.010135439445395633, 0.007520892892741493, -0.012984953110818154, 0.012873717628758108, -0.0010542790723881978, -0.002252672670012501, 0.006056189606770346, -0.014130084770762608, -0.0014803745737479446, 0.004564855351968156, -0.01290506020433746, 0.01239436018969986, -0.007605497405993589, 0.016468898421572398, 0.009757894274948775, -0.019296492724921066, 0.0004903171200760781, -0.00627394896420963, 0.014231897039358898, 0.0013691390916612534, -0.010055546538879412, -0.007605497406016681, 0.013592753787309952, -0.0062473179953448366, 0.003286568847850724, -0.0004151358203463573, -0.0013472197295625321, -0.00393042370664709, 0.013885694444500274, -0.011067523354660658, 0.0052306295728437036, 0.0053637844170264515, 0.005869772824920183, -0.025048781993461944, 0.0016887107176932759, 0.0034197236920316954, -0.01713938424920336, 0.013512860880790178, 0.0035262475673851768, 0.000809888746115206, -0.010534903977940324, 0.005869772824919295, 0.009917680087948355, 0.001315877154010714, 0.0031534140036715286, -0.00704624706042889, -0.006380472839539131, -0.011866452419732276, -0.005741329587490185, -0.002598875264863132, -0.0022526726699956257, -0.00989576072587628, 0.013326444098936463, 0.010982918841400569, -0.00241245848301741, 0.004618117289628465, 0.02472449876067362, -0.0020928868569649595, -0.010721320759789599, -0.009922391694701993, -0.016846443592021032, 0.006162713482124715, 0.008559500677323584, 0.0118883717818008, -0.006380472839561335, 0.011275859498598884, 0.011275859498606877, -0.005954377338191819, 0.017108041673636443, -0.011759928544377019, -0.008404426471063431, -0.011839821450879917, 0.011542169186952833, -0.01721927715568583, -0.00499566246009131, 0.0048311650403087825, 0.005656725074260294, 0.0016620797488595684, -0.017858420407779185, 0.0013158771539973912, 0.0009696745591414313, -0.004969031491249609, 0.016495529390425645, 0.014737885447233978, -0.005981008307024638, 0.005523570230077546, -0.00877726003477175, -0.005395126992630672, 0.012074788563658068, 0.010982918841382805, 0.010503561402358308, 0.005337153448212284, -0.005741329587495514, 0.015962910013677778, -0.010721320759786046, -0.015594788056732867, -0.006247317995366153, 0.011835109844143155, 0.0037659262869036425, -0.0128784292354851, 0.006429023170463566, -0.00864410519060499, -0.005448388930276771, 0.004245283725938798, -0.009229986504977639, 0.0032599378790134637, 0.0019550204060729826, 0.006562178014675624, -0.0003618738826460799, 0.005070843759862775, 0.0028604733464936416, -0.003717375955957003, -0.01863071850403042, -0.002865184953214417, -0.002785292046709742, 0.020756484404138575, -0.010108808476588571, 0.0068551186718375234, 0.0016887107176959404, 0.0009164126214749047, 0.015590076449981005, -0.010987630448151542, 0.004245283725937021, -0.007312556748804155, 0.0029936281906524087, -0.01708612231151907, -0.017911682345449265, 0.005789879918410179, 0.003499616598534594, 0.009092120054062569, 0.010796502059547741, 0.0017153416865420823, 0.003366461754350958, -0.007898438063201674, -0.013917037020079626, 0.0014224010293260037, -0.007339187717640527, -0.01088110657279362, 0.03029037124736611, 0.00685511867184907, -0.0043831501768654135, 0.005124105697515979, -0.00664678252790285, 0.005257260541690734, -0.02092098182389801, -0.007339187717621876, 0.013140027317112946, -0.008590843252918923, 0.010743240121871445, 0.0232331645058812, 0.01172858596880122, -0.008883783910110132, 0.010450299464679347, 0.009198643929402728, -0.015221954493028989, 0.005417046354743604, -0.0033711733611037076, 0.009544846524269346, -0.025075412962292987, 0.010370406558168455, 0.00043705518242465047, -0.003211387548086364, -0.008111485813868669, -0.0036374830494700916, -0.01836440881567647, -0.0013472197295731902, 0.008586131646173278, -0.02097424376157342, 0.005576832167729862, -0.007072878029283025, -0.015408371274864052, 0.011488907249286306, 0.003792557255738238, -0.0033711733611134775, 0.02192824703291585, 0.0038191882245568465, -0.009602820068670859, 0.004884426978000178, 0.0014490319981819155, -0.003690744987144612, 0.004192021788260725, -0.008484319377568994, 0.00019737646291329014, -0.009576189099835375, 0.007893726456427608, 0.011542169186956386, 0.0007566268084548966, -0.00347769723643232, 0.00682848770302158, -0.011866452419716289, 0.001875127499531004, -0.010428380102586843, -0.027472200157526494, -0.0019597320127973106, 1.095968103026479e-05, -0.005341865054938388, -0.01719264618689298, -0.0036108520806275024, 0.01218131243901066, 0.002887104315313138, 0.014178635101695924, 0.01516398094860616, 0.013273182161284147, -0.014023560895424225, -0.013357786674546901, 0.0053637844170317805, -0.013517572487546481, 0.006136082513281238, 0.00038379324473947207, 0.002753949471148154, -0.004010316613155318, -0.0018798391062775366, 0.00797361936295271, 0.013539491849642538, 0.00637576123280148, -0.017618741688242956, -0.01162677370020404, 0.031195824187780552, -0.0194562785379242, -0.009469665224496993, -0.00789843806317414, -0.008084854845074929, -0.006620151559070031, -0.0008412313216741296, 0.0029936281906417506, 0.009784525243784259, -0.013730620238215252, 0.003952343068731601, -0.0017999461997835198, -0.010907737541629992, 0.012021526626002199, 0.0024876397827853225, 0.0026207946269627413, 0.006242606388616068, -0.01855082559750887, 0.006109451544444866, 0.013406337005443802, 0.003552878536218884, 0.005789879918420837, 0.008293190988960752, 0.0106899781841987, 0.005044212791021074, -0.006646782527898409, -0.0051288173042856045, -0.012345809858769208, 0.007361107079716156, 0.013539491849640761, -0.016127407433452312, 0.00661543995232261, -0.008004961938550714, -0.006380472839543572, 0.002141437187907158, -0.0019064700751130204, -0.005608174743312766, 0.001928389437209077, -0.01021533235189942, -0.007259294811139405, 0.008879072303386693, 0.01969124565071656, -0.0006548145398292959, -0.002146148794645697, -0.00409020951965644, -0.0021195178258324177, -0.00044176678916318934, 0.004378438570102006, -0.002305934607650606, -0.007818545156696999, 0.00829319098898118, -0.004516305021042832, 0.012287836314344602, 6.422161871810772e-05, -0.006407103808387937, -0.015408371274887145, -0.019509540475606713, 0.025044070386698536, 0.002487639782793316, 0.007760571612267064, -0.014449656396796406, -0.014076822833094305, 0.007893726456462247, 0.0002772693693930961, 0.004218652757090879, 0.01942493596234751, 0.0053637844170566495, -0.006300579933040673, 0.0084529768020154, -0.0133311557057052, -0.008803891003619668, -0.01716601521805483, -0.006007639275847687, -0.00419673339500104, 0.011808478875320993, 0.009385060711275983, -0.008351164533378252, -0.00294507785970044, 0.012793824722217906, 0.0037659262868947607, 0.006988273516027377, 0.012847086659901308, 0.009464953617748684, 0.008053512269447616, 0.0003305313070738336, -0.0003885048514966627, -0.006034270244682283, 0.0101307278386642, -0.0195894333820954, -0.006806568340919306, 0.011195966592079998, 0.0016620797488755557, -0.008990307785443186, -0.011200678198838965, -0.002572244296021431, 0.0032066759413353907, 0.009198643929398287, 0.00046368615123970613, 0.004698010196141134, 0.013432967974269516, 0.004325176632458572, 1.0959681051581072e-05, -0.006220687026527116, 0.0011827223098199724, -6.893322547618652e-05, 0.007707309674586327, 0.0017419726553464798, 0.004751272133803219, -0.029789094446218023, -0.015541526119067228, -0.013464310549884395, 0.020756484404129694, 0.00632249929515627, 0.003552878536209114, -0.00334454239226023, 0.0023012230009182844, 0.020676591497627683, -0.012558857609438867, 0.013353075067794151, -0.0036641140182807064, 0.010903025934895005, 0.011701954999955078, -0.013624096362877758, 0.0027006875334620872, 0.0036594024115510493, -0.003930423706643538, -0.004969031491248721, -0.011493618856008858, -0.009789236850522798, -0.004489674052188697, -1.5671287803442624e-05, -0.0015868984491005378, 0.0039523430687351535, -0.009416403286831354, 0.0064023922016502866, -0.025714556214339268, 0.00033053130708005085, -0.00986912975704346, 0.015696600325320276, 0.0051773676351905, 0.0003571622759155346, -0.007445711592992232, -0.010881106572824706, 0.009651370399581083, -0.0007347074463330827, 0.00043705518242465047, -0.0073125567487997145, 0.00025063840057359954, -0.006327210901881486, 0.009385060711257331, 0.006029558637927757, 0.0006501029331111852, -0.0004950287268101761, -0.003424435298755135, 0.0010761984344735964, 0.006668701889991802, -0.002412458483011193, -0.007339187717639639, -0.0017999461998066124, 0.004458331476620003, 0.010104096869810952, -0.00619405605768808, -0.0015070055426029683, -0.001853208137442941, -0.006300579933041561, 0.0027273185023011237, 0.00416539081943057, -0.007525604499484473, -0.0014271126360885233, -0.003291280454591927, -0.0036907449871321774, -0.010827844635118211, -0.0013738506984024568, 0.0009696745591361022, -0.0033978043299240923, 0.010503561402345873, -0.01237244082761002, -0.008297902595721496, 0.0033930927231908825, -0.013011584079670513, -0.003744006924819132, 0.006455654139315037, -0.0006548145398257432, 0.009837787181437463, 0.006695332858840608, -0.013917037020068967, -0.0044097811457017855, -0.015461633212566106, -0.0019863629816381234, 0.01692162489177118, -0.0013472197295678612, 0.010397037527017261, -0.0229183044865664, -0.010455011071431208, 0.003526247567370966, 0.008772548428007454, 0.006961642547206992, 0.00672196382765744, 0.0041653908194234646, 0.00557683216773075, -0.00912346262962771, -0.011946345326235175, 0.010343775589332083, 0.007387738048556969, 0.013619384756125896, -0.004862507615902345, 0.003366461754356287, 0.003339830785539455, 0.014684623509583439, -0.003903792737823153, -0.00997565363238273, 0.013779170569159227, 0.01178184790647574, -0.007498973530634778, -0.01764537265709354, -0.003051601735076126, 0.0018218655618778001, 0.009065489085225309, -0.011200678198806102, 0.00983778718144901, 0.003845819193405653, 0.02174183025106391, -0.011946345326213859, 0.0027273185022798074, -0.0004683977579817977, -0.007871807094343097, 0.02203477090825423, -0.000974386165879082, 0.01079650205954863, -0.00768539031250004, 0.0015022939358519949, 0.0015289249046679387, -0.00574132958746798, 0.018572744959572063, -0.0012939577919146572, 0.005896403793771654, 0.004857796009179793, -0.010614796884450328, 0.006935011578358186, -0.013144738923835497, -0.007685390312484053, 0.0031267830348253867, 0.0035528785361949033, 0.0012892461851503612, -0.006060901213519543, -0.007765283218999386, -0.01002891557004304, -0.015861097745096586, -0.003344542392254901, 0.007733940643429804, 0.00400560500642122, -0.002092886856978282, -0.014582811240978266, -0.009443034255674831, -0.0044364121145532565, 0.004831165040322993, -0.005901115400497758, 0.003073521097169518, 0.0024610088139427333, -0.013624096362891969, 0.007281214173220363, -0.0012673268230543044, 0.010024203963324041, 0.0043518076012745155, 0.006349130263981095, 0.004804534071474187, -0.006353841870705423, 0.01175521693761361, 0.021608675406875832, -0.004862507615902345, -0.010534903977927002, -0.02161338701362503, 0.019291781118184304, -0.004143471457314973, -0.0005216596956607589, 0.003526247567370966, 0.007414369017401334, 0.00560346313656801, 0.01662868423459951, 0.006695332858833503, -0.0031048636727568635, -0.010934368510484127, -0.01125394013650638, -0.0028385539843993612, 0.01226120534550379, -0.0015602674802606131, 0.0007033648707945872, -0.008484319377573435, 0.009464953617742466, 0.011222597560918146, 0.003792557255716922, 0.005656725074245195, 0.012367729220875034, -0.01210613113924186, -0.017911682345465252, -0.0035842211117955713, 0.008239929051289785, -0.007765283218998498, 0.0005169480889231082, 0.0039523430687298244, -0.002891815922072105, 0.011222597560917258, 0.01005083493212755, -0.00981586781937871, -0.01112078529232896, 0.007707309674593432, 0.006162713482114945, -0.011680035637867014, 9.085258755003878e-05, -0.0007080764775402315, -0.004249995332683554, 0.0017419726553544734, -0.002199410732337981, -0.006859830278588497, 0.001049567465649659, 0.013832432506830195, -0.0035309591741219393, -0.004489674052188697, 0.005230629572859691, 0.009757894274948775, 0.0007033648707794882, 0.013459598943146744, -0.0045163050210437206, 0.012287836314351708, -0.008404426471065207, 0.013885694444508268, -0.006966354153924215, -0.00728592577996956, 0.022380973503116408, 0.004458331476630661, 0.011009549810237829, -0.006859830278590273, -0.020761196010882443, -0.0030516017350734614, -0.004702721802912535, -0.006433734777222533, -0.006140794120019777, -0.0038771617689850046, -0.007605497405997141, -0.003158125610411844, -0.0031847565792260113, 0.003632771442728, 0.009065489085218204, 0.0008365197149426962, 0.005949665731428411, 0.011781847906484622, 0.0007299958396256301, -0.0017733152309666877, 0.004112128881764043, -0.013650727331720347, 0.007068166422541822, 0.00906548908521998, -0.013703989269407302, 0.002833842377643947, -0.004516305021044609, 0.0028604733464794307, -0.0036374830494585453, -0.010694689790950562, -0.011094154323479266, -0.0034244352987871096, -0.0018265771686243326, 0.0012892461851556902, 0.010663347215364105, 0.002940366252985882, 0.015829755169506576, 0.0023278539697564327, -0.011759928544378795, -0.013198000861512682, 0.0017952345930387636, -0.023584078707476586, -0.010721320759789599, -0.0001221951631373841, -0.0016135294179315807, 0.011062811747915902, -0.007685390312514251, 0.01487104029142472, 0.0007033648707777118, -0.012372440827606468, -0.006646782527921502, -0.0034244352987755633, -0.009869129757034578, 0.001795234593044981, -0.0021727797634989443, 0.006721963827673427, -9.556419430012397e-05, 0.0003305313070862681, 9.085258755447967e-05, -0.011573511762513533, -0.00020208806965005266, 0.0071214283602039075, -0.0016135294179262516, -0.013703989269390426, -0.00222604170118057, 0.003233306910172651, 0.002727318502296683, 0.0015555558735274033, 0.011195966592079998, -0.009469665224494328, 0.0009696745591289968, 0.013699277662657217, -0.014689335116292668, -0.0024923513895291904, -0.004116840488497253, -9.556419428857765e-05, 0.014072111226347772, -0.0072326638422950396, 0.010849763997200945, -0.02241231607870997, 0.004724641164984611, -0.0011075410100502836, -0.012612119547114276, 0.004218652757093544, 0.008479607770816244, 0.016708577141103298, -0.014689335116326419, 0.00869265552151699, -0.006300579933036232, 0.007733940643412041, -0.0005749216333361673, 0.016921624891754306, -0.007419080624138985, 0.01367264669381374, -0.010108808476559261, 0.02709465498707253, 0.0094383226489132, 0.008452976801992307, -0.0025722442960081082, -0.03761859928393996, 0.006961642547199887, -0.008138116782697047, 0.01295361053523969, 0.021635306375715757, -0.010774582697475665, -0.005421757961462603, 0.003632771442703131, 0.016442267452741355, -0.007578866437162546, -0.027232521437979607, 0.0032865688478551647, 0.009278536835902074, 1.095968105246925e-05, -9.556419429035401e-05, -0.011626773700198711, 0.003978974037589289, -0.0018798391062917474, 0.0058431418560909165, 0.0005169480889382072, -0.022492208985188, -0.002891815922050789, -0.00579459152516737, -0.004036947582003236, 0.0015821868423602226, 0.008905703272201748, 0.010104096869804735, -0.012638750515967523, 0.0031534140036724168, 0.0013957700605189416, 0.004298545663605324, -0.014822489960503837, 0.02456471294764917, 0.007414369017416433, 0.025496796856914195, 0.015510183543475442, 0.0015022939358333431, -0.003291280454599921, 0.012394360189706077, 0.0021680681567248783, 0.005763248949578248, -0.0024923513895380722, -0.0004683977579951204, 0.011781847906468634, -0.002199410732314888, 0.01015735880747659, -0.008883783910117238, 0.01657542229691522, 0.006429023170479553, -0.02214600639033293, -0.003930423706635544, 0.002567532689297991, -0.0010010171347074603, 0.014817778353770628, -0.002412458483028068, 0.01407211122635399, 0.00017074549405027284, 0.003180044972519447, 0.014125373164016963, -0.009762605881690867, -0.012079500170411706, -0.0003086119449813296, -0.00028198097615650397, -0.021879696701971874, 0.016096064857864967, -0.006992985122789008, 0.020357019871604543, -0.00345106626759506, 0.006189344450947765, -0.0012939577918968936, 0.004857796009179793, -0.008777260034753098, -0.015461633212537684, 0.0020881752502397433, 0.0028072114088057987, -0.008324533564563197, 0.00424528372593258, -0.011067523354658881, -0.005581543774480835, -0.006194056057712061, 0.015803124200689744, 0.00709479739137997, 0.008053512269474261, 0.002807211408812016, -0.0074989735306560945, -0.001879839106294412, -0.009150093598468523, 0.0015022939358404486, 0.014018849288691904, 0.011169335623238297, 0.008426345833147941, -0.0029717088285430293, 0.009544846524256911, 0.005044212791002423, -0.013970298957775462, 0.008319821957793572, 0.01540365966812729, 0.015856386138348277, -0.00020208806964117088, 9.085258754559788e-05, 0.005443677323557772, 0.00943832264893274, -0.006247317995371482, -0.007978330969708125, -0.006060901213522207, 0.006429023170478665, 0.010689978184219129, -0.0061407941200126714, 0.014338420914720373, -0.009043569723136358, 0.0007832577772903804, 0.0062958683262897, -0.002838553984387815, 0.0010761984344735964, 0.009358429742438723, -0.010641427853271601, -0.014636073178655451, 0.009172012960548592, -0.010135439445402739, -0.014902382867015618, 0.02104942506131202, 0.0035528785361957915, -0.0034244352987728988, -0.007072878029262597, 0.0151639809486257, 0.004777903102653802, -0.008590843252918035, -0.012478964702945738, 0.0072545832043875436, 0.0005435790577674737, 0.008879072303381363, -0.012718643422481968, -0.0014537436049373298, -0.01101426141697992, 0.0019550204060623244, 0.00762741676810208, -0.005581543774465736, 0.015616707418827147, 0.006002927669099378, 0.010663347215375651, 0.0038724501622411367, 0.003286568847850724, 0.006189344450945988, 0.012793824722236558, -0.003930423706649755, -0.0017200532932690749, 0.0009696745591405431, 0.004644748258480824, 0.0004636861512619106, -0.00518207924194769, -0.007419080624158525, -0.00981586781935917, -0.0032646494857608843, 0.0044317005078085, -0.010108808476553044, 0.011675324031149792, -0.016473610028327812, -0.003291280454581269, 0.005283891510526217, 0.015430290636966326, 0.016069433889039253, -0.012532226640606936, -0.006540258652554698, -0.003371173361106372, -0.0004417667891845056, -0.0020129939504647254, 0.004698010196134916, -0.009709343944022564, -0.0037706378936315232, 0.00443170050779873, -0.018976921098873056, -0.0030782327039045043, 0.003073521097169518, 0.016841731985285158, 0.00022400743174433302, 0.006189344450960199, 0.0041387598505915335, 0.01529713579280223, -0.003344542392258454, 0.004831165040319441, -0.012958322141981782, -0.007791914187838422, -0.000867862290532706, -0.0029983397973865067, -0.010321856227236026, -0.01495564480468392, -0.027019473687294848, 0.0026740565646257153, -0.005821222493987754, -0.010934368510485903, 0.011861740812978638, 0.005523570230051789, 0.01476451641608545, 0.016548791328086843, 0.0004636861512494761, -0.01972258822626216, 0.005736617980768521, -0.01764537265708732, 0.0002506384005664941, 0.0024876397827604535, -0.012905060204309926, 0.000756626808446903, 0.006429023170481329, 0.008426345833156823, -0.020201945665347054, -0.0025456133271895, -0.01697959843619401, 0.02248749737847433, -0.0037972688624634543, -0.017006229405020612, 0.007867095487598341, 0.00392571209991921, 0.016575422296922326, 0.013646015724974703, -0.011759928544380571, -0.0050755553666075315, 0.017400982330824988, 0.0009164126214651347, 0.008133405175972719, -0.0032912804545928154, -0.003344542392268224, -0.003104863672734659, 0.013779170569144128, -0.006407103808372838, 0.0026740565646159453, -0.013597465394072472, -0.0008944932593628607, -0.0063272109018841505, 0.007334476110893107, -0.012425702765272106, 0.003765926286891208, -0.004862507615906786, -0.01673991971665778, 0.0032599378790187927, -0.011919714357373046, 0.011275859498593555, 0.005363784417032669, -0.0033978043299454086, 0.0016354487800214201, -0.0031847565792482158, 0.001981651374902249, -0.01394366798890978, 0.011835109844143155, 0.004698010196157121, -0.008377795502240382, 0.00038379324474924204, 0.00341972369202459, 0.004724641164979282, 0.015377028699310458, 0.003472985629712433, 0.005390415385886804, 0.02504407038669587, -0.003930423706648867, 0.0007033648707617246, -0.010188701383071042, -0.012558857609455742, 0.0019550204060392318, -0.0036108520806328315, -0.014689335116309543, -0.007578866437146559, 0.016335743577401196, -0.002811923015552331, 0.02555005879458072, 0.01231446728318808, 0.016522160359252247, 0.020543436653448488, -0.0032912804545786045, 0.005923034762591151, 0.0009164126214811219, -0.020175314696508018, 0.013646015724960492, -0.014076822833113845, 0.0011028294033073038, -0.017139384249223788, -0.012052869201573557, -0.00688646124741954, 0.002434377845099256, -0.009975653632370296, -0.009416403286826025, 0.00472464116498994, -0.02070793407319993, -0.00720603287345245, 0.010317144620509922, 0.010636716246531286, 0.004378438570109999, 0.013353075067778164, 0.011409014342759427, 0.007361107079717932, 0.023046747724003502, 0.004484962445471474, -0.013970298957747929, -0.014209977677275276, -0.0028651849532286278, -0.02081445794856407, 0.015163980948618594, -0.008670736159430703, -0.008457688408732622, -0.01330452473685284, -0.010268594289561506, -0.00526197214843549, -0.004436412114547039, 0.004405069538957029, 0.00033053130705962275, 0.00046368615125214063, -0.014369763490268639, -0.0061940560577014026, -0.00901693875428844, -0.01713938424921224, -0.014742597053988504, 0.01372590863147849, -0.00784517612550939, -0.0032113875480925813, -0.00787180709434665, -0.002492351389526526, 0.014897671260264644, 0.024298403259301438, -0.001693422324443361, -0.0010542790724015205, 0.002807211408818233, 0.007041535453696568, 0.014205266070539402, -0.014423025427963587, 0.008053512269447616, -0.007791914187866844, -0.004249995332680889, -0.0036374830494541044, -0.0035575901429547585, -0.007525604499477367, -0.021586756044813527, -0.005022293428931235, -0.0001488261319844142, 0.010556823340044375, 0.01862600689728744, 0.002913735284173491, -0.01740569393757241, 0.011435645311616227, 0.007813833549951354, 0.002753949471134831, 0.0014224010293419909, -0.009309879411479649, -0.007445711592976245, -0.0056348057121322626, -0.004116840488502582, -0.011866452419715401, -0.020468255353686793, -0.014769228022822212, 0.0028338423776261834, -0.0015602674802792649, -0.009869129757036355, -0.026806425936620748, 0.006109451544434208, -0.015834466776258438, -0.001640160386769729, -0.003264649485763549, 0.010849763997244466, 0.03231432487887087, -0.002758661077884028, -0.000628183571017793, -0.011413725949512177, 0.00911875102290427, 0.009784525243786923, -0.0062739489641812085, 0.008239929051291561, -0.0020928868569862757, -0.01436976349029706, 0.0037392953180468425, 0.005017581822168715, -0.011147416261154675, -0.008244640658040758, 0.02629572592199647, 0.00605618960678278, 0.014152004132871099, -0.014902382867001407, 0.014684623509566563, 0.006775225765336401, 0.00802688130063256, 0.009305167804734893, -0.010854475603954583, 1.0959681031152968e-05, 0.012527515033865733, 0.005976296700271, 0.004218652757089991, 0.01577649323183561, 0.014125373164045385, -0.0017200532932815094, -0.013544203456383741, 0.005283891510517336, 0.004644748258505693, 0.00858613164618749, -0.012132762108092443, -0.021533494107125684, 0.0006234719642570496, -0.009096831660792226, 0.01026388268282652, -0.011520249824863882, -0.009203355536133273, 0.0015821868423593344, -0.014343132521457136, -0.001507005542596751, -0.004010316613156206, -0.014689335116329971, 0.0027539494711463774, 0.014551468665402467, 0.003925712099926315, 0.021741830251074568, -0.00217277976348651, -0.011759928544377019, 0.009837787181456115, -0.007232663842287046, 0.011275859498587337, 0.012101419532499769, 0.0005169480889364308, 0.0018218655618884583, 0.016548791328075296, -0.0025988752648720137, -0.02755209306400186, -0.002172779763482957, -0.008910414878940287, -0.012851798266639847, -0.0010542790723970796, 0.01825317333357024, -0.003317911423426523, 0.0028072114088049105, -0.01072132075980381, -0.001986362981636347, 0.001795234593035211, 0.0031534140036661995, 0.022274449627789572, -0.00920335553613949, -1.5671287801666267e-05, -0.004329888239198887, 0.0013957700604976253, -0.019376385631428406, -0.010481642040268468, -0.009203355536143043, -0.005634805712124269, -0.0043831501768556436, -0.0037706378936439577, -0.004596197927544843, 0.014897671260269085, -0.0015070055425985274, 0.0056300941053928355, 0.0007299958396060902, -0.0035842211118026768, -0.00028198097616538575, -0.003344542392254013, 0.00882581036569885, 0.01314002731709607, -0.015328478368386023, -0.010588165915610404, -0.010801213666289833, 0.0059762967002541245, -0.0037972688624687834, -0.0028119230155647656, -0.01128057110532854, 0.011036180779063542, 0.006695332858834391, 0.021582044438060777, -0.001427112636106287, 0.017028148767123774, -0.002332565576497636, -0.0016401603867679526, -0.01503553771118149, 0.003100152065974804, -0.02203948251500698, -0.012798536328957333, 0.00163544878005073, 0.013299813130122295, -0.004116840488492812, -0.00030861194499998135, 0.0006501029331129615, -0.01066805882212396, 0.0055235702300659995, -0.009549558131004332, 0.014631361571894708, 0.008932334241044337, -0.00030861194498754685, 0.002407746876257555, 0.013965587351007613, -0.014396394459119222, -0.0029983397973909476, 0.0059762967002638945, -0.016047514526968953, -0.00853758131524085, -0.008271271626879795, 0.00533715344821406, 0.014871040291426496, 0.0052572605417147145, -0.005421757961443063, 0.0037925572557444553, 0.0026474255957849024, 0.01753413717501484, 0.009118751022906046, -0.01231917888994527, 0.00674859479650447, -0.01799157525196815, 0.006535547045853463, -0.001586898449086327, 6.42216187189959e-05, 0.0022479610632446523, -0.015195323524203275, -0.009389772318002088, -0.006913092216263017, 0.0008365197149728942, 0.0021946991255914483, 0.009757894274949663, 0.005097474728676943, 0.0035262475673629723, 0.0024876397828013097, 0.005496939261238509, -0.00630057993305666, 0.0014490319981907973, -0.012532226640622035, 0.003925712099911216, -0.005341865054955264, 0.006668701890008677, -0.01887039722354711, -0.009443034255655292, 0.014737885447258847, 0.012048157594825248, 0.01106281174792656, 0.007893726456445371, -0.007978330969699243, 0.009731263306093751, -0.016154038402277138, -0.0016401603867688408, 0.009917680087964342, -0.0017733152309515887, -0.004303257270354521, 0.0016620797488684502, -0.007552235468327062, 0.0036594024115714774, 0.001688710717699493, 0.01013072783865443, -0.0035309591741317092, 0.013299813130121407, 0.017374351361998386, -0.01269201245362872, -0.008803891003602793, -0.005235341179625763, -0.00606090121350622, 0.005230629572873902, 0.019691245650704126, 0.0009696745591440958, -0.01596762162042431, 0.005150736666341693, 0.001129460372149893, -0.006486996714895277, 0.011142704654427682, -0.001746684262125875, 0.01345959894311477, -0.005261972148441707, -0.0021994107323166645, 0.016309112608578147, 0.0031800449725221114, 0.005417046354713406, -0.016873074560822765, 0.01969124565070235, 0.0003305313070702809, -0.001586898449106755, -0.004356519208021048, -0.0007613384151765601, 0.0047246411649926046, 0.012634038909203227, 0.013166658285947541, -0.0028385539843913676, 0.017374351362008156, -0.0036374830494505517, -0.003983685644318058, -0.004010316613159759, 0.005523570230052677, -0.0007080764775224679, -0.01391703702007785, -0.0033179114234309637, 0.005417046354712518, -0.001027648103551826, -0.009549558131004332, 0.001608817811188601, 0.0070947973913675355, 0.014444944790040992, 0.004032235975235388, 0.01601617195137628, -0.0005216596956723052, -0.008990307785444962, 0.010849763997207162, 0.01985103146370104, 0.009092120054049246, 0.00682848770300204, -0.00478261470939767, -0.005022293428917024, -0.0110941543234917, -0.0046228288963652275, 0.001209353278669667, -0.01884376625470985, -0.01575457386974577, 0.005097474728681384, 0.012554146002693223, 0.013619384756140107, 0.0048045340714919504, 0.01609606485786763, 0.007068166422539157, 0.001369139091663918, 0.008000250331801517, -0.015008906742362882, -0.011307202074167577, -0.013198000861502912, -0.011147416261164445, -0.0034244352987560234, 0.005550201198886384, 0.01580312420070218, -0.015142061586536748, -0.0033711733611179184, -0.0016667913556158709, 0.029145239587413663, -0.004249995332667567, 0.0008098887461427395, -0.0015070055426145146, 0.0024876397827693353, 0.000996305527976915, -0.011946345326220964, 0.007174690297866881, 0.011195966592081774, 0.003899081131058857, -0.003610852080615956, -0.010455011071427656, 0.0011028294033366137, -0.007871807094343097, 0.000996305527971586, 0.0027539494711561474, -0.009229986504969645, 0.00437843857010467, -0.004889138584724506, 0.011462276280454375, 0.002647425595787567, -0.022172637359187952, 0.0018751274995496559, 0.01399221831982711, 0.011675324031124923, 0.0047512721338289765, 0.0012093532786732197, -0.0023325655765189524, 0.0015289249046874787, 0.005576832167737855, -0.004995662460074435, -0.013810513144721703, -0.0020396249193224136, -0.0038238998313060435, -0.012106131139243637, -0.016260562277619073, -0.004782614709413657, -0.003184756579243775, 0.011701954999964848, -0.01136046401182611, 0.010503561402336992, -0.00627394896419009, -0.020122052758833497, 0.011648693062281446, -0.010375118164931862, -0.013810513144728809, 0.0025142707515977136, -0.012984953110840358, -0.024329745834878125, 0.005843141856094469, 0.005896403793760108, -0.0058212224939930834, 0.004591486320805416, 0.015723231294159312, -0.005874484431675597, -0.00038850485150732084, 0.016229219702053044, -0.003930423706648867, 0.006775225765334625, 0.008373083895500066, -0.010375118164917652, -0.003877161768985893, 0.0049909508533483304, -0.009043569723126588, -0.007206032873450674, -0.0022260417011779055, 0.02009071018323816, 0.0015022939358386722, 0.004431700507786296, -0.008457688408711306, 0.013166658285942212, 0.007600785799224852, -0.0021994107323113354, -0.0025722442960329772, -0.005235341179615993, 0.006508916076970905, 0.02080974634181665, 0.00850623873968015, -0.008138116782721916, 0.0018751274995496559, 0.0016620797488489103, 0.010849763997216044, 0.018279804302395064, -0.004196733395013474, 0.002860473346481207, -0.022092744452668178, 0.010716609153047507, 0.0066420709211652, 0.0001441145252254472, -0.010561534946772255, -0.01639371712180271, 0.0069083806095306954, 0.006082820575616488, 0.013353075067783493, -0.010774582697469448, -0.008910414878934958, 0.009331798773579258, 0.0008365197149444725, 0.022407604471955445, 0.0016088178112010354, 0.00419202178828737, -0.002758661077878699, -0.01136046401184565, -0.011573511762552613, 0.008586131646183048, -4.2302256638926394e-05, 0.004032235975251375, -0.006327210901862834, 0.016096064857874737, 0.005257260541707609, -0.014769228022847969, -0.00797833096968148, -0.011040892385800305, 0.005949665731428411, 0.00752089289274771, -0.005368496023781866, -0.0035043282052766855, 0.005177367635181618, 0.012527515033868397, 0.000437055182427315, 0.0014224010293455436, -0.0002553500073254611, 0.00917201296055481, -0.011520249824834572, 0.00038379324474924204, -0.0010276481035509377, -0.0031048636727524226, -0.005022293428934788, -0.015062168680023191, 0.012660669878055586, -0.007206032873468438, 0.013725908631482042, 0.010583454308855877, -0.0014803745737568264, -0.002199410732329987, -0.002412458483012969, 0.007094797391363983, -0.0037173759559632202, 0.009944311056809596, -0.012132762108093331, -0.001533636511443781, -0.014423025427974245, 0.018359697208926384, -0.011653404669024425, -0.012478964702937745, 0.0028338423776466115, 0.0203303889027584, -0.012372440827614462, -0.003104863672743541, 0.023339688381211587, 0.008452976802008294, -0.012186024045766963, -0.003238018516922736, -0.0006814455087065241, 0.015190611917448749, -0.005554912805632917, -0.005661436680977516, 0.009092120054051911, 0.0036327714427093483, 0.0029936281906612905, -0.0035575901429556467, 0.024325034228130704, -0.005421757961467044, -0.004463043083392293, 0.013219920223600745, -0.001879839106304182, 0.006935011578344863, -0.004116840488491924, 0.0001707454940724773, -0.01564804999440028, -0.014369763490281073, 0.007068166422540045, -0.0031581256104304956, -4.2302256649584535e-05, -0.012478964702955508, -0.005954377338197148, 0.014471575758873811, 0.009198643929408945, -0.0024923513895283023, 0.011835109844144931, -0.00017545710079946986, -0.003930423706655972, 0.006535547045829482, -0.01210613113924186, 0.01630911260855772, -0.003424435298764017, 0.008373083895484967, 0.003978974037591065, 0.016894993922931256, -0.005341865054965034, -0.011839821450888799, -0.00273203010903611, -0.0008146003528750612, 0.006642070921158982, -0.013118107955004454, -0.003770637893641293, -0.008803891003595687, 0.011302490467437032, 0.010663347215370322, -0.00385053080015485, -0.0028918159220552297, 0.012687300846889293, -0.0001221951631213969, -0.0027053991402032906, -0.004702721802899212, -0.00749897353065343, -0.00677993737210425, 0.006668701890018447, 0.007361107079735696, 0.0002506384005789286, 0.015004195135587928, 0.006935011578367067, 0.003180044972515894, -0.011227309167662902, 0.015696600325335375, 0.010397037527004827, 0.001076198434476261, 0.005470308292380821, 0.019238519180503566, 0.0002506384005593887, -0.0014004816672521514, -0.003238018516931618, -0.012186024045756305, 0.012926979566418417, -0.015008906742354, 0.010290513651650457, -0.003344542392268224, 0.007893726456439154, -0.007898438063185687, 0.012021526625979106, -0.006167425088851708, -0.00504892439776139, 0.0057099870119126095, 0.00033053130708360356, 0.008612762615004321, -0.014236608646100102, 0.00038379324474480114, 0.02227444962776115, -0.010268594289558841, 0.005496939261205647, -0.002066255888146351, 0.005443677323532015, 0.010530192371207114, 0.010370406558173784, 0.0013957700605029544, -0.01072132075979404, -0.00672667543440042, 0.010077465900982574, -0.02289167351773269, 0.013432967974283727, 0.006801856734180767, 0.010157358807490802, -0.004303257270347416, 0.014924302229103681, 0.0028871043153140263, 0.010183989776323621, -0.002998339797383842, 0.0074676309550802955, -0.004063578550825397, 0.00765404773690026, -0.017885051376608452, -0.01069468979094168, 0.0005435790577585919, -0.0012406958542419133, -0.015914359682778212, -0.012638750515964858, 0.02882566796139141, 0.016042802920194, 0.01061008527768692, -0.017512217812909903, -0.008484319377578764, 0.007920357425290625, -0.01887039722351691, -0.006540258652560915, -0.00843105743988204, -0.007791914187830429, 0.007148059329026957, 0.009891049119116424, 0.021688568313400935, -0.013357786674522032, 0.0020615442813998186, 0.01668194617225538, 0.0010229364967990762, 0.0027273185022904656, 0.0005169480889115619, -0.0008146003528581858, 0.007547523861568095, -0.009043569723122147, 0.0018218655618964519, -0.0075522354683243975, 0.002088175250238855, 0.014444944790048098, -0.010108808476563702, 0.017427613299662248, -0.0010542790723979678, -0.00840442647106876, -0.005554912805638246, 0.00027726936939131974, 0.00483116504032477, -0.0018532081374793563, 0.0022745920320819124, -0.0015336365114251294, 0.0009963055279724742, 0.006375761232794375, 0.01050356140235742, -0.006433734777221645, -0.01753884878175782, 0.0035262475673691895, 0.004351807601271851, -0.02211937542149567, 0.010024203963291178, 0.002940366252970783, -0.007152770935806352, -0.005155448273103325, -0.009815867819352064, -0.0077120212813390765, 0.019185257242811282, 0.0026474255957849024, 0.005417046354720512, -0.013091476986177852, 0.0014224010293499845, 0.008825810365704179, -0.0006281835710097994, 0.007307845142077163, 0.00523062957286502, 0.006242606388616068, -0.000894493259369078, -0.00017545710079414079, 0.006562178014661413, -0.0007879693840395774, -0.015355109337221506, -0.012505595671782999, -0.003477697236447419, 0.0096513703996024, 0.003446354660841422, 0.022860330942174656, -0.0018798391063166164, -0.0039304237066577485, -0.012372440827622455, 0.0009430435903068357, -0.007658759343663668, -0.0021195178258270886, 0.008905703272209742, -0.005608174743312766, 0.008053512269452945, 0.0008365197149560188, 0.004698010196136693, -0.010774582697461454, 0.0010495674656532117, -0.006966354153918886, -0.0053684960237756485, -0.006327210901893032, -0.009975653632394277, -0.02001552888347291, -0.004649459865190941, 0.006668701890010453, 0.010450299464669577, -0.0007347074463428527, 0.0006767339019431162, 0.005230629572854362, -0.013837144113554523, -0.004542935989861441, -0.009309879411476985, 0.003073521097173959, 0.00041042421358206127, -0.009176724567313777, -0.009496296193341358, -0.0030249707662273195, -0.0039037927378071657, 0.0017952345930476454, -0.015701311932083684, 0.009891049119135076, -0.012878429235505529, -0.012505595671778558, 0.0008098887461178705, 0.0032865688478542765, -0.004782614709390565, 0.0061094515444519715, 0.004058866944078865, -0.01554152611907167, -0.009070200691966512, -0.008111485813862451, -0.0016934223244486901, -0.0009477551970391573, 0.005869772824923736, -0.010215332351910966, -0.0046494598652015995, -0.017751896532431033, -0.015035537711193037, 0.013406337005472224, 0.0007566268084726602, 0.011036180779066207, 0.0020349133125616703, -0.007658759343673438, -0.0033978043299258687, -0.002705399140214837, 0.0052572605416951745, -0.0037173759559596675, -0.011520249824834572, 0.014444944790064085, -0.007179401904608085, -0.01844430172217315, -0.01828451590914071, -0.0017733152309542533, 0.006668701889997131, 0.014631361571894708, -0.0023858275141765972, 0.00906548908524396, 0.0014490319981828037, 0.008000250331789083, 0.025337011043911062, 0.002301223000936048, 0.011036180779055549, -0.018018206220782318, 0.00816003614481886, -0.010614796884442335, 0.009225274898237323, 0.006295868326302134, -0.007658759343675214, 0.00656217801464809, -0.01852419462866539, 0.02083637731064858, 0.011062811747898138, -0.0006814455087020832, 0.006535547045822376, -0.009922391694721533, -0.003957054675486127, -0.005448388930286541, 0.008852441334542327, -0.0023059346076781395, 0.010397037527007491, -0.005714698618655589, 0.006855118671845517, -0.0025189823583522397, -0.0017200532932823975, 0.006215975419785913, 0.009944311056791832, -0.004729352771728479, 0.003206675941341608, 0.0093584297424254, 0.02219455672127335, 0.00560346313655824, -4.230225662293918e-05, 0.007680678705765942, 0.006508916076995774, -0.007099508998114956, 0.010636716246515299, 0.0025142707516288, -0.008084854845029632, 0.0022745920320828006, 0.0046980101961606735, 0.007574154830410684, -0.0011874339165611758, -9.556419430101215e-05, -0.00667341349674988, -0.005235341179595565, -0.0024923513895354077, 0.002514270751610148, 0.0006234719642606024, -0.0016401603867874925, 0.009891049119141293, 0.0007832577772877158, 0.011195966592084439, 0.011409014342770973, 0.024831022636006672, -0.0024657204206990357, 0.00017074549408224726, -0.00736581868648134, -0.01034848719607151, 0.00725458320438932, 0.01140901434277275, 0.004085497912940106, -0.0017466842621072232, -0.017885051376621774, 0.004964319884514623, -0.011946345326243168, -0.009443034255659732, -0.0009211242282232135, 0.013353075067791487, -0.013890406051253024, 0.01657542229691078, 0.013086765379423326, 0.001741972655391777, -0.021826434764334657, -0.007818545156689005, 0.00485779600915226, 0.0047246411649872755, 0.011622062093440633, 0.0003039003382481198, 0.007787202581098107, 0.011169335623247179, 0.0071746902978775395, 0.0017686036242166026, -0.009336510380329344, -0.0016135294179600024, 0.006748594796507135, -0.0032380185169298414, -0.0018265771686145627, -0.013996929926610058, 0.006029558637939303, 0.0017419726553802306, -9.556419430101215e-05, 0.0068551186718677215, 0.0006501029331138497, -0.011387094980677581, -0.007232663842296816, -0.0049424005224247836, 0.0065621780146498665, -0.0014004816672610332, -0.006194056057722719, 0.007467630955061644, -0.0019863629816345707, 0.0009164126214677992, -0.0033179114234354046, -0.009229986504971421, -0.003823899831298938, -0.011839821450895904, 0.01124922852974386, -0.0003352429138114843, -0.02198622057732358, 0.008266560020174119, -0.008297902595732154, -0.020894350855058086, 0.001955020406060548, 0.01092965690372072, -0.004303257270336758, 0.005097474728676943, -0.018364408815639166, -0.0018532081374509346, -0.025900972996197424, 0.005203998604039306, 0.01564333838765286, 0.008825810365690856, 0.006082820575596948, -0.005528281836799209, -0.0008678622905433642, 0.013033503441742589, 0.00325993787901524, -0.00800496193851341, -0.015062168680012533, -0.0025189823583753324, 0.009811156212633954, -0.003344542392254013, -0.012798536328980425, -0.014263239614940915, 0.023579367100733606, 0.015137349979785775, -0.0076321283748344015, 0.005417046354700972, 0.0044050695389579175, -0.0004683977579960086, 0.007893726456448036, -0.009602820068687734, 0.0013425081228399804, -0.0035842211117902423, -0.01231917888991152, 0.007094797391365759, 0.006535547045804613, -0.0045163050210481614, -0.03189294098427098, 0.0012093532786439098, 0.008719286490363132, 0.019238519180474256, -0.016713288747842725, -0.013384417643361068, -0.004010316613160647, -4.2302256638926394e-05, 0.011169335623232968, -0.021373708294101235, -0.017219277155697377, -0.013570834425220113, -0.0027586610778813636, 0.0016354487800400719, 0.002088175250247737, 0.0004636861512503643, 0.00288710431533179, 0.000729995839590103, -0.011573511762527744, -0.014662704147480277, -0.008031592907361329, -0.01106752335464467, 0.003952343068743147, -0.014875751898170364, -0.009789236850529015, -0.006300579933053996, 0.0028338423776377297, -0.005954377338183825, 0.00347298562969911, -0.018124730096146457, 0.008612762615015868, -0.002066255888156121, -0.01671328874784095, 0.010530192371203562, 0.00994431105681226, -0.010934368510453929, 0.02030375793393535, -0.0028385539843851504, -0.007285925779968672, 0.007467630955069637, 0.0034729856296955575, -0.0023591965453260144, 0.012713931815711454, -0.0023591965453304553, -0.018391039784492413, -0.0010809100412227934, -0.006992985122771245, 0.004618117289651558, -0.0001488261319710915, 0.0039257120999183215, 0.006429023170487547, -0.004010316613165976, -0.0027852920467177356, 0.0013691390916674706, -0.009735974912852718, -0.0017999461997737498, 0.015510183543475442, -0.008803891003597464, -0.0014803745737363982, 0.02022386502741913, -0.0031048636727470935, 0.024644605854158286, -0.002811923015565654, 0.022354342534270266, -0.00017545710079502896, 0.00014411452523166446, -0.007605497406005135, -0.012239285983429937, -0.02158675604477711, 0.0035262475673736304, 0.0018218655618857937, -0.005634805712127822, -0.0004950287268323805, 0.0031001520659872384, 0.009891049119130635, -0.0039836856443207225, 0.0012093532786732197, 0.001955020406054331, -0.010082177507710455, 0.026615297548002737, -0.010321856227243131, -0.00901693875427867, 0.00469801019613314, -0.007099508998117621, 0.005203998604028648, 0.002700687533461199, -0.0030516017350690205, -0.002279303638844432, -0.0027320301090503207, -0.013996929926595847, -0.0014271126360956288, -0.0008678622905469169, -0.0027320301090449917, 0.0014756629670129584, 0.000596840995417125, -0.010668058822102644, -0.020521517291355096, -0.006247317995365265, -0.003024970766240642, -0.002252672669992073, -0.012505595671768788, 0.0023811159074336175, -0.012478964702943074, -0.00315812561041362, -0.016393717121820472, -0.0034510662675888426, 0.01556344548117039, -0.0048891385847413815, -0.0016135294179289161, 0.0021414371879187044, -0.0022793036387973586, 0.01415200413287998, 0.0008365197149649006, 0.002221330094382523, -0.003584221111773367, -0.001214064885388666, -0.02145360120060147, 0.007520892892731723, -0.01175992854439123, -0.006753306403241233, -0.007738652250167455, -0.008910414878939399, 0.006961642547192781, -0.0066467825278939685, 0.004511593414313175, -0.0037972688624732243, 0.011222597560910152, -0.0003885048514957745, 0.007281214173250561, 0.010290513651660227, -0.0032113875480836995, 0.0038990811311006013, 0.014418313821193962, 0.0061627134821300444, 0.0018751274995585376, -0.003371173361115254, 3.759064986486038e-05, -0.00936314134915417, 0.019691245650694356, 0.01186174081298308, 0.0018484965307061785, -0.0041168404884937004, -0.00014882613196398609, 0.006269237357450663, -0.004463043083364759, 0.009225274898220448, 0.012900348597573164, 0.013166658285921784, -0.0002819809761511749, 0.0032865688478285193, 0.008692655521534753, -0.00773865225016479, 0.009624739430764251, 0.006162713482094517, 0.011009549810244046, -0.009336510380349772, 0.0028338423776466115, 0.013140027317089853, 0.013459598943129869, 0.0024343778451072495, -0.003983685644324275, 0.020676591497633012, -0.02864396278626824, 0.02927839443160707, 0.010450299464689117, 0.01412537316401341, -0.00664678252791262, -0.0011874339165798276, 0.0034996165985416994, -0.0059543773381767195, -0.029576046695532376, 0.003952343068736042, -0.00403694758200146, -0.015701311932059703, 0.0017686036242121617, -0.00536849602378453, -0.0008944932593646371, 0.00025063840059846854, 0.005843141856083811, -0.00922998650498652, 0.009864418150295151, 0.014365051883540758, -0.02030846954067389, -0.005927746369345677, 0.012687300846884852, 0.012207943407835486, -0.017831789438941037, 0.006881749640677448, -0.0037440069248173558, 0.006082820575628034, 0.007361107079725926, 0.013486229911969794, -0.00020208806964294723, 0.0038990811310775086, 0.016974886829463465, 0.0027539494711330548, 0.0028871043153184672, 0.01095628787256775, -0.006327210901861058, 3.759064987107763e-05, -0.008297902595716167, -0.008723998097119434, 0.01500419513560125, -0.020201945665328402, 0.0029403662529867702, 0.010583454308867424, -0.019642695319773473, -0.01245233373408805, -0.0069397231851064944, -0.004276626301527919, 0.003153414003674193, -0.0029450778597412963, -0.0015336365114544392, 0.014365051883560298, -0.025448246525987095, -0.010082177507712231, 0.005603463136582221, 0.0010229364968212806, -0.003557590142957423, 0.005816510887248327, -0.010375118164914099, 0.0031534140036670877, 0.0014224010293757416, 0.010663347215370322, -0.008537581315239073, -0.00012219516313471956, 0.010743240121882991, 0.0076540477369198, -0.0019331010439511687, -0.002119517825823536, -0.016793181654346512, -0.005475019899116695, 0.007680678705733079, 0.014178635101689707, 0.007680678705772159, 0.006189344450943324, 0.00893233424102835, -0.006460365746060681, 0.021315734749691728, 0.005923034762573387, 0.010610085277704684, 0.005230629572877454, 0.00770730967460409, -0.004463043083367424, -0.013091476986153872, 0.008239929051319095, 0.009385060711240456, 0.004591486320801863, 0.01716130361131807, 0.015803124200665764, -0.0044630430833452195, -0.0012140648854046532, 0.01543029063695922, 0.021555413469219964, -0.017272539093386996, -0.007552235468336832, 0.02062332955997359, -0.005874484431675597, -0.027685247908179278, 0.006535547045825041, 0.0042186527571015375, -0.010534903977927002, 0.03223443197236264, 0.024804391667172077, 0.006429023170454684, 0.0003039003382321326, 0.00043705518242553865, 0.008932334241030127, 0.0017153416865376414, -0.009389772317989653, 0.0008897816526429736, -0.00717940190461519, -0.010960999479296518, -0.004010316613169529, -0.0011874339165602876, -0.010694689790935463, -0.019935635976949584, -0.0014803745737541618, 0.02136899668737069, 0.010317144620501928, -0.0035842211118053413, -0.007845176125536923, 0.016575422296908116, 0.0026474255957893433, -0.0020129939504611727, -0.003930423706651531, -0.014289870583764852, 0.003952343068747588, 0.004804534071499944, -0.004170102426168221, -0.0002287190384988591, -0.01671328874783118, -0.019349754662585816, 0.01732108942433186, -0.0026255062336826285, 0.017480875237339433, 0.007760571612260847, -0.008111485813871333, -0.004489674052218007, -0.012558857609464624, -0.011893083388533121, -0.009682712975181751, 0.012101419532515756, 0.00491105794685609, 0.009331798773572153, 0.0003305313070782745, 0.007414369017405775, 0.01537702869929447, -0.001560267480274824, -0.005741329587483968, 0.004351807601291391, 0.009438322648916753, 0.012527515033863068, 0.021582044438056336, -0.004995662460069994, -0.005288603117285184, 9.085258755181513e-05, 0.0006767339019582153, 0.002487639782763118, -0.007632128374822855, 0.006375761232805921, 0.004857796009164694, -0.008484319377568994, 0.012021526625981771, -0.011706666606714933, -0.019030183036561787, -0.009256617473820228, -0.006220687026532445, -0.015435002243719964, 0.0031001520659890147, 0.007840464518758417, -0.0020662558881179294, -0.013650727331715906, -0.0025988752648604674, -0.015461633212551007, 0.010530192371161817, -0.01032185622724402, 0.002540901720451849, -0.006646782527904627, -0.0004417667891525312, -0.010321856227223591, 0.0003305313070667282, 0.00957147749310927, -0.0023858275141677154, 0.009917680087966119, 0.004990950853340337, -0.0012939577918906764, -0.024596055523255167, 0.010157358807502348, 0.0011028294033152974, 0.005949665731439957, 0.014444944790052539, 0.005496939261211864, -0.01154688079369226, -0.005741329587484856, 0.009678001368452094, -0.003424435298769346, -0.005821222493990419, -0.004995662460092198, -0.0015602674802730476, -0.008510950346412471, 0.0008098887461258641, 0.004884426977987744, 0.0006234719642641551, 0.0032333069101966316, 0.004777903102644032, 0.008319821957821105, -0.011360464011838545, -0.008324533564563197, 0.010237251713981266, -0.012505595671781222, -0.008297902595716167, 0.0016354487800400719, -0.009283248442662817, 0.013033503441763905, 0.01982440049488865, -0.005874484431657834, 0.01673520810991036, 0.024218510352782552, 0.015829755169502135, 0.025337011043885305, 0.006562178014633879, 0.0011827223098261896, 0.016841731985286934, -0.004116840488519458, -0.007925069032006071, 0.013246551192448663, -0.004196733394983276, 0.005443677323535567, 0.01103618077907953, 0.0031534140036910685, -0.001906470075126343, -0.008084854845029632, 0.00304689012834114, 0.00786709548761344, -0.0037173759559703257, 0.002807211408806687, 0.00251427075160926, -0.009203355536113733, 0.0034197236920086027, -0.0012140648853877778, 0.016761839078775154, 0.0004104242135962721, 0.0024077468762691012, 0.000623471964268596, -4.230225661849829e-05, 0.020570067622295518, -0.0005482906645104535, -0.006913092216265682, -0.002092886856978282, 0.010183989776318292, -0.011360464011826998, -0.006087532182354138, -0.0015336365114260175, 0.003126783034817393, -0.013384417643368174, -0.004649459865214922, -0.008111485813875774, -0.0006281835710053585, 0.01481777835374043, -0.008351164533396904, -0.003344542392254901, 0.009784525243778042, -0.0008944932593699662, 0.004990950853352771, -0.005847853462833008, -0.003930423706655972, -0.007498973530652542, -0.004303257270336758, 0.008106774207136347, 0.007334476110885113, -0.009815867819367163, -0.006886461247430198, -0.005155448273103325, 0.00813340517596206, 0.01071660915304129, 0.001022936496792859, 0.008373083895504507, -0.02310472126842722, 0.0004903171201222634, 0.014551468665397138, -0.013198000861529557, 0.0027273185022913538, -0.0031581256103967448, 0.010423668495844751, 0.00541704635470186, 0.002008282343722634, -0.003930423706673736, 0.013353075067782605, -0.0034244352987657933, 0.0037392953180521715, 0.016708577141084646, 0.008160036144810867, 0.0065355470458081655, -0.0040369475819890255, -0.0010010171346994667, 0.004325176632441696, 0.004964319884512847, -0.007632128374831737, -0.0006814455086807669, 0.006136082513286567, -0.016926336498536365, 0.0052572605416898455, -0.016367086152983212, -0.0011874339165682812, 0.008346452926642378, 0.010503561402348538, 0.003286568847856941, 0.006455654139326583, 0.01937167402467921, 0.016522160359249582, 0.0012093532786563443, -0.0022526726699902966, -0.0036641140183002463, 0.0025675326892757866, -0.008910414878955386, -0.0166600268101611, 0.006721963827670763, 0.020436912778111882, -0.005981008307006874, 0.007440999986240371, 0.011036180779070648, 0.0011294603721356822, 0.013006872472911546, 0.013699277662640341, 0.0019017584683860278, 0.01399221831986086, 0.003925712099912992, 0.009598108461941202, -0.006167425088839273, -0.013118107955000902, 0.0005968409954428822, -0.017698634594751184, -0.014130084770777707, -0.018843766254710737, 0.014098742195173486, 0.016548791328070855, 0.021475520562725947, 0.013566122818471804, -0.0010276481035589313, 0.018040125582884592, 0.002647425595776909, -0.0017466842621134404, 0.013539491849617669, -0.005847853462841002, -0.006646782527910844, -0.007019616091624492, 0.0036061404738729763, 0.005816510887268755, 0.012820455691064048, 0.009704632337294683, -0.008484319377581429, 0.0034463546608654028, -0.0049157695535626544, -0.009150093598479181, -0.004835876647070414, -0.00970934394403411, -0.0013205887607332656, -0.010987630448140884, -0.02020194566532485, -0.0068065683409139766, -0.01724590812455773, 0.0074676309550500974, -0.006700044465583588, -0.003797268862467895, 0.0001441145252263354, 0.014178635101710135, -0.011946345326223629, 0.00014411452523521717, -0.0017999461997986188, -0.019083444974238084, -0.002305934607655935, -0.011680035637867903, -0.02137370829411278, -0.01351757248754204, -0.011839821450886134, -0.004915769553576865, -0.00611416315118074, -0.005581543774475506, 0.016042802920218868, -0.015781204838590135, -0.008990307785452956, 0.0053904153858832515, 0.018333066240088236, -0.012052869201568228, 0.0058697728249272885, -0.010428380102598389, 0.006988273516026489, 0.00304689012834114, -0.011600142731346352, 0.006242606388627614, -0.013331155705675002, -0.013464310549883507, -0.015461633212579429, 0.0013425081228319868, -0.00938977231798166, -0.0014004816672432696, 0.012527515033867509, 0.00666870188998292, -0.003504328205274909, 0.014338420914706163, 0.011994895657161386, -0.010774582697465895, -0.013331155705704312, 0.010130727838648212, -0.006140794120014448, -0.017725265563611536, 0.01987766243256317, -0.009656082006361366, 0.006642070921167864, -0.024036805177695797, -0.0038771617689645765, 0.003286568847846283, -0.0005749216333628127, 0.008106774207119471, -0.006114163151193175, -0.006992985122777462, 0.02019723405858631, 0.0018218655618902346, -0.01431650155262254, -0.0007347074463552872, 0.006429023170491099, -0.00409020951965644, -0.016367086152987653, 0.00198165137488715, 0.011781847906489062, 0.008745917459186181, 0.003872450162226926, 0.003419723692025478, 0.016122695826699562, 0.0003571622758915538, -0.004729352771728479, 0.005124105697528414, 0.0003305313070862681, -0.0021994107323468626, 0.005789879918415508, 0.020170603089757932, 0.0055768321677147625, 0.010157358807467709, -0.004649459865219363, 0.017400982330825876, 0.015004195135600362, 0.005097474728689377, -0.0075788664371660985, 0.009784525243790476, -0.014662704147463401, 0.004405069538948148, 0.005017581822166939, -0.00747234256182594, 0.017001517798296284, -0.01889702819238437, -0.010641427853278707, 0.004271914694767176, 0.010743240121859898, 0.011861740812959987, 0.007068166422528499, -0.016367086152971666, 0.007787202581114094, -0.0015070055425852047, 0.0009963055279698096, 0.0012093532786590089, -0.004889138584748487, -0.0055282818368000974, -0.007206032873455115, -0.012159393076897729, 0.00640239220163874, 0.001475662967025393, 0.0020082823437324038, -0.002332565576526946, -0.011999607263918577, -0.004596197927535073, -0.005847853462837449, 0.0005702100266011811, 0.017054779735961922, -0.003371173361090385, 0.014178635101703918, -0.0008944932593681898, -0.00110754101005206, 0.011542169186938622, 0.0055768321677147625, 0.01271393181571856, 0.006215975419781472, -0.006220687026539551, -0.0065402586525422635, -0.010002284601228872, 0.010024203963317824, -0.00222604170114149, -0.005182079241936144, -0.0015070055425736584, 0.001395770060495849, -0.002598875264843592, 0.007654047736913583, -0.011786559513207173, -0.0059810083070130915, 0.005363784417042439, 0.0021680681567461946, 0.016362374546242897, 0.005363784417034445, 0.015483552574670156, -0.007259294811130523, -0.004223364363848958, 0.00578987991840485, 0.000996305527961816, -0.017219277155728463, -0.004995662460098416, -0.013917037020081402, 0.01756076814384233, -0.011520249824858553, -0.00816474775153253, -0.010987630448129337, 0.011222597560922587, 0.0031800449725141178, -0.010534903977938548, -0.004036947582000572, 0.006881749640688994, -0.014369763490290843, -0.013437679581026707, -0.0005749216333521545, 0.03287357522445156, 0.011488907249276537, -0.005261972148447924, 0.024058724539757215, 0.01569660032533715, -0.005315234086131326, -0.005395126992624455, -0.0031847565792562094, -0.013251262799171215, -0.003957054675495009, 0.0022213300944100567, 0.005789879918419061, 0.0016354487800338546, -0.007419080624132768, 0.014604730603072547, -0.010854475603958136, 0.012287836314344602, 0.0038724501622455776, 0.0038191882245754982, 0.012900348597582934, 0.003872450162237584, -0.007791914187841975, 0.011515538218106691, 0.009012227147554341, 0.0008365197149480252, -0.0028651849532215223, 0.0012359842474856109, 0.006269237357463098, 0.0077073096745952085, -0.004809245678232266, -0.004516305021032174, -0.004303257270350969, -0.007632128374838842, -0.004569566958709359, -0.005128817304266953, -0.012851798266637182, -0.002039624919309091, 0.00970463233727159, -0.008271271626883347, 0.005869772824925512, -0.0036641140183064635, -0.010268594289574828, -0.008564212284083439, 0.009065489085221756, -0.00201299395046739, 0.00022400743172212856, -0.005767960556329221, -0.008564212284094097, 0.004351807601278956, -0.0005216596956625352, 0.009278536835902074, 0.004698010196151792, 0.004325176632452354, -0.006167425088861478, 0.0016354487800214201, 0.005097474728677831, 0.0006234719642810305, 0.00901222714755523, 0.005630094105398165, 0.0029137352841557274, -0.00797833096970102, 0.0027006875334691927, 0.008932334241039896, 0.0026207946269494187, 0.018412959146562713, 0.015217242886295779, 0.007121428360198578, -0.01671328874783473, 0.012953610535277882, 0.0056300941053955, 0.02091627021714615, -0.008297902595713502, 0.0012093532786581207, -0.012425702765283653, 0.009411691680093703, 0.00041042421357406766, -0.0035043282052908964, -0.020228576634188755, -0.013996929926600288, -0.009789236850542338, 0.005177367635194052, -0.0026521372025332113, -0.006247317995375923, 0.02802673889630558, 0.007467630955072302, 0.003659402411569701, 0.01039703752699328, -0.001533636511438452, 0.019131995305145644, 0.003686033380391862, -0.0016667913556123182, -0.014955644804670598, 0.0036061404738738645, -0.004889138584750263, 0.0017952345930325464, -0.01444965639681417, 0.004538224383135336, 0.005337153448221166, 0.013725908631489148, -0.006886461247422204, 0.0135927537873064, -0.009016938754297321, -0.008191378720374232, -0.008937045847777547, 0.0011028294033268438, 0.0008631506838039371, 0.0007566268084486794, 0.004724641164964183, -0.0019597320128070805, -0.014715966085146803, -0.022998197393095055, 0.019637983713059803, 0.003020259159491445, -0.003930423706660413, 0.0032599378790116873, 0.003126783034828051, 0.009385060711270654, -0.003131494641600341, -0.00646036574604647, -0.01705949134268625, -0.005927746369336795, 0.0020349133125678875, -0.021480232169439617, -0.010455011071413445, 0.004165390819441228, -0.006300579933048667, 0.004484962445480356, -0.005261972148456806, 0.011329121436267187, 0.005683356043081567, -0.014556180272141894, -0.003344542392264671, -0.014742597053997386, 0.004165390819422576, -0.0031048636727284418, 0.005310522479384794, 0.012607407940376625, -0.013730620238229463, -0.0026521372025456458, -0.0052619721484488124, 0.009038858116395154, 0.002088175250237967, 0.00781383354993892, -0.007419080624138985, 0.0006767339019226881, 0.007840464518777068, 0.00914538199172199, 0.006482285108138974, -0.007818545156680123, 0.015483552574663939, -0.003930423706643538, -0.009443034255637528, -0.007392449655315936, -0.0178317894389437, 0.008213298082483611, 0.0026207946269449778, 0.012953610535255677, -0.010241963320743785, -0.01687307456084408, -0.013224631830327738, -0.00640710380839149, -0.001373850698414003, -0.011360464011848315, -0.009975653632390724, -0.0049690314912513855, 0.009917680087959013, -0.006087532182348809, -0.0059011154004879884, -0.01386377508241221, -0.004223364363859616, 0.005816510887250992, -0.0002020880696314009, -0.010614796884442335, -0.010401749133754024, 0.008559500677341347, 0.012980241504084944, 0.012554146002702993, -6.893322545398206e-05, 0.0012093532786554562, -0.004942400522421231, 0.018013494614041115, -0.012186024045761634, 0.015323766761632385, -0.01988237403929105, 0.0063224992951553816, -0.0053951269926324485, -0.003024970766224655, -0.00385053080015485, 0.01846622108426832, -0.012052869201592209, -0.0007879693840280311, 0.007440999986244812, 0.0024343778451161313, -6.893322547263381e-05, 0.013406337005461566, -0.016526871965997003, 0.0008365197149506898, -0.010002284601206668, -0.009043569723124811, 0.008080143238289317, 0.0015289249046972486, 0.003286568847836513, 0.007813833549926485, -0.00760549740599803, -0.005554912805642687, 0.000650102933110297, 0.0036327714427111246, 0.003739295318038849, -0.0013472197295900656, 0.003899081131078397, 0.01266066987805381, 0.008879072303368929, -0.017858420407780073, -0.007339187717642304, -0.009975653632395165, -0.01413008477077149, 0.01921188821166453, -0.009043569723127476, -0.0064869967148890595, -0.017192646186884986, -0.012718643422466869, 0.0005702100265931875, 0.020863008279498274, -0.01647361002832959, -0.0030516017350645797, -0.01146698788718492, -0.0030249707662362013, 0.011888371781841656, 0.003659402411544832, -0.011014261416987914, 0.0017419726553962178, -0.010321856227240467, 0.011968264688340113, 0.018279804302419933, 0.008160036144813532, 0.010317144620497487, -0.019083444974218544, 0.002434377845100144, 0.003659402411559931, -0.008910414878954498, 0.008958965209854064, 0.019078733367479117, 0.00762741676808254, 0.008000250331796188, -0.007898438063176805, 0.0044050695389517, 0.0015289249046928077, -0.015940990651603926, 0.0005435790577585919, 0.0020881752502308615, 0.003339830785500375, -0.018231253971477734, -0.006513627683727208, -0.011999607263910583, -0.009389772317994982, 0.00560346313657778, -0.004170102426169109, -0.0014004816672521514, 0.002913735284145069, -0.004010316613179299, -0.013251262799186314, -0.010747951728617089, -0.007925069032023835, 0.00022400743173101034, -0.00046839775800133765, -0.01775189653242837, 0.011568800155775882, -0.008564212284085215, 0.006322499295127848, 0.00544367732354889, 0.016602053265775574, -0.0016401603867821635, -0.0028119230155443375, 0.0046447482584826005, 0.007574154830402691, 0.008106774207128353, 0.0030468901283340344, -0.0053684960237854185, -0.017938313314291854, -0.004942400522421231, -0.002492351389522973, -0.005688067649819217, -0.009256617473802464, 0.002727318502296683, -0.004303257270334981, -0.0029717088285501347, 0.003872450162242913, -0.012372440827630449, -0.001001017134711013, -0.030774440293135363, 0.003020259159479899, -0.0022260417011636946, 0.006242606388627614, 0.0028338423776510524, 0.003952343068752917, -0.010588165915620174, -0.00025535000732368474, 0.007068166422529387, 0.003126783034827163, 0.0033664617543598396, -0.01530184739954965, -0.0056880676498005656, -0.006007639275834364, 0.020729853435296874, 0.007600785799246168, 0.0005702100266118393, -0.009336510380326679, 0.000596840995426895, -0.0007613384151738956, -0.012612119547132927, 0.010556823340023946, 0.005017581822174044, 0.0035262475673700777, -0.009842498788201759, -0.0021195178258217595, 0.0019816513748942555, -0.010215332351906525, 0.0007832577772930449, -0.020548148260182586, -0.0009477551970453746, 0.011595431124630018, 0.0012892461851663484, 0.019504828868847746, 0.002887104315322908, 0.005789879918428831, -0.007898438063182134, -0.01375725120708804, 0.011622062093442409, 0.0024343778451134668, -0.002945077859715539, 0.012847086659894202, -0.009123462629634815, 0.019424935962335965, 0.009438322648930964, 0.004245283725940574, -0.001400481667265474, 0.01026388268282119, 0.00022400743173456306, 0.026162571077797736, 0.018333066240089124, 0.001848496530703514, 0.0036061404738783054, 0.01812001848940259, 0.010929656903742035, -0.014849120929345538, -0.02922984410065599, -0.014396394459123663, 0.003180044972500795, 0.003632771442713789, -0.004463043083378082, -0.00832453356456142, 0.011808478875321882, 0.008133405175980712, 0.010610085277694026, 0.011781847906463305, 0.008479607770830455, 0.002061544281401595, -0.002785292046715071, -0.00494240052240702, 0.012554146002695887, -0.005874484431672933, -0.00792506903202117, 0.015004195135599474, 0.01734772039315846, -0.01018870138306216, -0.004702721802877008, -0.0073125567488094845, -0.0026255062336968393, -0.003184756579265091, 0.008586131646191042, 0.006828487703010033, 0.0040588669440966285, 0.007946988394122556, 0.015057457073289093, -0.008111485813907748, 0.007654047736914471, -0.004356519208002396, -0.00803159290736577, -0.0064869967148890595, 0.008426345833162152, 0.004831165040332763, -0.012558857609458407, 0.0003305313070853799, -0.01921659981840662, -0.014902382866996966, -0.008537581315252396, -0.008830521972432948, -0.016633395841334497, 0.0018218655618795765, -0.0017466842621169931, 0.0007033648707697182, -0.012452333734104037, 0.003286568847857829, 0.006109451544446642, 0.007973619362964257, 0.01287371762873768, 0.0010495674656407772, 0.006189344450947765, 0.011249228529774946, -0.0019597320128061924, 0.0034996165985434757, -0.005554912805638246, 0.0009164126214544766, -0.0012406958542268143, 0.0010229364967955235, 0.0031800449725079005, -0.006593520590231883, 0.006588808983489791, -0.007445711592979798, 0.01018398977633339, 0.0033664617543589515, 0.004591486320794758, 0.00792035742529329, 0.004990950853345666, -0.009922391694717092, -0.016100776464602617, -0.0029983397973749604, -0.01354420345637486, -0.01048164204025337, 0.009038858116386272, 0.012101419532502433, 0.016921624891784504, 0.006375761232797039, -0.009496296193323595, -1.5671287801666267e-05, -0.0039037927378062776, 0.0014490319981712574, 0.006508916076992222, -0.0004950287268465914, -0.013490941518705668, -0.008644105190572127, -0.010348487196083944, 0.012687300846915939, 0.012207943407858579, 0.0025941636581157113, -0.005528281836811644, -0.0012939577919111045, 0.003046890128326929, 0.019052102398638304, -0.009416403286844677, -0.009283248442632619, -0.003504328205273133, -0.002971708828555464, -0.007845176125503173, -0.0017733152309515887, -0.01948290950677034, 0.0037126643492060296, 0.021368996687357367, 0.021848354126394298, 0.010476930433506837, -0.010934368510464587, -0.019775850163949116, 0.00038379324474124843, 0.00043705518242997954, -0.002066255888146351, -0.006327210901878821, 0.011915002750651382, -0.01125394013651082, 0.0037126643492202405, 0.008559500677323584, -0.0016934223244708946, 0.00070336487078837, 0.006535547045835699, 0.0038458191933896657, -0.010827844635134198, 0.0029936281906506323, -0.003930423706655084, 0.0009696745591325495, -0.00930987941148409, 0.011808478875292572, -0.018444301722145617, 0.006295868326285259, -0.012079500170411706, 0.00291373528415928, 0.003739295318069047, 0.004085497912917901, 0.0072545832043973135, 0.0064822851081647315, -0.01980248113279881, 0.004431700507777414, -0.0030516017350681324, 0.0017686036242121617, -0.0017200532932886148, -0.005661436680989063, 0.00882581036570329, -0.002678768171374024, -0.007046247060444877, -0.0017733152309542533, -0.019802481132786376, 0.002514270751613701, -0.0037706378936315232, -0.015062168680041843, 0.010157358807494354, 0.011009549810231611, -0.009176724567298677, 0.0022745920320828006, 0.0058165108872643145, -0.005315234086121556, -0.010534903977924337, -0.007658759343654786, 0.003126783034832492, -0.0013738506984042331, -0.01934975466258404, -0.010002284601214662, 0.000410424213575844, -0.02709936659380663, -0.014156715739588321, 0.008186667113642798, 0.002061544281402483, 0.009305167804742887, -0.002252672669973421, -0.0022526726700000665, 0.0034996165985425876, 0.00650891607700288, -0.007925069032044263, -0.008297902595716167, 0.010903025934874577, -0.00848431937758054, -0.017405693937578626, -0.007871807094337768, -0.02808471244073374, -0.0034510662675995007, -0.003078232703908945, 0.02046354374696424, 0.004564855351964603, -0.009869129757039907, 0.0007299958396220774, 0.006056189606772122, 0.00211480621906901, -0.012478964702942186, -0.0041168404885141285, 0.012634038909219214, 0.004884426977983303, -0.0015070055426029683, -0.006913092216255912, -0.011147416261138687, -0.0021994107323024537, 0.0071480593290553784, 0.006535547045806389, -0.003610852080599969, 0.004964319884489754, -0.006540258652571573, -0.004249995332690659, -0.0034244352987506943, 0.014152004132857776, -0.00912346262961794, -0.0004151358203108302, 0.011648693062291215, 0.006695332858816627, -0.010321856227256454, 0.0019283894372197352, -0.004383150176845874, -0.008138116782723692, 0.004831165040328322, -0.007259294811143846, 0.008958965209881598, -0.005981008306992663, -0.0019331010439751495, 0.00744099998622616, 0.015510183543470113, -0.0006548145398479477, 0.0092252748982391, -0.0060875321823496975, 0.0017153416865518523, 0.020223865027420018, -0.002652137202536764, -0.002492351389516756, 0.004911057946837438, -0.010401749133745142, -0.01420997767726373, 0.0001973764628901975, -0.018897028192381704, 0.003952343068742259, 0.02035701987160543, 0.010263882682835401, 0.002780580439964986, -0.006034270244676954, 0.00496431988451107, -0.021799803795497397, 0.0109030259348879, 0.01268730084689551, -0.003078232703908057, 0.010769871090706928, 0.01572323129417974, 0.005097474728684048, 0.015323766761642155, 0.015776493231850708, -0.0020928868569844994, 0.002833842377654605, -0.013464310549866632, 0.007707309674603202, -0.003051601735077014, -0.0004950287268234987, -0.00385053080013531, 0.00669533285882018, -0.015355109337192197, -0.011653404669034195, -0.010668058822118631, 0.002381115907410525, 0.001182722309827966, -0.004303257270352745, 0.007920357425295066, 0.00272731850232244, 0.0034729856297071038, -0.002279303638833774, 0.003845819193391442, -0.008990307785452067, -0.008271271626890453, -9.556419429035401e-05, 0.010903025934881683, 0.0036061404738898517, 0.0038724501622358076, 0.004911057946825892, -0.006859830278599155, -0.00409020951967598, 0.003606140473865871, -0.00656688962139107, 0.009811156212621519, -0.009682712975200403, -0.008031592907362217, -0.005954377338188266, 0.014631361571877832, 0.015350397730474086, 0.004458331476643984, -0.003957054675506555, -4.230225662382736e-05, -0.0037972688624687834, 0.012926979566418417, -0.014742597054012485, -0.004729352771734696, -0.0008412313216989986, 0.014578099634234398, -0.010268594289580157, -0.0012406958542223734, 0.0028871043153095854, 0.005070843759852117, -0.005874484431664939, -0.005475019899139788, 0.0018218655618609247, 0.0006501029330978625, -0.011466987887173374, 0.005283891510540428, 0.004458331476627109, 0.009678001368437883, -0.005528281836819637, -0.01793831331429807, -0.004329888239203328, -0.003504328205294449, -0.005954377338182049, -0.013064846017344145, 0.001555555873546055, -0.003690744987134842, -0.007658759343668109, -0.004676090834046853, 0.017827077832222038, -0.017778527501280728, -0.0018265771686420962, -0.005794591525148718, -0.00859084325292514, 0.009251905867072807, 0.009305167804759762, 0.0023544849386016864, -0.006007639275850352, 0.017720553956841023, -0.005688067649797013, -0.003610852080630167, 0.0015821868423460117, 0.009704632337285801, 0.009358429742410301, -0.007206032873447121, 0.0016088178112072526, 0.0061094515444617414, -0.004995662460079764, -0.007312556748800603, -0.0003086119449680069, 0.002540901720450073, 0.012261205345512671, 0.0005169480889231082, -0.01202623823273985, -0.0072859257799580135, 0.00592303476257694, 0.01574986226302766, 0.005044212791001534, -0.0011075410100502836, -0.0023858275141765972, 0.006908380609535136, 0.010183989776327174, 0.0017686036242103853, -0.008750629065935378, -0.008750629065927384, -0.011174047229971507, -0.018071468158478154, 0.00339309272316779, 0.0031534140036599823, 0.00046368615124237067, -0.005208710210764522, -0.00044176678915963663, -0.0011608029477390147, -0.005341865054945494, -0.00539512699264133, 0.007787202581087449, -0.01136046401184121, 0.010210620745150223, 0.0010495674656603171, 0.0052572605416951745, -0.008244640658043423, 0.014924302229081476, 0.003606140473877417, -0.003557590142967193, 0.019131995305150973, 0.0033131998166950893, -0.014050191864261485, -0.01242570276528987, 0.0033398307855163623, 0.013246551192432676, 0.005630094105404382, -0.010401749133762905, 0.0057632489495809125, -0.011040892385811851, -0.003930423706669295, 0.006855118671856175, -0.01737906296872538, -0.004329888239193558, -0.008910414878949169, -0.002545613327209928, 0.014152004132866658, -0.01793831331428919, -0.0014537436049177899, -0.0014803745737568264, 0.004751272133814766, -0.0012939577919111045, 0.010982918841410338, 0.0012093532786332517, 0.002381115907430953, 0.010769871090712257, 0.00011748355637752894, 0.010290513651669997, -0.014476287365644325, -0.007552235468326174, -0.0004151358203259292, -0.00941640328681892, 0.011409014342784296, 0.004884426978012613, 0.012154681470184947, 0.010130727838662423, 0.0038724501622358076, -0.011733297575542423, 0.0034197236920219254, -0.005288603117273638, -0.004995662460088646, -0.005634805712143809, -0.001773315230952477, -0.0016135294179466797, -0.008963676816632571, 0.010956287872551762, 0.003952343068738706, 0.015430290636971655, -0.02315798320610174, -0.001160802947730133, 0.0015022939358342313, 0.0037659262868841026, 0.013086765379433984, -0.002226041701150372, -0.015035537711180602, 0.02142225862503011, -0.013251262799180097, -0.005288603117286961, 0.010370406558168455, 0.0071480593290358385, 0.010610085277715342, 0.004911057946825004, 0.012953610535241467, 0.001049567465670087, 0.00381918822457461, 0.022487497378466337, 0.0006234719642650433, -0.003291280454586598, -0.007339187717615658, -0.011440356918351213, -0.0015602674802757122, 0.0016088178112037, 0.005070843759841459, 0.011222597560938574, 0.002034913312541242, 0.004058866944093964, 0.010104096869806511, -0.012345809858765655, 0.005470308292374604, -0.0006015526021778683, 0.009704632337276031, 0.014631361571916024, 0.002700687533461199, -0.011280571105329429, 0.01449820672772173, -0.0064869967148739605, 0.0010229364968123988, 0.002274592032089906, 0.006002927669110036, -0.009443034255649962, -0.01673991971665867, 0.015829755169534998, -0.003903792737828482, -0.0059277463693350185, -0.012984953110830588, -0.013650727331713242, -0.006779937372087375, 0.00017074549405915462, 0.002780580439951663, 0.002034913312569664, 0.02302011675518223, 0.0008098887461116533, 0.007547523861574312, -0.015621419025555028, -0.00233256557647632, 0.012953610535221927, -0.008084854845044731, 0.00640239220162897, -0.011733297575564627, -0.007072878029279472, -0.005395126992624455, 0.004724641164994381, -0.0011874339165505177, 0.0031267830348404857, 0.011861740812986632, -0.0009477551970409337, 0.0026474255957857906, -0.015488264181399813, -0.00643373477722875, -0.001240695854230367, -0.00046839775800933126, 0.0024343778450859332, -0.0062206870265377745, 0.0069616425472043275, -0.003024970766239754, -0.0020396249193170846, 0.016335743577391426, -0.014662704147486494, 0.012660669878040487, 0.006215975419786801, -0.01719264618687877, 0.003313199816688872, 0.023792414851403265, 0.018972209492144287, -0.0031314946415736955, -0.014582811240978266, -0.0027586610778769227, 0.023419581287718927, -0.0155415261190619, -0.0012939577918995582, -0.01282516729780614, 0.003925712099920986, -0.0032646494857360153, -0.00017545710080923982, -0.01082784463512887, 0.002727318502317999, 0.010982918841407674, 0.00025063840056560593, -0.0011075410100680472, -0.007259294811162498, -0.012292547921080477, -0.010854475603967906, 0.002594163658129922, 0.009331798773589917, -0.009842498788190213, 0.014924302229102793, 0.00837308389546898, 0.0004636861512565815, 0.0032066759413345025, -0.002918446890907589, 0.009704632337293795, -0.004036947581984585, -0.01639371712181692, -0.010641427853260943, 0.011675324031127587, 0.003978974037580407, 0.005603463136555575, -0.0037706378936377405, -0.01018870138307637, -0.0008146003528795021, 0.007840464518785062, 0.0017419726553837833, -0.00933651038031158, 0.000863150683793279, -0.009123462629623269, -0.0021727797634847335, -0.0042233643638454055, 0.007627416768086981, -0.0024657204206874894, -0.015221954493022771, -0.006007639275855681, 0.0039523430687502525, 0.0046447482584524025, 0.014152004132874652, 0.008106774207133682, 0.010450299464698887, 0.003765926286891208, -0.008644105190583673, 0.004644748258474607, 0.005869772824914854, -0.008910414878942063, -0.002598875264878231, 0.0009963055279742505, -0.006114163151177188, -0.0009477551970329401, 0.0012626152163273119, 0.007307845142049629, -0.027738509845852022, -0.00787180709435642, 0.000543579057773691, -0.01050827300908086, -0.0030249707662433067, -0.007179401904630289, -0.012425702765283653, 0.002887104315306921, -0.003850530800144192, -0.0023591965453313435, 0.0056833560430709085, -0.015381740306046332, -0.006566889621385741, -0.004116840488516793, -0.01442302542796714, 0.010130727838641107, 0.00842634583315327, -0.0004950287268288278, -0.01977585016396244, -0.024356376803704727, 0.00027726936939842517, 0.014657992540754172, -0.0022526726699956257, 0.007148059329033174, -0.005874484431662275, -0.0003352429138310242, -0.004649459865221139, 0.011355752405099118, -0.007099508998107851, 0.001475662967026281, 0.0031800449725167823, -0.002918446890888937, -0.0053418650549392765, -0.00025535000730680935, 0.006375761232813915, -0.017219277155718693, 0.014977564166772872, -0.0007879693840440183, 0.004644748258471942, -0.007525604499495131, 0.016948255860606665, 0.009518215555427645, -0.0033711733610823913, 0.0004636861512610224, -0.0001221951631409368, -0.011094154323490812, 0.017347720393162014, 0.00038379324476078835, -0.017272539093388772, -0.017032860373866754, 0.0034197236920334717, 0.003952343068767128, -0.01663339584133272, 0.0034197236920077145, 0.010636716246542832, 0.002833842377643947, -0.0018798391063077347, 0.003552878536213555, 0.005124105697531078, -0.005954377338185601, 0.019318412087025116, -0.004036947581983696, 0.005789879918423502, 0.005816510887255433, 0.014045480257506071, 0.000969674559144984, -0.020308469540686325, -0.005501650867968166, 0.00238111590743717, 0.009837787181462332, 0.00507084375985567, 0.00025063840058514586, 0.0012626152163166537, -0.004489674052193138, -0.004329888239195334, -0.001080910041210359, -0.008404426471057214, -0.0019064700751298957, -0.004596197927530632, -0.013411048612190335, 0.006562178014654307, -0.012186024045761634, -0.0029717088285625692, 0.002487639782787099, -0.008590843252922475, -0.008058223876196813, -0.0021727797634900625, -0.010561534946766038, -0.007206032873473767, 0.0007299958396096429, 0.0010229364967990762, 0.006402392201624529, -0.011786559513191186, -0.0064603657460526875, -0.004729352771730255, 0.01260740794036952, 0.008532869708480106, 0.00640239220162897, 0.007627416768089645, -0.007951700000859319, 0.01076987109069183, 0.017454244268500396, -0.010534903977942989, 0.0013425081228346514, 0.000836519714941808, -0.008564212284075445, 0.0008631506837994962, 0.011808478875304118, -0.0027053991402237187, 0.006109451544447531, 0.007174690297882869, 0.0016887107176897231, -0.008990307785458285, -0.012878429235470001, -0.017352431999883677, 0.019318412086990477, 0.0010761984344673792, -0.008937045847794423, -0.011387094980687351, 0.007174690297898856, -0.002039624919299321, -0.009709343944027893, 0.0030735210971455373, -0.012452333734096932, -0.007498973530651654, 0.0014224010293411027, -0.009256617473824669, 0.010610085277694914, 0.0005169480889302136, -0.011253940136492169, -0.0077386522501710076, 0.009651370399614834, -0.001720053293300161, 0.0022213300944091685, 0.0011560913409800477, 0.018412959146575147, -0.0032113875480890286, -0.004542935989865882, -0.0031314946415932354, -0.002252672670002731, -0.0010542790723855333, 0.007946988394119003, 0.006562178014656084, 0.024138617446269883, 0.01076987109069627, 0.0068018567341594505, -0.0004151358203259292, 0.011915002750653159, 0.002034913312574105, -0.011626773700182724, 0.01194163371948953, 0.012207943407852362, 0.012847086659922624, 0.010610085277684256, -0.0031847565792606503, -0.008590843252902935, 0.010849763997209827, 0.002168068156738201, -0.018683980441688952, 0.006242606388625838, -0.01857745656633991, 0.013805801537997375, 0.01380580153798494, -0.007445711592968252, -0.001160802947715922, 0.009491584586577062, 0.034471433354585024, -0.015301847399555868, -0.00014882613197819694, 0.014098742195189473, -0.0011608029477061521, -0.009229986504970533, -0.0011874339165496295, 0.02496417748019386, 0.004298545663600883, 0.003845819193401212, -0.0012406958542436897, -0.00398368564432694, 0.007840464518772627, -0.0026787681713704714, -0.009150093598464082, 0.014950933197949823, -0.005554912805646239, 0.0013158771540044967, 0.0019283894372215116, 0.0011560913409880413, -0.0025988752648622437, -0.004569566958712912, -0.0018798391062961883, -0.014103453801936006, -0.009176724567299566, -0.01349094151870922, 0.015110719010942297, 0.022700545129151983, 0.004618117289642676, 0.004378438570108223, 0.006668701890004236, -0.004223364363841853, 0.011222597560929692, -0.0068065683409335165, 0.004724641164998822, -0.010588165915597969, -0.008803891003607234, -0.0063804728395524535, 0.001981651374892479, -0.001134171978883991, -0.0021195178258279768, 0.008160036144812643, -0.0020396249193117555, -0.01777852750125586, -0.0019064700751378894, -0.011600142731360563, 0.002753949471139272, -0.016633395841337162, -0.005688067649815665, 0.025869630420603862, 0.004698010196144686, 0.0009963055279680333, 0.014045480257505183, -0.00781854515667213, -0.014156715739587433, 0.01298024150409205, 0.014018849288676805, -0.004542935989871211, 0.001395770060505619, -0.010002284601207556, 0.002301223000926278, 0.010849763997216044, -0.0044097811457071145, 0.005763248949574695, 0.0015289249046706033, 0.012474253096193877, -0.01570131193209434, -0.01708612231153417, 0.009331798773575706, 0.013326444098947121, 0.009145381991726431, 0.00877254842801456, 0.0072279522355307435, -0.010082177507719337, -0.017325801031057075, -0.00696635415393132, 0.004751272133820095, -0.008830521972430283, 0.002434377845115243, 0.008026881300617461, -0.016713288747841837, 0.00557683216773075, -0.015008906742335348, -0.012931691173147186, 0.009811156212609973, 0.010903025934902999, 0.01447157575888891, 0.007014904484874407, -0.014636073178643905, 0.0057898799184226135, 0.024245141321634023, -0.004809245678252694, -0.012825167297818574, 0.0009164126214740165, -0.00989576072588605, -0.00867073615941294, -0.014023560895418896, 0.0007033648707750473, 0.005496939261222522, -0.0013738506984175558, -0.005341865054955264, -0.01210613113925163, 0.0180401255828766, -0.002252672670007172, -0.003717375955951674, -0.009150093598464082, 0.006136082513275021, -0.0037440069247853813, 0.0037392953180557242, -0.0017999461997932897, -0.008670736159429815, 0.00938506071125289, 0.007520892892749487, -0.01615403840227536, -0.006167425088857037, -0.007765283219002939, 0.0010495674656576526, 0.0044317005077942895, -0.014715966085161902, -0.028164605347247296, -0.00616742508885082, 0.018199911395892165, -0.004649459865218475, -0.002199410732337981, -0.0038238998313167016, -0.03298481070651604, -0.0126387505159693, 0.00805351226945028, -0.001080910041215688, 0.00011748355639529251, -0.004889138584744934, -0.0012406958542436897, -0.008617474221759736, 0.011062811747908796, 0.0017419726553713488, 0.004884426978010836, -0.002492351389512315, -0.0060875321823496975, -0.005874484431672933, 0.013113396348273909, -0.006433734777213651, -0.01010880847655482, -0.020707934073211476, 0.008745917459195951, -0.027605355001694143, -0.006167425088883682, -0.010162070414240887, -0.008138116782726357, -0.005981008307011315, -0.0226253638293894, -0.006194056057682751, -0.0003618738826611789, -0.002758661077872482, -0.0011075410100662708, 0.005550201198916582, -0.001480374573750609, 0.0036594024115528256, -0.0006548145398541649, 0.014045480257496301, -0.0178051584701171, -0.0032113875480979104, 0.012154681470184059, -0.016660026810168205, -0.021879696702003848, -0.02491562714928275, -0.009629451037535652, 0.006535547045804613, -0.012292547921075148, -0.014156715739601644, -0.0037706378936439577, -0.004782614709384347, 0.003073521097157972, -0.0025988752648524738, 0.0031267830348307157, -0.004463043083352325, -0.01210613113926673, 0.0010761984344629383, -0.01000228460121555, -0.007152770935775266, -0.004676090834061064, 0.012128050501334364, 0.008106774207132794, -0.002012993950478048, 0.007201321266721017, 0.007440999986249253, -0.008138116782697935, -0.00038850485148689273, -0.002119517825813766, 0.003499616598524824, -0.0039037927378169357, -0.011253940136517926, 0.00578987991842439, -0.009389772317993206, 0.0049643198844968595, -0.006300579933014916, -0.0090435697231257, -0.007978330969684144, 0.011435645311611786, 0.0007566268084362449, 0.014524837696555437, 0.009811156212604644, -0.010668058822106197, -0.009842498788209753, -0.0043831501768503145, -0.0006281835710053585, 0.0082132980824845, -0.002119517825828865, 0.0065888089834915675, -0.0033978043299196514, 0.006189344450963752, 0.00917201296057435, -0.010934368510469916, 0.0010761984344700437, 0.014817778353751088, 0.0026207946269485305, -0.004569566958708471, 0.012420991158522021, 0.007654047736901148, -0.006859830278595602, 0.0015821868423646634, 0.009385060711249338, 0.00019737646290529653, 0.0001441145252254472, -0.0031048636727364354, 0.002141437187901829, -0.010934368510464587, 0.009731263306125726, 0.01915862627399445, -0.015727942900896963, 0.009358429742412966, -0.00803159290737021, 0.011382383373936378, -0.004383150176868078, -0.022465578016368504, 0.0022479610632357705, -0.0019064700751432184, 0.00027726936941174785, -0.0206014101978651, 0.0027006875334674163, -0.008777260034750434, -0.015674680963245535, 0.0036594024115625956, -0.0017733152309542533, -0.010721320759783382, 0.008639393583850463, 0.01367264669378887, 0.007574154830416013, 0.010343775589333859, 0.004484962445464369, 0.005044212791019298, 0.012740562784561149, 0.010556823340052368, 0.023179902568194244, -0.006087532182361244, 0.017374351361989504, -0.004170102426189537, 0.009624739430758922, -0.003291280454610579, -0.0035842211117822487, 0.0006767339019493335, -0.011120785292308533, 0.006056189606777451, 0.004591486320809857, 0.0131666582859431, 0.0003571622759288573, 0.008373083895469868, 0.01186174081297331, -0.020787826979699275, 0.000570210026615392, -0.008111485813889985, -0.0042233643638303064, -0.006620151559062926, 0.002727318502296683, -0.0028651849532321805, -0.016926336498520378, 0.00443170050778896, 0.008879072303364488, -0.008857152941275537, -0.0006548145398639349, -0.02262536382939917, 0.004618117289648005, -0.011120785292302315, 0.013486229911968906, -0.010135439445384087, 0.006748594796505358, 0.004165390819436787, 0.002674056564648808, 0.003366461754351846, -0.011440356918344996, -0.007046247060434219, 0.009651370399604176, 0.010050834932148867, 0.005150736666359457, -0.0012140648854108704, 0.01748087523732611, 0.0022745920321032287, 0.021262472812002997, -0.00046839775801021943, -0.0074723425618046235, -0.006433734777227862, -0.015035537711166391, 0.007387738048548975, 0.0007033648707857054, 0.013725908631482042, 0.003872450162251795, -0.007179401904617855, -0.005261972148433713, -0.004276626301495057, 0.011302490467432591, 0.001235984247501598, -0.007259294811126971, 0.007867095487619657, 0.0020082823437324038, -0.01106752335463046, 0.012367729220851054, 0.0010761984344682674, 0.00142240102934732, -0.001720053293285062, -0.015195323524203275, -0.0075522354683341675, 0.008932334241060325, 0.011222597560932357, 0.011915002750643389, 0.006695332858830838, -0.0006814455086816551, -0.0003618738826585144, 0.0057366179807392115, -0.008297902595716167, 0.008346452926653036, -0.014769228022816883, -0.0019064700751423302, 0.009678001368441436, -0.009203355536140378, -0.00954955813101499, -0.018950290130036684, -0.005341865054965922, -0.003744006924797816, -0.00273203010902634, 0.007920357425275526, 0.00973126330611418, 0.0006501029331085206, 0.0037126643492255695, -0.0026521372025332113, -0.002705399140221054, 0.004351807601281621, 0.011195966592087103, 0.006136082513281238, -0.009656082006366695, 0.005124105697529302, -0.0006548145398621585, 0.011515538218103138, 0.005630094105398165, 0.008426345833155935, -0.01716601521805572, -0.018284515909142485, -0.00845768840873351, 0.0005702100265976284, -0.010082177507729995, -0.012585488578291226, -0.02350418580096214, -0.014529549303303746, 0.010024203963316936, 0.0018484965307115075, 0.0024876397827764407, 0.0081067742071248, -0.012052869201566452, 0.009970942025631757, -0.001746684262121434, -0.007179401904625848, -0.009762605881685538, -0.008058223876200366, 0.002301223000912067, -0.012292547921105346, 0.007733940643412041, -0.006726675434415519, 0.00632249929512696, -0.023930281302338763, -0.008058223876206583, -0.019589433382101618, 0.008213298082471177, 0.002221330094402063, -0.01687307456085385, 0.01812001848939815, 0.007946988394117227, 0.01188837178180524, 0.007600785799256826, -0.001879839106299741, -0.005847853462838337, 0.008266560020147473, 0.003233306910173539, 0.004857796009178017, -0.016020883558111265, 0.00978452524379314, -0.014130084770777707, -0.013198000861526005, -0.009922391694709987, -0.0024124584830307327, 0.0039257120999183215, 0.0019017584683700406, -0.01141372594950596, -0.016633395841337162, -0.0032113875480845877, -0.003610852080624838, -0.004889138584758257, -0.0026255062337012802, 0.0027273185022913538, -0.003744006924803145, -0.0016934223244211566, -0.009895760725869174, 0.00017074549405293737, 0.003552878536207338, -0.008004961938524069, -0.004170102426185984, -0.0015602674802464023, -0.022492208985199547, 0.0062958683262985815, -0.0028385539843869267, -0.013144738923824839, -0.017672003625933463, 0.013273182161285035, 0.004857796009148707, -0.0039570546754745806, 0.00997094202562998, -0.014289870583776398, 0.0024343778450974796, -0.01037511816491321, 0.005550201198878391, 0.008799179396868695, 0.014977564166755108, -0.004969031491249609, -0.006673413496762315, 0.008639393583854016, 0.002620794626960077, 0.007733940643425363, 0.011329121436268075, 0.006695332858806857, -0.008723998097095453, -0.01687307456087428, -0.006114163151178076, -0.004489674052207349, -0.008537581315262166, -0.011120785292330737, -0.009229986504974086, -0.010561534946763373, -0.0030782327039045043, -0.008564212284089656, 0.01415200413285067, -0.007765283218995833, -0.031200535794530637, 0.006508916076986004, 0.006136082513288343, -0.012452333734120025, -0.0052886031172958425, -0.009576189099846033, -0.005501650867965502, -0.002572244296025872, 0.02163530637569977, -0.0033445423922477957, -0.009922391694716204, -0.013038215048511326, -0.013730620238227687, -0.0029983397973794013, -0.0028918159220676642, -0.010774582697467672, -0.010854475603950142, -0.012265916952261868, -0.005954377338175831, -0.00547501989912913, -0.0019863629816434525, -0.012771905360144942, 0.02142225862502123, 0.004511593414284754, -0.016660026810159323, 0.006935011578344863, 0.008106774207135459, 0.013646015724988025, 0.010130727838655318, -0.004063578550828062, -0.01162677370018983, -0.0032380185169342823, 0.0077073096745898795, 0.016282481639723123, 0.006109451544449307, -0.018497563659837013, -0.01074795172862597, -0.01772526556359466, -0.010774582697450796, 0.009944311056806932, -0.005901115400505752, 0.005203998604022431, 0.006588808983488015, -4.230225661494558e-05, -0.016739919716671103, 0.01585638613833762, 0.0036594024115421675, -0.008218009689207051, 0.008639393583845134, -4.230225664247911e-05, 0.011915002750636283, 0.0025409017204474083, -0.027312414344501157, -0.00406357855083872, -0.021533494107119466, 0.00017074549406537187, 0.00360614047388097, -0.005102186335446568, -0.006753306403244785, 0.003313199816688872, -0.004942400522438106, 0.015669969356482127, -0.002252672669992961, 0.014152004132855112, -0.003983685644319834, -0.010348487196093714, 0.010317144620504592, 0.006642070921146548, -0.0011341719788822147, -0.0014537436049248953, 0.005816510887260762, 0.012447622127377045, 0.026348987859678097, 0.02003744824555742, -0.008564212284075445, 0.004165390819438564, -0.004889138584748487, 0.006002927669107372, 0.003206675941355819, -0.0027053991401979616, -0.005661436680982845, 0.0037392953180805932, 0.018040125582889033, 0.010689978184189819, -0.0036907449871330655, -0.013144738923816845, 0.007574154830422231, -0.005714698618658254, 0.013246551192453104, 0.008958965209893144, 0.005390415385871705, -0.006540258652552922, 0.00022400743175232662, 0.007973619362961593, -0.024835734242748764, -0.0019863629816274653, 0.00528389151052977, -0.003717375955957003, 0.007094797391371088, -0.006327210901893032, 0.0017952345930485336, 0.011542169186967044, 0.0012892461851379267, 0.011435645311607345, 0.016788470047606197, 0.0005702100265985166, 0.002620794626952083, 0.006535547045831258, -0.0076587593436805435, 0.011542169186959939, -0.0006814455086923132, 0.0008897816526509672, -0.016233931308788918, -0.010188701383087917, 0.008825810365675757, -0.003957054675500338, 0.0019017584683940214, 0.0007299958396114192, 0.008719286490338263, 0.008772548428019, 0.010104096869818946, 0.017773815894537748, -0.01202623823273985, -0.010481642040271133, -0.0029717088285776683, -0.010960999479300071, 0.003552878536197568, -0.0009743861658737529, -1.567128778834359e-05, -0.005794591525152271, 0.017560768143844108, 0.0056567250742292075, -0.001320588760725272, -0.008244640658036317, -0.008963676816619248, 0.0037659262869125243, -0.013757251207056065, 0.006002927669102043, -0.0020396249193117555, -0.006486996714908599, -0.003371173361096602, 0.007920357425285296, -6.893322548240377e-05, -0.0032912804546070262, 0.006029558637930421, 0.01380580153799027, 0.008186667113629476, -0.012106131139239196, -0.014076822833075653, -0.008564212284079886, 0.009970942025636198, -0.0006281835710186812, 0.017880339769885012, -0.003344542392264671, 0.023339688381212476, -0.013570834425218337, -0.012505595671794545, 0.0006767339019324581, -0.00731255674881659, 0.013938956382149925, 0.012154681470169848, 0.0007033648707714946, -0.0024124584829996465, 0.004671379227326078, 0.00677522576533196, 0.011382383373928384, 0.012953610535232585, 0.004218652757094432, -0.0034244352987817805, 9.085258753938064e-05, 0.013752539600316638, 0.012447622127369051, 0.006269237357473756, 0.003046890128327817, -0.012825167297816797, -0.0019064700751325603, 0.0016354487800196438, 0.00491105794683655, 0.0023278539697555445, -0.001853208137463369, 0.0057366179807640805, 0.00762741676808254, -0.01152024982488875, 0.00041042421356696224, 0.00882581036569885, 0.0033930927231997643, 0.006642070921177634, 0.003126783034836045, -0.014263239614954237, -0.011813190482056868, -0.008990307785468055, 0.0015289249046803732, -0.015248585461893782, -0.006966354153932208, 0.0037925572557355736, 0.007893726456453365, -0.0007080764775135862, 0.0021148062190725625, 0.004298545663607989, 0.003925712099913881, 0.007654047736926017, 0.02427177229048727, -0.0157545738697511, -0.006939723185093172, 0.009411691680093703, -0.025235198775298784, -0.00166679135559189, -0.02571455621433838, 0.0072812141732141455, -0.0036641140182949172, 0.017507506206171364, -0.007365818686486669, -0.00454293598989608, 0.01271393181572833, -0.035434859839392985, 0.00845297680200563, 0.005843141856098022, 0.020303757933907818, 0.013406337005460678, -0.007126139966948664, 0.006855118671857063, 0.0040056050064132265, 0.012341098252038663, -0.01572794290091828, -0.017938313314275867, -0.01261211954711694, 0.0009696745591343259, -0.0025456133271877235, -0.0166600268101762, 0.006215975419786801, 0.0023544849385865874, -0.0019597320127955342, 0.0009164126214660229, -0.0022260417011619182, -0.026540116248258805, -0.015594788056748854, 0.0005968409954455467, 0.0003837932447554593, -0.013490941518693234, -0.0032113875480899168, -0.0004683977579942322, -0.013198000861501136, -0.005794591525170922, 0.004378438570132204, 0.0012093532786430217, 0.009571477493087954, -0.008004961938516963, 0.0065888089835013375, 0.009544846524268458, -0.005075555366587103, -0.0017733152309347133, -0.009043569723138134, 0.016894993922936585, 0.011994895657155169, 0.020223865027426235, 0.010104096869822499, 0.008293190988995391, 0.003526247567365637, -0.004223364363852511, -0.00347769723644209, -0.007978330969683256, 0.01937167402465967, -0.0008944932593717425, -0.006114163151174523, 0.012287836314367695, 0.017134672642454163, -0.009629451037514336, -0.0038505308001566263, 1.0959681045363823e-05, -0.010215332351901196, 0.01175521693762338, 0.0034996165985372585, -0.004809245678224272, 0.007520892892742381, -0.0015868984491040905, -0.016287193246459886, -0.00808485484504029, 0.001821865561886682, 0.007361107079719709, -0.004276626301514597, 0.010689978184196924, -0.022039482515018527, -0.017645372657089986, -0.0008678622905247124, -0.003131494641580801, -0.018204623002660902, -0.004303257270348304, 0.008266560020138591, -0.02097424376156809, 0.0027273185023011237, -0.005475019899139788, -0.016793181654358946, -0.003451066267589731, -0.016393717121823137, -0.009975653632375625, -0.005847853462839225, 0.012074788563672278, 0.0052572605417049445, -0.007365818686479564, -0.007845176125512943, 0.0018218655618778001, 0.009811156212642835, -0.0027320301090405508, 0.00831982195782821, 9.085258755536785e-05, 0.004112128881766708, -0.024063436146543715, -0.0011341719789106364, -0.013384417643387714, 0.002487639782802198, 0.0005169480889364308, 0.007201321266721905, 0.0029137352841352993, 0.00379255725574712, 0.00821329808247917, 0.02453808197881724, 0.001102829403323291, -6.893322545575842e-05, 0.015270504823948983, 0.0010229364968070698, 0.011675324031116041, 0.007041535453683245, -0.01697959843621355, 0.015350397730459875, -0.0025456133272019343, 0.0015555558735274033, -0.026220544622214348, 0.00941169168006084, 0.0049909508533483304, 0.00712142836020746, -0.008058223876215465, 0.0024610088139542796, 0.005603463136555575, 0.0002506384005593887, -0.001027648103557155, -0.02124055344992648, 0.009917680087948355, -0.003451066267619929, -0.0073924496553043895, -0.004303257270358074, 0.019318412087015346, -0.003957054675477245, 0.000996305527952046, 0.013699277662651, -0.015994252589265123, -0.012106131139230314, 0.0026740565646363734, -0.014263239614944467, -0.004063578550825397, 0.015084088042102373, -0.02068130310437244, 0.00038379324473947207, -0.010348487196077727, 0.00869265552151699, 0.014418313821208173, -0.007285925779958902, -0.006220687026514682, -0.005475019899124689, 0.017187934580148223, -0.0030516017350787905, -0.008324533564564085, -0.0013205887607385947, -0.004942400522417678, -0.010428380102566415, -0.004116840488512352, 0.005923034762589374, -0.0064071038083941545, 0.009704632337277808, 0.013912325413348192, -0.001347219729576743, -0.015381740306060543, 0.009092120054060793, -0.003211387548110345, 0.0004370551824139923, -0.014343132521451807, 0.010343775589326754, 0.00493768891567381, -0.003850530800139751, -0.0011608029477248039, -0.00028198097615383944, 0.0009696745591334377, -0.012771905360127178, 0.008772548428041205, 0.00344635466084231, -0.023397661925631752, -0.001267326823077397, 0.006935011578359962, -0.011174047229986606, 0.0039523430687467, -0.0033445423922717765, -0.007179401904623184, -0.007019616091619163, -0.0004950287268368214, -0.0018532081374491582, -0.0006548145398257432, -0.0041434714573558296, 0.000570210026605622, -0.009363141349140847, 0.0025675326892748984, 0.0012093532786607852, -9.556419429301855e-05, 0.0012093532786616734, 0.006535547045818824, -0.007578866437153664, -0.01689970552970088, 0.008053512269466268, 0.009331798773580147, 0.0007299958396043138, -0.0019064700751245667, 0.005843141856080258, 0.015483552574653281, 0.004218652757088215, -0.003024970766229096, 0.002034913312590092, 0.009970942025643303, -0.008431057439903356, -0.009096831660794003, 0.0037392953180717114, 0.005470308292387038, 0.0042452837259281395, -0.00033524291382214244, -0.009656082006356037, 0.00565672507422299, -0.0022793036388302212, -0.011227309167660238, -0.015408371274881816, 0.006588808983489791, 0.007520892892746822, -0.0019331010439911367, 0.02017060308975438, -0.0008412313216945577, 0.010397037527011932, -0.014289870583777287, 0.001182722309827966, 0.004458331476624444, 0.020516805684616557, -0.0016135294179342452, -0.002652137202535876, 0.009092120054051911, -0.010455011071419662, 0.009571477493100389, -0.0028651849532366214, 0.0005169480889142264, 0.007680678705767718, 0.010610085277689585, -0.003717375955981872, -0.014502918334453163, 0.013912325413325988, 0.007254583204405307, 0.006775225765344395, -0.008111485813856234, -0.011067523354651776, 0.005869772824923736, 0.0003571622759048765, -0.02970920153972134, 0.026988131111711944, -0.009949022663538365, -0.004596197927527079, 0.0013957700605153889, 0.00541704635471163, 0.006455654139314149, 0.0016354487800285256, -0.007552235468322621, 0.014737885447238419, -0.00014882613196487426, -0.01705949134270046, -0.0033711733610992667, 0.000463686151244147, 0.018146649458241626, 0.004298545663607101, 0.0034197236920334717, -0.02179980379545654, -0.01852419462866539, -0.009496296193334253, 0.0030202591594719053, -1.567128781143623e-05, -0.01604751452695652, -0.007312556748790833, 0.003393092723193547, 0.0007033648707750473, -0.008297902595738371, -0.011440356918331673, -0.001533636511442893, 0.009225274898246205, 0.008053512269453833, -0.00853758131523108, -0.0041168404885141285, -0.0026787681713607014, 0.005257260541684516, 0.026348987859662998, -0.02358407870747037, -0.008590843252928693, 0.003952343068754693, -0.008857152941276425, 0.011222597560917258, 0.015270504823972075, 0.0005702100265940757, 0.01092965690373493, -0.004516305021065925, -0.0065668896213892936, -0.0010809100412147998, 0.0061893444509468765, 0.0012359842474989335, 9.085258753227521e-05, 0.008239929051291561, 0.015483552574653281, 0.004484962445467033, 0.012793824722225011, 0.009891049119140405, 0.013033503441753247, 0.007787202581106989, -0.0012406958542241497, 0.002274592032089906, -0.006779937372087375, -0.015994252589259794, -0.013304524736846624, -0.003024970766235313, 0.018972209492120307, -0.01631382421530514, -0.0021994107323255463, 0.002061544281406924, -0.020974243761571643, -0.005022293428937452, 0.0001973764628901975, 0.0016088178111948181, -0.005981008307009539, 0.01484440932259723, -0.0046494598652069286, 0.013646015724966709, -0.013890406051233484, -0.012212655014597118, 0.0027539494711312784, -0.011680035637865238, -0.003584221111804453, 0.002647425595777797, 0.004591486320793869, -0.008963676816609478, -0.015381740306048997, -0.014849120929324222, 0.011994895657148952, 0.0071214283602092365, -0.012718643422478415, -0.002838553984359393, -0.0031581256104145083, 0.0018751274995532086, 0.010397037527004827, -0.013304524736864387, -0.006460365746040253, -0.010002284601220879, -0.021879696701991413, -0.004383150176860973, 0.003686033380386533, -0.0015336365114295702, 0.014498206727713736, -0.014263239614948908, -0.015062168680015198, -0.009469665224504098, -0.021213922481085667, 0.01559007644998811, 0.02800010792747809, 0.019611352744188792, 0.014924302229095687, 0.0003837932447581238, -0.0031581256104145083, 0.009678001368447653, 0.0092252748982391, 0.014418313821199291, -0.008963676816635235, 0.0008631506838110425, 0.0015022939358555476, 0.009997572994477899, 0.012128050501349463, -0.002012993950471831, -0.0028119230155585484, 9.08525875447097e-05, -0.00033524291382569515, 0.012607407940361526, 0.013432967974274845, 0.007227952235535184, 0.0023544849385972455, 0.011808478875306783, -0.003344542392258454, 0.01580312420067198, -0.004809245678220719, -0.005421757961443063, -0.002252672669992961, -0.010055546538871418, -0.022678625767055927, -0.01378388217589066, 0.023206533537029728, 0.00789372645643649, 0.009997572994453918, 0.020809746341824642, 0.005603463136545805, -0.00294507785972975, 0.002594163658110382, -0.0018265771686296617, -0.008910414878942952, 0.008452976801994083, 0.006535547045806389, -0.006806568340916641, 0.0025941636581210403, -0.01357083442520235, 0.008293190988955423, -0.00576796055631057, -0.00845768840875305, -0.013677358300546949, 0.007334476110870014, -0.0008412313217265321, -0.01620730033995965, -0.005821222493981537, 0.0029669972218107077, -0.004755983740573733, 0.010104096869826051, 0.010636716246544609, 0.010796502059546853, -0.00020208806964916448, -0.0024657204206883776, 0.008186667113637469, -0.010694689790953227, -0.016020883558085508, 0.018013494614049108, 0.006642070921175858, 0.009145381991720214, -0.01058816591560685, -0.0009743861658781938, 0.0009696745591227796, 0.026056047202462018, 0.019904293401402207, 0.0012626152163459636, -0.00787180709436619, 0.004245283725941462, -0.0010010171347243357, -0.004889138584737829, 0.003526247567366525, -0.01056153494675982, -0.015994252589283775, 0.01103618077905466, 1.0959681048028358e-05, 0.008186667113630364, 0.01553681451232869, 0.022940223848661567, -0.015727942900911174, 0.006615439952299518, -0.0011075410100707117, 0.0033131998166862076, -0.0016934223244469138, -0.012212655014607776, -0.005261972148458582, 0.00142240102932778, 0.0209162702171497, -0.0021461487946536906, 0.0073877380485702915, 0.005923034762592039, 0.0008631506837852854, -0.011014261416978144, -0.00017545710079946986, -0.005208710210767187, -0.011680035637882114, 0.009038858116383608, -0.00797833096970102, 0.005124105697528414, -0.0010542790723926387, 0.017054779735961034, 0.00027726936940819513, 0.0024077468762495613, 0.0024077468762593313, 0.002620794626952083, -0.003264649485750226, -0.006966354153930432, 0.0029936281906426387, -0.009602820068700169, 0.0018751274995620903, -0.008564212284071893, -0.016420348090665726, 0.004405069538948148, -0.018577456566342576, 0.006695332858838832, -0.0025722442960036673, -0.0032646494857671016, 0.008373083895476086, -0.005528281836798321, -0.008963676816625465, -0.009762605881706854, 0.00256753268930332, 0.002940366252984994, -4.2302256632709145e-05, 0.020357019871585003, 0.007254583204361786, 0.008213298082473841, -0.021240553449939803, -0.01258548857828412, 0.012394360189712295, -0.0016401603867706172, -0.0011608029477265802, -0.014662704147489158, -0.006380472839549789, 0.004245283725933469, 0.01684173198526384, -0.008351164533381805, -0.002705399140200626, -0.007925069032029164, 0.0192385191805009, -0.007951700000857542, 0.005443677323550666, -0.001586898449096985, 0.001582186842352229, -6.893322545842295e-05, -0.010854475603951919, -0.007791914187856186, 0.007387738048563186, 0.001076198434461162, 0.0009430435902997303, 0.005496939261228739, -0.0006015526021778683, 0.002540901720431421, 0.0016354487800240847, 0.000650102933085428, -0.008537581315248843, -0.008910414878941175, 0.0019283894372117416, 0.019185257242813947, 0.0025941636581210403, -0.0015602674802686067, -0.007525604499494243, -0.0076321283748139734, -0.012345809858771872, -0.0037440069247915986, -0.011972976295083981, 0.00038379324472881393, -0.017538848781746275, 0.024990808449020463, 0.008053512269461827, 0.009944311056789168, -0.021373708294107452, 0.013432967974303267, -0.020548148260198573, 0.005044212791013081, -0.0008678622905362587, -0.006407103808379944, 0.006402392201646734, -0.008031592907361329, -0.01468933511632109, -0.006327210901861058, -0.01168003563787412, -0.00369074498712596, -0.0014004816672530396, -0.009629451037518777, -0.004915769553545779, 0.006908380609512044, -0.0008146003528715084, 0.0009696745591263323, 0.0062426063886151795, -0.013810513144740355, -0.005501650867957508, 0.012261205345517112, 0.0031267830348244985, -0.013624096362901739, 0.010210620745154664, -0.0038771617689734583, 0.007174690297865105, 0.010636716246517963, -0.0025456133271966053, -0.004356519208015719, 0.004192021788268718, -0.005421757961473261, -0.011014261416982585, 0.015430290636972543, 0.01830643527123499, 0.005310522479375024, -0.005821222494002853, -0.005421757961457274, -0.004809245678245588, -0.025181936837628704, 0.006322499295142947, 0.0028338423776457233, 0.01258077697154647, -0.004862507615898792, 0.01042366849585008, 0.0098111562126304, 0.008852441334528116, 0.0016620797488604566, 0.0061893444509371065, -0.006220687026529781, -0.0013205887607519173, -0.002146148794650138, 0.0027006875334647518, 0.021395627656191962, -0.001746684262126763, -0.007765283219006491, -0.02635369946642463, 0.009917680087969671, 0.003339830785519027, 0.008985596178701094, -0.00041513582031171836, -0.007472342561834822, 0.00488442697797975, 0.000570210026605622, -0.014023560895418896, 0.012367729220845725, -0.013171369892664764, -0.0003086119449973168, -0.007019616091630709, 0.00046368615123526524, 0.01034377558933297, 0.0023544849386016864, -0.007818545156684564, 0.0009430435902944012, -0.014396394459121886, -0.005155448273090002, 0.002567532689262464, -0.03085433319965869, -0.008218009689237249, -0.018497563659840566, -0.005794591525169146, -0.0020928868569844994, -0.01032185622723869, 0.006402392201640517, -0.0018265771686278853, -0.006460365746058905, -0.012345809858759438, 0.014152004132854223, -0.001267326823076509, -0.028936903443470108, -0.0017733152309418188, -0.0015602674802641658, -0.012372440827609132, 0.004937688915682692, -0.008484319377582317, 0.003153414003662647, -0.0023858275141890317, 0.010104096869815393, -0.010162070414228452, 0.013752539600333513, 0.02027712696509454, -0.011573511762528632, 0.004085497912931224, -0.005341865054926842, -0.0183644088156667, -0.0011341719789053073, 0.01332644409895245, 0.005763248949602229, 0.010450299464676682, 0.0006767339019280172, 0.004218652757094432, 0.0017153416865447468, -0.003557590142967193, 0.012713931815717672, 0.008293190988985621, 0.004511593414293635, 0.005390415385873482, -0.00129395779189867, 0.011329121436260081, -0.010854475603968794, -0.00033524291383812965, 0.007574154830423119, -0.007472342561815282, -0.0036374830494549926, -0.01708612231153772, -0.01160014273136678, -0.005395126992629784, -0.01591435968278354, 0.004431700507800507, -0.00920335553614926, -0.0030782327039062807, -0.0012140648854002123, -0.009895760725882496, -0.0028385539843744922, -0.017458955875234494, -0.004622828896391873, 0.004325176632434591, -0.00779191418784464, -0.01056153494676515, 0.004671379227319861, 0.010876394966042646, -0.01463607317865634, -0.008990307785484042, -0.007578866437159881, 0.007068166422541822, 0.018945578523304363, -0.01359746539404405, -0.0057679605563301095, 0.004857796009161142, -0.010215332351883433, -0.007712021281330195, 0.020916270217166577, -0.007738652250158573, 0.003632771442713789, -0.01098763044814266, 0.012021526626001311, 0.02669519045451363, -0.0018265771686287735, 0.004032235975250487, 0.010530192371197344, 0.003925712099894341, -0.01354420345636509, 0.01194163371948953, 0.003233306910193079, 0.009944311056783839, -0.010747951728627747, 0.00286047334646522, 9.085258757135506e-05, 0.003606140473860542, 0.010743240121887432, -0.008723998097091012, 0.004005605006419444, 0.012607407940378401, 0.016921624891787168, -0.004143471457345171, 0.0006501029331120733, -0.001959732012788429, -0.0016667913555927782, -0.002226041701175241, -0.0061141631511913985, 0.007387738048572068, 0.009757894274950552, 0.008186667113633916, -0.019269861756055384, 0.001955020406065877, 0.008452976801986978, 0.010743240121883879, -0.022918304486574392, -0.00496903149125405, -0.01735243199990233, 0.00792035742528796, 0.00568335604307979, 0.004138759850599527, -0.0001754571008056871, 0.002407746876277983, 0.017081410704784084, -0.0011874339165531822, 0.0008897816526234337, 0.008985596178725075, -0.001267326823081838, -0.005688067649828099, 0.011355752405099118, 0.00435180760127718, -0.01279853632898309, 0.009411691680102585, -0.0005749216333628127, -0.021932958639647282, 0.010876394966075509, 0.015856386138362488, -0.00989576072586651, -0.0024124584830245155, -0.023610709676310293, 0.012687300846877747, -0.008963676816602373, -1.5671287806995338e-05, -0.00992239169470821, -0.012265916952269862, 0.001129460372154334, 0.0056300941053777365, 0.00107619843447182, -0.005688067649833428, -0.012478964702939521, 0.004564855351968156, -0.002332565576511847, 0.017560768143860983, -0.0014004816672379405, 0.012634038909234313, -0.0058212224939833135, 0.014604730603065441, -0.0029983397973998294, -0.002625506233699504, 0.009172012960566356, -0.0052353411796026705, 0.0042985456635964425, -0.0073658186864618, -0.006353841870699206, 0.0010229364968088461, -0.005235341179592901, -0.008431057439909573, 0.0009430435902961776, -0.00038850485150732084, 0.010450299464666024, 0.011488907249292524, 0.004964319884514623, -0.007206032873467549, -0.0039037927378018367, -0.0058478534628099155, -0.021213922481082115, 0.0014224010293411027, 0.013539491849637209, -0.0031847565792526566, -0.002918446890888049, -0.01775189653242748, 0.009012227147532137, -0.0021461487946341506, -0.013677358300574483, 0.015510183543467448, 0.00022400743174788573, -0.019136706911886847, -0.005315234086114451, -0.011040892385804746, -0.00020208806964117088, -0.0011075410100565009, 0.004857796009169135, 0.0010229364967866417, 0.0014490319981907973, -0.031866310015415955, 0.006189344450943324, -0.01658013390364932, -0.006353841870699206, 0.018279804302408387, 0.003339830785510145, 0.0006234719642819186, 0.003872450162236696, 0.014791147384905834, -0.002705399140209508, 0.012820455691060495, -0.0013738506984219967, -0.01711275328037587, 0.0028871043153211318, -0.006486996714892612, -0.013517572487529605, -0.00856421228407278, 0.0051773676351905, -0.00020208806964117088, -0.001826577168626109, -0.018497563659839678, 0.011249228529764288, 0.01417863510171724, 0.010663347215359664, -0.0011608029477221393, -0.009336510380316021, 0.005070843759853005, -0.011706666606714933, 0.0009430435902819667, -0.0034244352987666815, 0.0018218655618742474, 0.011941633719492195, 0.005283891510526217, -0.004116840488507911, 0.003819188224579939, 0.011515538218112908, 0.006455654139323919, -0.00387716176899211, 0.015110719010928975, -0.010934368510477022, 0.0007299958396291828, -0.021373708294106564, -0.002918446890883608, 0.009491584586585944, -0.009576189099839816, -0.012212655014607776, -0.0040902095196670984, -0.014769228022811554, 0.006162713482138926, 0.004484962445455487, -0.006593520590224777, 0.00842634583315327, -0.00307823270390184, -0.0024923513895149796, -0.012984953110804831, -0.025927603965025803, -0.005688067649804118, 0.00954484652426757, -0.027552093064004524, 0.016229219702053932, -0.0005482906645033481, -0.005475019899144229, 0.003686033380396303, 0.017640661050355888, -0.019110075943073568, -0.0040635785508555955, 0.00038379324474036025, 0.001502293935847554, 0.0010495674656558762, -0.0002819809761636094, -0.008670736159439585, 0.0009963055279689215, 0.012953610535253013, -0.0009743861658737529, -0.007685390312506257, -0.0005482906645140062, -0.009496296193322706, 0.01670857714109708, -0.010827844635124428, 0.004271914694772505, -0.013251262799188979, -0.02004215985231017, -0.010881106572795396, 0.0016887107177021576, 0.011888371781823004, -0.00395705467548968, 0.005283891510534211, 0.01274056278455582, 0.0014490319981783628, 0.017507506206175805, -0.010854475603963465, 0.0003039003382401262, 0.0045648553519823665, 0.004192021788255396, -0.0009211242282027854, -0.005901115400503976, 0.009145381991719326, -0.02054814826019946, -0.003664114018302911, 0.0228869619109906, -0.014822489960486074, -0.012798536328979537, 0.0027805804399783085, 0.009118751022879401, 0.011409014342779855, -0.006779937372078493, 0.014551468665403355, -0.005981008307006874, -0.004889138584752928, 0.020729853435305756, -0.007365818686479564, 0.008639393583848687, -0.0025988752648649083, 0.008905703272204413, 0.006162713482122939, -0.005368496023809399, -0.009789236850535232, 0.0009696745591432077, 0.003632771442733329, 0.01764066105034523, 0.0021414371879204808, 0.0033664617543500697, 0.013832432506839965, -0.0012140648854073177, -0.004223364363864945, -0.0009211242282161081, -0.006673413496742775, 0.009864418150297816, -0.01333115570570964, -0.00041513582031615925, 0.004005605006424773, 0.008293190988987398, 0.0003305313070871563, 0.00011748355638818708, 0.014444944790050762, 0.005097474728693818, 0.00528389151052977, 0.009012227147554341, 0.008160036144788663, 0.006881749640665902, 0.0023544849385883637, 0.01588301710718376, -0.0052619721484292725, -0.008218009689238137, 0.022114663814778446, -0.007285925779957125, 0.008825810365710396, 0.016096064857890724, -0.012079500170413482, -0.008777260034768197, -0.006460365746051799, -0.008963676816620136, -0.0004950287268359332, -0.009815867819351176, -0.0016934223244353674, -0.0007080764775331261, -0.0007347074463703862, 0.007600785799237286, -0.008510950346412471, 0.008586131646166173, -0.0032380185169209597, -0.008963676816607702, 0.0068817496407094225, 0.016149326795535934, 0.01985103146372591, 0.02259402125379051, 0.014524837696561654, -0.011999607263881273, 0.009811156212621519, -0.0076054974059829306, 0.00656217801466763, -0.008297902595720608, 0.008745917459192398, -0.010694689790948786, 0.006695332858848602, -0.0021727797634891743, 0.008932334241022133, 0.015110719010957396, -0.002146148794651914, 0.010050834932121333, 0.00392571209990944, 0.0007832577772823868, -0.02169327992013592, 0.0008098887461187587, 0.010210620745162657, -0.009895760725884273, 0.008452976801988754, 0.007014904484852202, 0.017747184925687165, 0.0003837932447625647, 0.0019283894372215116, 0.011728585968797667, -0.0019863629816292416, 0.013033503441770122, 0.02698813111171816, 0.004511593414274984, 0.005283891510527106, 0.006775225765363935, 0.005843141856092693, -0.006486996714901494, 0.002274592032105005, 0.0031001520659987847, -0.003131494641575472, -0.022705256735887858, 0.004777903102650249, 0.004671379227311867, -0.008031592907377316, -0.014369763490281962, -0.001560267480269495, 0.007946988394102128, 0.009278536835906515, 0.00025063840055672415, 0.0075208928927432694, 0.0031534140036724168, 0.018279804302412828, -0.003184756579254433, 0.003313199816693313, -0.004809245678240259, -0.0036907449871366182, -0.019403016600245238, 0.01007746590099412, -0.006380472839546236, 0.021209210874348017, -0.006486996714897941, -0.014183346708433575, 0.0019550204060614362, -0.027232521437969837, -0.0040369475819987954, -0.005927746369347453, -0.015461633212562553, -0.0029450778597128746, 0.0016354487800445128, 0.0009430435902890721, -0.007472342561817946, 0.015297135792806671, -0.0019863629816141426, -0.004090209519653776, 0.006508916076989557, -0.009602820068684181, -0.018470932691012187, 0.007920357425271085, -0.01863071850404463, -0.00041513582032948193, -0.037671861221610925, -0.00643373477723852, 0.009438322648916753, 0.0029137352841477338, -0.014689335116318425, 0.01716130361128876, -0.007365818686449366, 0.0038724501622509067, -0.00555491280562137, 0.007361107079725038, 0.014950933197938276, 0.0008897816526287627, -0.008324533564548986, -0.0006548145398523886, 0.013672646693814627, 0.004271914694795598, -0.004835876647078408, -0.0013205887607625755, 0.020836377310645027, -0.0003618738826380863, 0.01465799254072575, -0.0062473179953448366, -0.005395126992635113, 0.009784525243786035, 0.010556823340025723, 0.010876394966062186, 0.0008365197149684533, -0.008191378720378673, 0.0010495674656407772, 0.0005968409954455467, -0.010002284601223543, -0.0015602674802526195, 0.00682848770302158, -0.0033445423922513484, -0.002785292046719512, 0.002461008813940957, 0.001635448780035631, -0.00422336436382853, 0.006908380609538689, -0.013783882175887108, 0.007627416768094086, 0.003978974037588401, -0.012265916952265421, -0.005741329587499955, 0.025656582669909334, 0.017587399112672486, -0.012718643422478415, 0.004698010196167779, 0.006482285108140751, -0.0015602674802854821, -0.01157351176252508, -0.014742597053999162, -0.0008146003528581858, -0.004835876647087289, -0.020228576634148787, -0.0020396249193082028, 0.008586131646170614, -0.0006015526021831974, -0.0012406958542214852, 0.0005968409954357767, -0.005608174743303884, 0.00613608251328035, 0.004192021788282041, -0.009895760725886937, 0.01314002731708186, 0.030663204811051337, 0.01678847004760975, -0.009975653632376513, 0.0033664617543598396, -0.002998339797398053, -0.009283248442648606, 0.006615439952319058, -0.011919714357387257, -0.017272539093381667, -0.02033510050950138, 0.010450299464693558, -0.013624096362882199, -0.005315234086126885, -0.003664114018283371, -0.013411048612217868, 0.017321089424323866, 0.016655315203411014, -0.0011075410100351846, -9.556419429834762e-05, 0.007627416768087869, -0.0037706378936466223, -0.0036374830494754207, -0.0027852920467026365, -0.007552235468317292, 0.011701954999969288, 0.020357019871603654, 0.0017153416865340887, -0.004436412114532828, -0.0047826147093879, 0.009731263306100857, -0.009229986504997179, -0.010188701383059495, -0.003797268862481218, 0.0040056050064185555, -0.015621419025571015, 0.013299813130116966, 0.0058697728249272885, -0.0044097811457017855, 0.005630094105422145, 0.01604280292021265, -0.011493618856029286, 0.006002927669099378, 0.00712142836019769, -0.00022871903848553643, -0.004995662460086869, 0.006215975419790354, -0.0023591965453251262, -0.01112078529232452, 0.007414369017390676, 0.01234109825201024, -0.0007879693840413537, 0.0034729856297071038, -0.0007613384151934355, -0.00507555536658888, 0.00866602455266996, -0.013837144113593602, 0.0009164126214757928, -0.003504328205284679, -0.0013205887607457, 0.0024610088139347397, 0.004032235975254039, -0.007978330969674374, -0.007365818686455583, 0.012287836314348155, 0.0020615442813980422, -0.002492351389522973, 0.004911057946842767, 0.00038379324473236665, 0.0032865688478542765, -0.002012993950478048, 0.003206675941346049, 0.012207943407867461, 0.011808478875320105, 0.004698010196165114, -0.004969031491239839, 6.422161870300869e-05, 0.015243873855136592, 0.003472985629714209, -0.004116840488507911, 0.0008365197149462489, -0.004463043083370977, 0.0009164126214624702, 0.007494261923898016, -0.006939723185099389, -0.00973597491285716, 0.02435166519697063, -0.02060141019787043, -0.0008944932593522026, 0.0005968409954348886, 0.0002506384005700468, -0.0006281835710213457, 0.01598954098252925, -0.003317911423427411, -0.01564804999442071, 0.012980241504075174, 0.004085497912934777, -0.0186040875351825, -0.01420997767728771, -0.01394366798892488, 0.0006501029330978625, 0.004245283725921034, -0.010508273009093294, 0.011062811747900803, 0.009731263306115068, 0.00909212005406701, -0.011200678198847847, -0.01697959843619934, -0.005128817304262512, 0.000277269369397537, 0.008000250331790859, 0.008293190988980292, 0.010823133028373455, -0.012771905360132507, -0.0002287190384739901, 0.02123584184320393, 0.0072279522355307435, -0.009815867819371604, -0.0060076392758396935, -0.000281980976146734, -0.002865184953229516, 0.004298545663605324, 0.005017581822198025, -0.0023591965453517716, 0.0004104242135767322, -0.02358407870748014, -0.004782614709405664, 0.012021526626005752, -0.002518982358349575, -0.0018798391062961883, 0.01649552939042387, 0.0038458191933923302, -0.004995662460090422, -0.00994902266356057, 0.012767193753391304, -0.02779177178353276, 0.01929178111817187, -0.003850530800136198, -0.014902382867010289, 0.008026881300645883, -0.007152770935796582, 0.0013691390916825696, -0.005341865054941941, 0.01588301710720952, 0.011036180779058213, 0.011595431124606925, -0.017751896532458566, -0.014316501552618988, -0.007578866437148335, -0.0001488261319719797, -0.002332565576501189, -0.004542935989862329, -0.0032113875480943577, 0.005843141856091805, 0.0030202591594878925, 0.00022400743173989213, 0.0051241056975168675, -0.0004683977579942322, 0.0013957700605153889, 0.0008897816526189928, 0.002514270751590608, 0.014231897039355346, -0.008564212284080774, -0.013730620238222357, -0.013703989269402861, 0.015536814512298491, 0.0070415354536939034, 0.01489767126027619, -0.0006814455086905369, -0.003371173361096602, -0.0008146003528706203, -0.0077120212813239775, -0.00787180709437596, -0.0025988752648560265, -0.009815867819374269, 0.002700687533470969, -0.005528281836799209, 0.004298545663597331, 0.014844409322593677, -0.008963676816611255, -0.006460365746044694, -0.0066201515590824656, -0.0019064700751236785, 0.017534137175019282, -0.012159393076908387, 0.024697867791868333, 0.007467630955051874, -0.007578866437158993, 0.00829319098898651, -0.0008944932593628607, 0.003845819193387001, -0.0017733152309586941, 0.013938956382173018, -0.005661436680962417, 0.0035795095050463743, -0.011919714357384592, 0.010237251713994588, 0.01340633700545002, 0.0098111562126304, -0.0025988752648702373, -0.01088110657277852, 0.007094797391361318, -0.01146698788720446, -0.007285925779985547, 0.02014397212089314, 0.006109451544441313, 0.00981115621259665, -0.011387094980682022, 0.0028604733464820953, -0.012771905360124514, -0.010028915570044816, 0.005736617980732994, -0.006407103808389714, 0.007334476110888666, -0.002811923015552331, 0.01026388268282119, -0.008963676816622801, -0.006620151559054932, 0.0008897816526136637, 0.007281214173217698, 0.00834645292666103, 0.005070843759860111, 0.0036860333803891976, -0.0009211242282081145, -0.007738652250166567, 0.0029403662529743357, -0.013490941518703892, 0.007281214173219475, 0.003126783034828051, -0.0021727797634758517, 0.004804534071508826, 0.00176860362419351, -0.0004417667891489785, -0.004489674052204684, -0.0003885048514717937, 0.00645565413930882, -0.0067533064032305745, 0.020490174715784626, -0.004969031491239839, 0.019211888211637884, 0.020197234058599633, 0.0015289249046901432, 0.006215975419769926, -0.00938977231800564, 0.007041535453712555, 0.013113396348261475, -0.005235341179614217, -0.011440356918353878, -0.003637483049442558, -0.01599425258927223, 0.010024203963320488, -0.01058816591559264, -0.008138116782711258, -0.015328478368388687, -0.0004950287268110642, -0.005128817304247413, -0.006566889621402616, -0.009283248442658376, -0.009096831660817983, 0.010903025934890564, -0.011759928544377907, -0.011413725949505071, 0.015749862262994796, 0.0070149044848628606, -0.0014004816672432696, 0.013459598943135198, -0.011813190482039104, -0.01708612231152795, -0.01671328874784006, 0.010450299464675794, 0.004245283725941462, -0.004223364363851623, -0.009256617473810458, -0.005981008307020197, 0.01383243250682753, 0.020410281809269293, -0.00891041487895805, 3.759064988440031e-05, 0.009811156212624184, -0.0035043282052908964, -0.009283248442645053, 0.0005435790577594801, 0.0024610088139285224, 0.005949665731417753, 0.01471125447842514, -0.0008146003528679557, -0.009842498788191989, 0.011888371781823004, -4.2302256621162826e-05, 0.0027805804399720913, 0.0013957700605153889, 0.013246551192431788, -0.011227309167656685, 0.006402392201643181, 0.015856386138348277, 0.010157358807489913, 0.015270504823958753, -0.005794591525160264, -0.007791914187845528, -0.00555491280563114, -0.002545613327225915, -0.002199410732337981, -0.00017545710079680532, 0.005843141856097134, 0.003978974037570637, -0.008857152941284419, 0.0009430435903086121, -0.003344542392284211, 0.0019017584683851396, 0.014152004132857776, 0.01644226745273958, 0.012420991158529127, -0.02179980379548141, -1.5671287782126342e-05, 0.009038858116389825, 0.0018218655618857937, -0.0037173759559747666, 0.002114806219074339, -0.0145828112409907, 0.005683356043081567, 0.008852441334538774, -0.0008678622905318178, -0.0040902095196573285, 0.0031267830348449266, -0.01479585899167013, 0.004138759850598639, -0.007685390312505369, 0.010290513651679767, -0.010614796884441446, 0.010370406558187106, 0.010743240121858122, -0.026247175591056937, 0.02152878250038981, 0.004085497912901914, 0.01961135274419412, 0.0032599378790330036, 0.004245283725925475, -0.011813190482062197, 0.013752539600317526, -0.013890406051245918, 0.01596291001370176, 0.020277126965102532, -0.009283248442653047, -0.009895760725875391, -0.01940301660026922, 0.0017419726553740134, 0.011036180779055549, 0.01351286088080439, -0.01764537265710242, -0.013677358300583364, 0.011622062093439745, -0.011600142731360563, -0.005102186335433245, 0.005177367635183394, 0.01513734997977867, 0.009837787181444568, 0.008452976801996748, -0.012798536328983978, -0.0014271126360894115, 0.0003305313070942617, -0.0011075410100538363, 0.0009164126214713519, 0.010397037527005715, -0.022225899296842044, 0.004964319884528834, -0.007765283219014485, 0.00011748355638641073, 0.009624739430787344, -0.002279303638839103, 0.005044212791010416, -0.0039836856443207225, -0.0025189823583611215, 0.008053512269452945, 0.010290513651669109, 0.007946988394111898, 0.018040125582883704, 0.014285158977031642, 0.0020615442813989304, 0.014045480257531828, -0.0009743861658746411, -0.014609442209828849, -1.567128779988991e-05, -0.0012939577919057754, 0.007920357425284408, 0.01010409686983138, 0.004192021788271383, 0.0068284877030011515, -0.0024923513895247495, 0.000809888746130305, -0.0034776972364456427, 0.02435166519695997, -0.0016934223244540192, 0.013353075067786158, 0.002807211408803134, 0.00035716227592352823, -0.002705399140205955, -0.007232663842296816, 0.002620794626941425, 0.0095448465242578, -0.00970934394402967, 0.006908380609528919, 0.010849763997216044, -0.013810513144721703, -0.0041168404884937004, 0.002620794626951195, -0.002199410732334428, 0.005763248949588906, -0.010028915570045704, 0.017480875237319005, 0.0008631506837897263, 0.00914538199171222, 0.006562178014663189, 0.012527515033870174, 0.015323766761621727, -0.008644105190573903, -0.0028918159220578943, -0.0006814455086905369, -0.0029450778597208682, 0.0025409017204323092, -0.0017200532932886148, -0.00896367681661836, 0.004298545663601772, -0.0009211242282143317, 0.017933601707539992, -0.014369763490270415, -0.006806568340924635, -0.014609442209809309, -0.02046825535369301, -0.005155448273104213, -0.0016667913556025482, 0.007254583204374221, 0.005390415385882363, -0.007552235468303969, 0.005150736666366562, 0.006721963827648558, -0.004489674052198467, 0.006482285108144303, 0.01290034859757494, -0.01942964756909138, 0.00616271348211761, 0.00043705518242997954, -0.0038238998313051553, -0.0019597320128061924, 0.015590076449987222, -0.016793181654329636, -0.00821800968921682, -0.006646782527891304, -0.017032860373872083, 0.005124105697515979, 0.0009963055279786914, -0.006407103808385273, -0.005554912805624923, 0.0007299958396007611, 0.018652637866112265, -0.009203355536136826, 0.001129460372139235, -0.009895760725862957, -0.0015602674802543959, -0.010401749133762017, 0.01412537316403828, -0.006460365746034924, -0.016766550685513693, 0.010476930433509501, -0.005874484431673821, 0.009198643929398287, 0.0033398307855270204, -0.008404426471059878, 0.007520892892754816, -0.0013738506984024568, -0.001560267480265054, 0.004271914694777834, 0.00669533285882995, -0.013118107955019553, -0.014023560895424225, -0.0015336365114100303, -0.015621419025531935, -0.023078090299586407, 0.013646015724989802, -0.0019863629816532224, -0.004702721802878784, -0.007765283219003827, -0.008457688408740616, 0.0025675326892802275, 0.008958965209886927, 0.01321992022359364, -0.01125394013649128, 0.019158626274000667, 0.007946988394141208, 0.0028604733464741017, -0.0012673268230756207, 0.001795234593065409, -0.010934368510452153, 0.0032066759413398316, 0.015004195135603915, 0.012740562784546938, -0.0028385539843913676, 0.005177367635186059, -0.005421757961460827, -0.0009743861658808584, 0.01284708665991019, 0.007494261923915779, -0.005634805712155355, -0.00020208806962518366, -0.011813190482062197, 0.005283891510524441, -0.008644105190593443, 0.006668701889993578, -0.00480924567823493, 0.0004370551824361968, 0.010450299464691781, 0.016415636483908536, -0.0026521372025287704, 0.013086765379436649, 0.002753949471128614, -0.0013738506984148913, -0.0026255062336932866, -0.005794591525153159, 0.0009696745591361022, -0.010348487196082168, 0.009305167804743775, -0.002891815922075658, -0.008510950346416024, 0.0037925572557142573, -0.009229986504964316, 0.0009696745591245559, 0.013086765379426879, 0.0015555558735345087, -0.0048891385847413815, 0.002247961063249093, 0.00831982195781844, 0.002887104315313138, 0.008426345833155047, -0.0027053991402379296, 0.008080143238275106, -0.0017200532932717394, 0.005150736666350575, 0.0003571622759332982, 6.422161871633136e-05, -0.005554912805644463, 0.026375618828497593, -0.005102186335417258, 0.002247961063282844, -0.00028198097613696405, -0.017618741688257167, 0.002354484938585699, -0.007738652250172784, 0.011888371781831886, 0.014924302229111674, -0.002439089451837795, 0.005976296700274553, -0.01160014273137655, -0.0180182062207761, 0.019345043055834843, 0.0169748868294608, 0.011409014342774526, -0.0031048636727515344, 0.015456921605808027, -0.0074723425618294925, 0.021209210874363116, -0.006087532182363908, -0.0028385539843958085, -0.006194056057703179, 0.007148059329051826, 0.005789879918399521, 0.0017952345930272173, -0.008484319377577876, 0.004271914694788492, 0.007680678705758837, 0.002114806219076115, -0.006087532182351474, 0.0015289249046830378, 0.014311789945887554, 0.013246551192466427, -0.010881106572790067, -0.007712021281350623, -0.002252672669992073, -0.0004683977580066667, -0.005554912805625811, 0.014551468665398026, 0.0037126643492042533, -0.022785149642406743, -0.004755983740563963, -0.0074457115929780215, -0.0033978043299338623, 0.009198643929424044, -0.0007347074463464054, 0.0035528785362215487, 0.006215975419766373, 0.020277126965086545, -0.01583446677624245, -0.0008944932593664134, 0.010982918841394351, -0.008164747751539636, -0.009176724567306671, -0.013783882175902207, -0.002332565576501189, -0.0018265771686198917, -0.013251262799179209, 0.013193289254752827, 0.0003039003382321326, 0.011994895657172933, 0.021661937344547688, 0.010903025934873689, 0.001848496530738153, -0.00334454239227, -0.010428380102562862, -0.01604751452694142, -0.004782614709388788, -0.004542935989880981, 0.004564855351945063, -0.0036108520805990807, 0.004511593414285642, -0.0056081747433154305, 0.002114806219075227, -0.0030249707662415304, 0.007600785799256826, 0.0028871043153184672, -0.0016667913556078773, 0.017454244268482633, -0.005182079241945026, -0.005102186335430581, 0.012341098252030669, -0.010268594289571276, 0.005337153448211396, 0.008000250331791747, 0.01180847887532721, 0.0024876397827808816, -0.015115430617685277, -0.0006015526021769801, 0.008399714864332886, 0.0028871043153211318, 0.01545692160579204, -0.019136706911903723, -0.018604087535169178, 0.008559500677343124, -0.004542935989864105, -0.015062168680031185, 0.01654879132806908, -0.008218009689204386, 0.0018484965307159484, 0.004831165040321217, 0.013646015724989802, 0.0029936281906453033, -0.018950290130035796, -0.015275216430707061, 0.004484962445448382, -0.006939723185098501, 0.00911875102287496, -0.0017733152309400424, 0.005044212791002423, 0.0008365197149604597, -0.009869129757030137, 0.0008897816526332036, -0.0007080764775118098, 0.011249228529774946, -0.0047027218028850015, -0.004596197927549284, 0.0007832577772672877, 0.00704153545369568, -0.005075555366601314, 0.0020349133125563412, 0.006162713482122939, 0.007946988394107457, 0.01151553821811735, -0.0020396249192931037, -0.013331155705698983, -0.010614796884445, -0.008031592907373764, 0.004112128881772925, -0.006859830278581391, -0.01114741626114224, -0.019642695319763703, -0.020468255353681464, -0.0027320301090245636, -0.0019597320128106333, 0.009757894274960321, 0.0033131998166746612, -0.020441624384853974, 0.00672196382767698, 0.0005435790577630328, 0.005310522479354596, -0.004622828896382103, 0.0021414371879133753, 0.009145381991737978, 3.759064991015748e-05, 0.0021946991255878956, 0.009864418150288046, -0.002545613327185059, 0.009731263306119509, -0.00872399809707769, 0.0049110579468285565, -0.004383150176872519, -0.007365818686465353, -0.012638750515947983, 0.004165390819419024, 0.01756076814385743, -0.02893690344345945, -0.011520249824861217, 0.0012359842474989335, -0.014636073178647457, -0.0006281835710160166, -0.002545613327190388, -0.005155448273101548, 0.005443677323540896, 0.0005169480889168909, -0.008537581315247955, -0.0025189823583513515, 0.014578099634225516, 0.008186667113635693, 0.00893233424104345, 0.01282045569105783, -0.016233931308776484, 0.011781847906479292, -0.006593520590229218, -0.006540258652560915, -0.003744006924794263, -0.02704610465613655, -0.003744006924803145, 0.005257260541685405, -0.003744006924797816, 0.0077872025810847845, -0.003024970766239754, -0.0039304237066577485, -0.004942400522408796, -0.0037972688624696715, -0.005022293428920577, 0.004831165040322993, 0.0038458191933896657, 0.002966997221807155, -0.021080767636909137, -0.02837765309791429, 0.0017419726553802306, -0.006194056057695185, -0.0004417667891436494, -0.021693279920148356, -0.003344542392254901, 0.0010761984344638265, 0.010130727838662423, 0.014977564166777313, -0.012665381484794125, -0.0022526726700089483, -0.0025456133271868353, -0.014076822833089864, 0.0006234719642890241, 0.012554146002708322, -0.019616064350929108, -0.0004151358203259292, 0.009624739430775797, -0.0058478534628099155, 0.004032235975234499, 0.0015555558735300679, 0.014205266070539402, -0.0037706378936288587, 0.00030390033824101437, -0.007845176125508502, 0.003126783034846703, -0.00603427024466896, 0.008213298082477394, -0.0010809100412130235, 0.02555005879459671, -0.013517572487563356, 0.0010495674656603171, 0.019824400494870886, 0.0058165108872492155, -0.0030516017350725733, -0.012292547921097352, 0.0023278539697662026, 0.0017419726553633552, 0.009278536835895856, -0.009549558131014102, -0.0027852920467115183, -0.0026787681713811295, -0.013437679581041806, -0.006273948964210518, 0.021582044438057224, -0.009735974912859824, -0.010854475603965241, 0.019851031463723245, 0.015749862263023218, 0.021795092188749976, 0.00816003614479488, 0.004511593414299853, 0.01564333838766352, 0.0016088178111859364, -0.005688067649808559, -0.0031581256104145083, 0.014737885447253518, 0.004937688915668481, 0.0023544849386016864, -0.005528281836809867, -0.01303821504850955, -0.008297902595708173, -0.00528860311730206, 0.0051507366663532395, 0.0077073096745996494, 0.0018751274995496559, -0.015142061586529643, 0.003259937879014352, -0.010321856227236914, -0.0003086119449893232, -0.011893083388573089, -0.011280571105331205, 0.003472985629702663, 0.010636716246521516, -0.0011341719789026428, 0.004511593414312287, -0.0005216596956749697, -0.011333833043011055, 0.00597629670026123, -0.0062206870265280045, 0.01804012558289081, -0.0087239980970919, -0.014689335116317537, 0.0005169480889088973, -0.01554152611907167, -1.5671287806995338e-05, 0.011808478875313888, 0.0041387598506013035, 0.0028871043153086973, -0.005821222494001077, 0.005923034762600032, 0.008373083895483191, 0.013166658285935995, -0.00417010242616378, -0.0027053991402130606, -0.023956912271184905, 0.0232864264435646, 0.007893726456439154, -0.0033179114234105356, -0.012478964702934192, -0.00816474775154763, 0.016442267452752013, -0.007632128374821967, 0.013619384756131225, -0.0024390894518404593, -0.00872399809710167, 0.0011294603721454521, 1.0959681038258395e-05, -0.000548290664507789, 0.005709987011920603, 0.0145248376965732, -0.0007347074463712744, -0.006700044465600463, -0.0055016508679539555, -0.002598875264869349, -0.013331155705688325, 0.006668701889974926, 0.018093387520567106, -0.006220687026529781, -0.01210613113923742, 0.004245283725937021, -0.00563480571212871, 0.005124105697517756, -0.004276626301524367, -0.002758661077882252, 0.020277126965121184, -0.0027053991402024025, 0.0068817496406747836, -0.0008146003528919366, 0.009598108461938537, -0.018151361064979277, 0.0030202591594870043, -0.010721320759791375, 0.002461008813926746, 0.013805801537987605, -0.009309879411468991, 0.0048844269780072835, -0.013624096362867988, 0.009864418150314691, -0.012612119547134704, -0.009656082006367583, -0.018950290130046454, 0.002620794626976952, 0.009784525243796693, 0.008106774207129241, 0.007014904484866413, -0.011307202074181788, -0.0004950287268359332, -0.011174047229995487, 0.010024203963310718, -0.01969595725745865, -0.0015602674802686067, 0.010476930433517495, 0.011542169186951057, -0.00677993737207494, -0.0014537436049222308, -0.0025988752648755664, 0.0021148062190814443, 0.005763248949551603, -0.005981008307012203, -0.019163337880710785, -0.0034510662676172643, 0.007627416768078099, 0.003819188224570169, 0.006402392201637852, 0.018120018489389267, -0.005102186335432357, -0.0045429359898800925, -0.00635384187069743, -0.00845768840874328, -0.0025189823583451343, -0.013730620238257885, -0.0032113875480925813, 0.015749862262990355, -0.0027320301090378862, 0.0020349133125536767, -0.0026521372025252177, 0.002913735284153063, -0.0012140648853993241, -0.0071527709357877, -0.007206032873447121, 0.0034463546608733964, 0.0049909508533385605, 0.012207943407831046, -0.010481642040232941, 0.002620794626965406, 0.01082313302837079, 0.0008897816526296509, -0.0026521372025500867, 0.0251505942620307, 0.013246551192429123, -0.008617474221768617, 0.0025675326892793393, -0.00760549740598826, 0.015643338387666184, -0.01575457386974488, 0.008186667113640134, -0.004622828896374109, 6.422161871011411e-05, -0.002758661077882252, 0.012154681470172513, -0.0025988752648817837, 0.008213298082468512, 0.02299348578632543, -0.0016934223244451374, 0.011675324031141798, -0.0047027218028850015, -0.001879839106304182, -0.009363141349145288, -0.0035575901429485413, 0.0009430435903103884, 0.012021526625984436, 0.0062426063886205085, -0.012265916952252987, 0.0011560913409942586, 0.002833842377639506, 0.010796502059529978, -0.011280571105326764, -0.0021461487946483615, 0.0048844269780170535, 0.005550201198886384]\n"
     ]
    }
   ],
   "source": [
    "# The difference in the means for Permutation1 (0.001103) now looks hugely different to our observed difference of 0.14206. \n",
    "# It's sure starting to look like our observed difference is significant, and that the Null is false; platform does impact on ratings\n",
    "# But to be sure, let's create 10,000 permutations, calculate the mean ratings for Google and Apple apps and the difference between these for each one, and then take the average of all of these differences.\n",
    "# Let's create a vector with the differences - that will be the distibution of the Null.\n",
    "\n",
    "# First, make a list called difference.\n",
    "difference = []\n",
    "\n",
    "# Now make a for loop that does the following 10,000 times:\n",
    "# 1. makes a permutation of the 'Rating' as you did above\n",
    "# 2. calculates the difference in the mean rating for apple and the mean rating for google. \n",
    "for i in range(10000):\n",
    "    df['sample'] = np.random.permutation(df['Rating'])\n",
    "    difference.append(np.mean(df[df['platform'] == 'google']['sample']) - np.mean(df[df['platform'] == 'apple']['sample']))\n",
    "\n",
    "print(difference)"
   ]
  },
  {
   "cell_type": "code",
   "execution_count": 219,
   "metadata": {
    "colab": {},
    "colab_type": "code",
    "id": "VlzpYTkYFcv_"
   },
   "outputs": [
    {
     "data": {
      "image/png": "[encoded data removed]",
      "text/plain": [
       "<Figure size 432x288 with 1 Axes>"
      ]
     },
     "metadata": {
      "needs_background": "light"
     },
     "output_type": "display_data"
    }
   ],
   "source": [
    "# Make a variable called 'histo', and assign to it the result of plotting a histogram of the difference list. \n",
    "histo = plt.hist(difference)"
   ]
  },
  {
   "cell_type": "code",
   "execution_count": 221,
   "metadata": {
    "colab": {},
    "colab_type": "code",
    "id": "KhqgDFd3FcwB"
   },
   "outputs": [
    {
     "name": "stdout",
     "output_type": "stream",
     "text": [
      "0.1555180170675543\n"
     ]
    }
   ],
   "source": [
    "# Now make a variable called obs_difference, and assign it the result of the mean of our 'apple' variable and the mean of our 'google variable'\n",
    "obs_difference = np.mean(df['apple']) - np.mean(df['google'])\n",
    "\n",
    "# Make this difference absolute with the built-in abs() function. \n",
    "obs_difference = abs(obs_difference)\n",
    "\n",
    "# Print out this value; it should be 0.1420605474512291. \n",
    "print(obs_difference)"
   ]
  },
  {
   "cell_type": "markdown",
   "metadata": {
    "colab_type": "text",
    "id": "QUNuuSgDFcwE"
   },
   "source": [
    "## Stage 4 -  Evaluating and concluding\n",
    "### 4a. What is our conclusion?"
   ]
  },
  {
   "cell_type": "code",
   "execution_count": 227,
   "metadata": {
    "colab": {},
    "colab_type": "code",
    "id": "XMQHnqx1FcwF"
   },
   "outputs": [
    {
     "data": {
      "text/plain": [
       "0.0"
      ]
     },
     "execution_count": 227,
     "metadata": {},
     "output_type": "execute_result"
    }
   ],
   "source": [
    "'''\n",
    "What do we know? \n",
    "\n",
    "Recall: The p-value of our observed data is just the proportion of the data given the null that's at least as extreme as that observed data.\n",
    "\n",
    "As a result, we're going to count how many of the differences in our difference list are at least as extreme as our observed difference.\n",
    "\n",
    "If less than or equal to 5% of them are, then we will reject the Null. \n",
    "'''\n",
    "np.sum([x for x in difference if x >= obs_difference])/len(difference)"
   ]
  },
  {
   "cell_type": "markdown",
   "metadata": {
    "colab_type": "text",
    "id": "4RTofY9wFcwI"
   },
   "source": [
    "### 4b. What is our decision?\n",
    "So actually, zero differences are at least as extreme as our observed difference!\n",
    "\n",
    "So the p-value of our observed data is 0. \n",
    "\n",
    "It doesn't matter which significance level we pick; our observed data is statistically significant, and we reject the Null.\n",
    "\n",
    "We conclude that platform does impact on ratings. Specifically, we should advise our client to integrate **only Google Play** into their operating system interface. "
   ]
  },
  {
   "cell_type": "markdown",
   "metadata": {
    "colab_type": "text",
    "id": "Cu_eh7fTFcwJ"
   },
   "source": [
    "### 4c. Other statistical tests, and next steps\n",
    "The test we used here is the Permutation test. This was appropriate because our data were not normally distributed! \n",
    "\n",
    "As we've seen in Professor Spiegelhalter's book, there are actually many different statistical tests, all with different assumptions. How many of these different statistical tests can you remember? How much do you remember about what the appropriate conditions are under which to use them? \n",
    "\n",
    "Make a note of your answers to these questions, and discuss them with your mentor at your next call. \n"
   ]
  }
 ],
 "metadata": {
  "colab": {
   "collapsed_sections": [
    "5fbRq2MZFcvq",
    "4RTofY9wFcwI",
    "Cu_eh7fTFcwJ"
   ],
   "name": "Springboard Apps project - Tier 3 - Complete.ipynb",
   "provenance": []
  },
  "kernelspec": {
   "display_name": "Python 3 (ipykernel)",
   "language": "python",
   "name": "python3"
  },
  "language_info": {
   "codemirror_mode": {
    "name": "ipython",
    "version": 3
   },
   "file_extension": ".py",
   "mimetype": "text/x-python",
   "name": "python",
   "nbconvert_exporter": "python",
   "pygments_lexer": "ipython3",
   "version": "3.9.7"
  }
 },
 "nbformat": 4,
 "nbformat_minor": 1
}
